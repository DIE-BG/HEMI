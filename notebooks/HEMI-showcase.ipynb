{
 "cells": [
  {
   "cell_type": "markdown",
   "metadata": {},
   "source": [
    "# Utilización de la HEMI en Julia"
   ]
  },
  {
   "cell_type": "code",
   "execution_count": 8,
   "metadata": {},
   "outputs": [],
   "source": [
    "using DrWatson\n",
    "@quickactivate \"HEMI\""
   ]
  },
  {
   "cell_type": "markdown",
   "metadata": {},
   "source": [
    "## Carga de datos\n",
    "\n",
    "Vamos a cargar los datos del IPC de Guatemala"
   ]
  },
  {
   "cell_type": "code",
   "execution_count": 9,
   "metadata": {},
   "outputs": [],
   "source": [
    "using Dates, CPIDataBase\n",
    "using JLD2"
   ]
  },
  {
   "cell_type": "code",
   "execution_count": 10,
   "metadata": {},
   "outputs": [
    {
     "data": {
      "text/plain": [
       "2-element Vector{Symbol}:\n",
       " :gt00\n",
       " :gt10"
      ]
     },
     "execution_count": 10,
     "metadata": {},
     "output_type": "execute_result"
    }
   ],
   "source": [
    "@load datadir(\"guatemala\", \"gtdata.jld2\") gt00 gt10 "
   ]
  },
  {
   "cell_type": "markdown",
   "metadata": {},
   "source": [
    "Los datos están guardados en estructuras de tipo `VarCPIBase`, que almacenan: \n",
    "- las matrices de variaciones intermensuales, \n",
    "- los vectores de ponderaciones, \n",
    "- las fechas asociadas a la base,\n",
    "- los índices base. "
   ]
  },
  {
   "cell_type": "code",
   "execution_count": 12,
   "metadata": {},
   "outputs": [
    {
     "data": {
      "text/plain": [
       "VarCPIBase{Float64, Float64}: 120 períodos × 218 gastos básicos Jan-2001-Dec-2010"
      ]
     },
     "execution_count": 12,
     "metadata": {},
     "output_type": "execute_result"
    }
   ],
   "source": [
    "gt00"
   ]
  },
  {
   "cell_type": "code",
   "execution_count": 13,
   "metadata": {},
   "outputs": [
    {
     "data": {
      "text/plain": [
       "VarCPIBase{Float64, Float64}: 122 períodos × 279 gastos básicos Jan-2011-Feb-2021"
      ]
     },
     "execution_count": 13,
     "metadata": {},
     "output_type": "execute_result"
    }
   ],
   "source": [
    "gt10"
   ]
  },
  {
   "cell_type": "markdown",
   "metadata": {},
   "source": [
    "Para computar los estimadores de inflación, utilizamos una estructura llamada `UniformCountryStructure <: CountryStructure`:"
   ]
  },
  {
   "cell_type": "code",
   "execution_count": 14,
   "metadata": {},
   "outputs": [
    {
     "data": {
      "text/plain": [
       "UniformCountryStructure{2, Float64, Float64} con 2 bases\n",
       "|─> VarCPIBase{Float64, Float64}: 120 períodos × 218 gastos básicos Jan-2001-Dec-2010\n",
       "|─> VarCPIBase{Float64, Float64}: 122 períodos × 279 gastos básicos Jan-2011-Feb-2021\n"
      ]
     },
     "execution_count": 14,
     "metadata": {},
     "output_type": "execute_result"
    }
   ],
   "source": [
    "gtdata = UniformCountryStructure(gt00, gt10)"
   ]
  },
  {
   "cell_type": "markdown",
   "metadata": {},
   "source": [
    "### Seleccionar períodos específicos\n",
    "\n",
    "Podemos seleccionar períodos específicos para llevar a cabo el cómputo de inflación con una operación de indexado más intuitiva."
   ]
  },
  {
   "cell_type": "code",
   "execution_count": 15,
   "metadata": {},
   "outputs": [
    {
     "data": {
      "text/plain": [
       "UniformCountryStructure{2, Float64, Float64} con 2 bases\n",
       "|─> VarCPIBase{Float64, Float64}: 120 períodos × 218 gastos básicos Jan-2001-Dec-2010\n",
       "|─> VarCPIBase{Float64, Float64}: 120 períodos × 279 gastos básicos Jan-2011-Dec-2020\n"
      ]
     },
     "execution_count": 15,
     "metadata": {},
     "output_type": "execute_result"
    }
   ],
   "source": [
    "gtdata[Date(2020,12)]"
   ]
  },
  {
   "cell_type": "markdown",
   "metadata": {},
   "source": [
    "Para obtener una base del IPC en la estructura, indexamos por enteros: "
   ]
  },
  {
   "cell_type": "code",
   "execution_count": 22,
   "metadata": {},
   "outputs": [
    {
     "data": {
      "text/plain": [
       "100.0"
      ]
     },
     "execution_count": 22,
     "metadata": {},
     "output_type": "execute_result"
    }
   ],
   "source": [
    "gtdata[1].baseindex"
   ]
  },
  {
   "cell_type": "code",
   "execution_count": 17,
   "metadata": {},
   "outputs": [
    {
     "data": {
      "text/plain": [
       "VarCPIBase{Float64, Float64}: 122 períodos × 279 gastos básicos Jan-2011-Feb-2021"
      ]
     },
     "execution_count": 17,
     "metadata": {},
     "output_type": "execute_result"
    }
   ],
   "source": [
    "gtdata[2]"
   ]
  },
  {
   "cell_type": "markdown",
   "metadata": {},
   "source": [
    "### Agregar una base del IPC"
   ]
  },
  {
   "cell_type": "markdown",
   "metadata": {},
   "source": [
    "Supongamos ahora que tenemos una nueva base ficticia del IPC con 300 gastos básicos con base en diciembre de 2022. "
   ]
  },
  {
   "cell_type": "code",
   "execution_count": 23,
   "metadata": {},
   "outputs": [
    {
     "data": {
      "text/plain": [
       "VarCPIBase{Float64, Float64}: 60 períodos × 300 gastos básicos Jan-2023-Dec-2027"
      ]
     },
     "execution_count": 23,
     "metadata": {},
     "output_type": "execute_result"
    }
   ],
   "source": [
    "# Creamos algunos datos ficticios\n",
    "v22 = randn(60, 300)\n",
    "w22 = rand(300)\n",
    "gt22 = VarCPIBase(v22, w22, Date(2023,1):Month(1):Date(2027,12), 100.0)"
   ]
  },
  {
   "cell_type": "code",
   "execution_count": 30,
   "metadata": {},
   "outputs": [
    {
     "data": {
      "text/plain": [
       "UniformCountryStructure{3, Float64, Float64} con 3 bases\n",
       "|─> VarCPIBase{Float64, Float64}: 120 períodos × 218 gastos básicos Jan-2001-Dec-2010\n",
       "|─> VarCPIBase{Float64, Float64}: 122 períodos × 279 gastos básicos Jan-2011-Feb-2021\n",
       "|─> VarCPIBase{Float64, Float64}: 60 períodos × 300 gastos básicos Jan-2023-Dec-2027\n"
      ]
     },
     "execution_count": 30,
     "metadata": {},
     "output_type": "execute_result"
    }
   ],
   "source": [
    "gtnewdata = UniformCountryStructure(gt00, gt10, gt22)"
   ]
  },
  {
   "cell_type": "markdown",
   "metadata": {},
   "source": [
    "## Cómputo de estimadores de inflación\n",
    "\n",
    "La librería base incluye la variación interanual del IPC como función más básica de inflación. Para poder aplicarla, la instanciamos como un objeto. "
   ]
  },
  {
   "cell_type": "code",
   "execution_count": 26,
   "metadata": {},
   "outputs": [
    {
     "data": {
      "text/plain": [
       "(::TotalCPI) (generic function with 5 methods)"
      ]
     },
     "execution_count": 26,
     "metadata": {},
     "output_type": "execute_result"
    }
   ],
   "source": [
    "totalfn = InflationTotalCPI()"
   ]
  },
  {
   "cell_type": "markdown",
   "metadata": {},
   "source": [
    "La ventaja de esta implementación es que la función de inflación puede embeber sus parámetros y datos. Por ejemplo, las funciones de inflación se crean con su nombre. Esto puede parecer una característica no tan útil, pero en realidad, cuando se itera hacia arriba en la evaluación, se deben acarrear dichos parámetros en muchos lugares del código. Es una mejor práctica **embeberlos**. "
   ]
  },
  {
   "cell_type": "code",
   "execution_count": 27,
   "metadata": {},
   "outputs": [
    {
     "data": {
      "text/plain": [
       "\"Variación interanual IPC\""
      ]
     },
     "execution_count": 27,
     "metadata": {},
     "output_type": "execute_result"
    }
   ],
   "source": [
    "totalfn.name"
   ]
  },
  {
   "cell_type": "code",
   "execution_count": 28,
   "metadata": {},
   "outputs": [
    {
     "data": {
      "text/plain": [
       "\"Variación interanual IPC\""
      ]
     },
     "execution_count": 28,
     "metadata": {},
     "output_type": "execute_result"
    }
   ],
   "source": [
    "measure_name(totalfn)"
   ]
  },
  {
   "cell_type": "markdown",
   "metadata": {},
   "source": [
    "Para aplicarla, simplemente se debe llamar sobre un objeto `CountryStructure`: "
   ]
  },
  {
   "cell_type": "code",
   "execution_count": 32,
   "metadata": {},
   "outputs": [
    {
     "data": {
      "text/plain": [
       "231-element Vector{Float64}:\n",
       " 8.719673120640504\n",
       " 8.686512952624504\n",
       " 8.902153539584546\n",
       " 9.00564237628032\n",
       " 9.147141052972984\n",
       " 9.226543366892482\n",
       " 9.102470379039618\n",
       " 9.139273048697172\n",
       " 7.794958849531541\n",
       " 7.197337815080429\n",
       " 6.662744119340425\n",
       " 6.528841719213219\n",
       " 6.5148047205000115\n",
       " ⋮\n",
       " 1.7696254489549368\n",
       " 1.8786886170045536\n",
       " 1.8027005717204947\n",
       " 2.388203166962688\n",
       " 2.878583295419368\n",
       " 4.194163957071706\n",
       " 4.963595395477527\n",
       " 5.345411638679498\n",
       " 5.462153330137709\n",
       " 4.82991406479274\n",
       " 5.238684605692945\n",
       " 5.999720994694413"
      ]
     },
     "execution_count": 32,
     "metadata": {},
     "output_type": "execute_result"
    }
   ],
   "source": [
    "totalfn(gtdata)"
   ]
  },
  {
   "cell_type": "markdown",
   "metadata": {},
   "source": [
    "Algo además muy útil es el \"despacho múltiple\" (***multiple dispatch***) de Julia: llamamos a la misma función, con diferentes argumentos y aplica una metodología diferente. Por ejemplo, si en vez de la variación interanual, quisiéramos el índice de precios de la medida de inflación, hacemos: "
   ]
  },
  {
   "cell_type": "code",
   "execution_count": 33,
   "metadata": {},
   "outputs": [
    {
     "data": {
      "text/plain": [
       "242-element Vector{Float64}:\n",
       " 101.34643426260612\n",
       " 102.0712127314407\n",
       " 102.59958556121363\n",
       " 103.0182346550822\n",
       " 103.3107549626403\n",
       " 104.0298370639817\n",
       " 104.863711021611\n",
       " 106.15126773990929\n",
       " 106.48331580207778\n",
       " 107.33251061697221\n",
       " 108.09200732044398\n",
       " 108.7196731206405\n",
       " 110.14990540185048\n",
       "   ⋮\n",
       " 272.15501177869504\n",
       " 274.0925480240522\n",
       " 274.6134386795303\n",
       " 278.4846185836708\n",
       " 279.66526781720705\n",
       " 280.78044994852155\n",
       " 281.21080336802044\n",
       " 284.19475256207323\n",
       " 285.7733649444347\n",
       " 285.75922452029135\n",
       " 286.1850663814757\n",
       " 287.1044415052746"
      ]
     },
     "execution_count": 33,
     "metadata": {},
     "output_type": "execute_result"
    }
   ],
   "source": [
    "totalfn(gtdata, CPIIndex())"
   ]
  },
  {
   "cell_type": "markdown",
   "metadata": {},
   "source": [
    "O la variación intermensual: "
   ]
  },
  {
   "cell_type": "code",
   "execution_count": 34,
   "metadata": {},
   "outputs": [
    {
     "data": {
      "text/plain": [
       "242-element Vector{Float64}:\n",
       "  1.346434262606122\n",
       "  0.7151494515895251\n",
       "  0.517651172777911\n",
       "  0.4080417007325865\n",
       "  0.2839500293685848\n",
       "  0.6960379890762036\n",
       "  0.8015719154846224\n",
       "  1.227838215674959\n",
       "  0.31280649702845054\n",
       "  0.7974909576189848\n",
       "  0.7076110482332032\n",
       "  0.5806773467863957\n",
       "  1.315522977725414\n",
       "  ⋮\n",
       "  0.48035190468989075\n",
       "  0.711923779280843\n",
       "  0.19004188885587414\n",
       "  1.409683343522783\n",
       "  0.423954916986391\n",
       "  0.39875603431864803\n",
       "  0.1532704358789161\n",
       "  1.0611075955526905\n",
       "  0.5554685187287856\n",
       " -0.004948125290160643\n",
       "  0.14902121249076306\n",
       "  0.3212519560938487"
      ]
     },
     "execution_count": 34,
     "metadata": {},
     "output_type": "execute_result"
    }
   ],
   "source": [
    "totalfn(gtdata, CPIVarInterm())"
   ]
  },
  {
   "cell_type": "markdown",
   "metadata": {},
   "source": [
    "Al principio, es un poco extraño llamar a la misma función con otros argumentos, pero en realidad, es un patrón común en computación científica. En la HEMI este patrón simplifica muchas cosas en el código. Esto es porque Julia funciona con sistema de tipos que permite escribir código más genérico. Por ejemplo, veamos el tipo de nuestra función de inflación: "
   ]
  },
  {
   "cell_type": "code",
   "execution_count": 35,
   "metadata": {},
   "outputs": [
    {
     "data": {
      "text/plain": [
       "(TotalCPI, InflationFunction, Function, Any)"
      ]
     },
     "execution_count": 35,
     "metadata": {},
     "output_type": "execute_result"
    }
   ],
   "source": [
    "supertypes(TotalCPI)"
   ]
  },
  {
   "cell_type": "markdown",
   "metadata": {},
   "source": [
    "Como vemos, el tipo `TotalCPI` es una `InflationFunction`, pero también deriva de `Function`. Esto nos permite agregar métodos genéricos para cualquier `InflationFunction`: "
   ]
  },
  {
   "cell_type": "code",
   "execution_count": 36,
   "metadata": {},
   "outputs": [
    {
     "data": {
      "text/html": [
       "# 5 methods:<ul><li> (generalfn::<b>InflationFunction</b>)(cs::<b>CountryStructure</b>) in CPIDataBase at <a href=\"https://github.com/rafaelchp/HEMI/tree/6914812274c98b7544a32dc4a2a1a0a1e4937416//src/CPIDataBase/src/inflation.jl#L23\" target=\"_blank\">C:\\Users\\RRCP\\Documents\\Julia\\HEMI\\src\\CPIDataBase\\src\\inflation.jl:23</a></li> <li> (generalfn::<b>InflationFunction</b>)(cs::<b>CountryStructure</b>, ::<b>Type{CPIVarInterm}</b>) in CPIDataBase at <a href=\"https://github.com/rafaelchp/HEMI/tree/6914812274c98b7544a32dc4a2a1a0a1e4937416//src/CPIDataBase/src/inflation.jl#L34\" target=\"_blank\">C:\\Users\\RRCP\\Documents\\Julia\\HEMI\\src\\CPIDataBase\\src\\inflation.jl:34</a></li> <li> (generalfn::<b>InflationFunction</b>)(cs::<b>CountryStructure</b>, ::<b>Type{CPIIndex}</b>) in CPIDataBase at <a href=\"https://github.com/rafaelchp/HEMI/tree/6914812274c98b7544a32dc4a2a1a0a1e4937416//src/CPIDataBase/src/inflation.jl#L28\" target=\"_blank\">C:\\Users\\RRCP\\Documents\\Julia\\HEMI\\src\\CPIDataBase\\src\\inflation.jl:28</a></li> <li> (inflfn::<b>TotalCPI</b>)(base::<b>VarCPIBase{T, T}</b>)<i> where T<:AbstractFloat</i> in CPIDataBase at <a href=\"https://github.com/rafaelchp/HEMI/tree/6914812274c98b7544a32dc4a2a1a0a1e4937416//src/CPIDataBase/src/inflation.jl#L51\" target=\"_blank\">C:\\Users\\RRCP\\Documents\\Julia\\HEMI\\src\\CPIDataBase\\src\\inflation.jl:51</a></li> <li> (inflfn::<b>TotalCPI</b>)(base::<b>VarCPIBase{T, B}</b>)<i> where {T<:AbstractFloat, B<:AbstractVector{T}}</i> in CPIDataBase at <a href=\"https://github.com/rafaelchp/HEMI/tree/6914812274c98b7544a32dc4a2a1a0a1e4937416//src/CPIDataBase/src/inflation.jl#L62\" target=\"_blank\">C:\\Users\\RRCP\\Documents\\Julia\\HEMI\\src\\CPIDataBase\\src\\inflation.jl:62</a></li> </ul>"
      ],
      "text/plain": [
       "# 5 methods:\n",
       "[1] (generalfn::InflationFunction)(cs::CountryStructure) in CPIDataBase at C:\\Users\\RRCP\\Documents\\Julia\\HEMI\\src\\CPIDataBase\\src\\inflation.jl:23\n",
       "[2] (generalfn::InflationFunction)(cs::CountryStructure, ::Type{CPIVarInterm}) in CPIDataBase at C:\\Users\\RRCP\\Documents\\Julia\\HEMI\\src\\CPIDataBase\\src\\inflation.jl:34\n",
       "[3] (generalfn::InflationFunction)(cs::CountryStructure, ::Type{CPIIndex}) in CPIDataBase at C:\\Users\\RRCP\\Documents\\Julia\\HEMI\\src\\CPIDataBase\\src\\inflation.jl:28\n",
       "[4] (inflfn::TotalCPI)(base::VarCPIBase{T, T}) where T<:AbstractFloat in CPIDataBase at C:\\Users\\RRCP\\Documents\\Julia\\HEMI\\src\\CPIDataBase\\src\\inflation.jl:51\n",
       "[5] (inflfn::TotalCPI)(base::VarCPIBase{T, B}) where {T<:AbstractFloat, B<:AbstractVector{T}} in CPIDataBase at C:\\Users\\RRCP\\Documents\\Julia\\HEMI\\src\\CPIDataBase\\src\\inflation.jl:62"
      ]
     },
     "execution_count": 36,
     "metadata": {},
     "output_type": "execute_result"
    }
   ],
   "source": [
    "methods(totalfn)"
   ]
  },
  {
   "cell_type": "markdown",
   "metadata": {},
   "source": [
    "### Extendiendo una función de inflación\n",
    "\n",
    "La forma más simple de ejemplificar los métodos genéricos es extender nuestra función de inflación de media simple. Para que opere, simplemente tenemos que definir cómo debe operar sobre los objetos `VarCPIBase`, que contienen toda la información para computar la medida de inflación (estadística) de una base del IPC: la matriz de variaciones intermensuales y las ponderaciones."
   ]
  },
  {
   "cell_type": "code",
   "execution_count": 37,
   "metadata": {},
   "outputs": [],
   "source": [
    "using Statistics"
   ]
  },
  {
   "cell_type": "code",
   "execution_count": 38,
   "metadata": {},
   "outputs": [],
   "source": [
    "Base.@kwdef struct MediaSimple <: InflationFunction\n",
    "    name::String = \"Media simple\"\n",
    "end\n",
    "\n",
    "function (inflfn::MediaSimple)(base::VarCPIBase)\n",
    "    mean(base.v; dims=2)\n",
    "end"
   ]
  },
  {
   "cell_type": "markdown",
   "metadata": {},
   "source": [
    "Ahora instanciamos nuestra función y computamos la medida de inflación: "
   ]
  },
  {
   "cell_type": "code",
   "execution_count": 39,
   "metadata": {},
   "outputs": [
    {
     "data": {
      "text/plain": [
       "(::MediaSimple) (generic function with 4 methods)"
      ]
     },
     "execution_count": 39,
     "metadata": {},
     "output_type": "execute_result"
    }
   ],
   "source": [
    "smeanfn = MediaSimple()"
   ]
  },
  {
   "cell_type": "code",
   "execution_count": 40,
   "metadata": {},
   "outputs": [
    {
     "data": {
      "text/html": [
       "# 4 methods:<ul><li> (generalfn::<b>InflationFunction</b>)(cs::<b>CountryStructure</b>) in CPIDataBase at <a href=\"https://github.com/rafaelchp/HEMI/tree/6914812274c98b7544a32dc4a2a1a0a1e4937416//src/CPIDataBase/src/inflation.jl#L23\" target=\"_blank\">C:\\Users\\RRCP\\Documents\\Julia\\HEMI\\src\\CPIDataBase\\src\\inflation.jl:23</a></li> <li> (generalfn::<b>InflationFunction</b>)(cs::<b>CountryStructure</b>, ::<b>Type{CPIVarInterm}</b>) in CPIDataBase at <a href=\"https://github.com/rafaelchp/HEMI/tree/6914812274c98b7544a32dc4a2a1a0a1e4937416//src/CPIDataBase/src/inflation.jl#L34\" target=\"_blank\">C:\\Users\\RRCP\\Documents\\Julia\\HEMI\\src\\CPIDataBase\\src\\inflation.jl:34</a></li> <li> (generalfn::<b>InflationFunction</b>)(cs::<b>CountryStructure</b>, ::<b>Type{CPIIndex}</b>) in CPIDataBase at <a href=\"https://github.com/rafaelchp/HEMI/tree/6914812274c98b7544a32dc4a2a1a0a1e4937416//src/CPIDataBase/src/inflation.jl#L28\" target=\"_blank\">C:\\Users\\RRCP\\Documents\\Julia\\HEMI\\src\\CPIDataBase\\src\\inflation.jl:28</a></li> <li> (inflfn::<b>MediaSimple</b>)(base::<b>VarCPIBase</b>) in Main at In[38]:5</li> </ul>"
      ],
      "text/plain": [
       "# 4 methods:\n",
       "[1] (generalfn::InflationFunction)(cs::CountryStructure) in CPIDataBase at C:\\Users\\RRCP\\Documents\\Julia\\HEMI\\src\\CPIDataBase\\src\\inflation.jl:23\n",
       "[2] (generalfn::InflationFunction)(cs::CountryStructure, ::Type{CPIVarInterm}) in CPIDataBase at C:\\Users\\RRCP\\Documents\\Julia\\HEMI\\src\\CPIDataBase\\src\\inflation.jl:34\n",
       "[3] (generalfn::InflationFunction)(cs::CountryStructure, ::Type{CPIIndex}) in CPIDataBase at C:\\Users\\RRCP\\Documents\\Julia\\HEMI\\src\\CPIDataBase\\src\\inflation.jl:28\n",
       "[4] (inflfn::MediaSimple)(base::VarCPIBase) in Main at In[38]:5"
      ]
     },
     "execution_count": 40,
     "metadata": {},
     "output_type": "execute_result"
    }
   ],
   "source": [
    "methods(smeanfn)"
   ]
  },
  {
   "cell_type": "markdown",
   "metadata": {},
   "source": [
    "Y computamos nuestra medida de inflación: "
   ]
  },
  {
   "cell_type": "code",
   "execution_count": 42,
   "metadata": {},
   "outputs": [
    {
     "data": {
      "text/plain": [
       "242×1 Matrix{Float64}:\n",
       " 101.37316513761468\n",
       " 102.2299780350083\n",
       " 102.70309033798793\n",
       " 103.21459283320696\n",
       " 103.37779473537712\n",
       " 104.35657034235335\n",
       " 104.90865303045294\n",
       " 105.85987911820462\n",
       " 106.27216594147043\n",
       " 107.28959273009526\n",
       " 108.05068127451042\n",
       " 108.59124787715764\n",
       " 110.30908005374037\n",
       "   ⋮\n",
       " 252.47448830575104\n",
       " 252.81466167310583\n",
       " 253.22624945778563\n",
       " 254.79764795103802\n",
       " 255.31111959308276\n",
       " 255.6649414853723\n",
       " 256.32142997330527\n",
       " 257.5535284573067\n",
       " 258.16971502734316\n",
       " 259.07876146217615\n",
       " 259.69769564819\n",
       " 260.5169186211943"
      ]
     },
     "execution_count": 42,
     "metadata": {},
     "output_type": "execute_result"
    }
   ],
   "source": [
    "smeanfn(gtdata, CPIIndex())"
   ]
  },
  {
   "cell_type": "markdown",
   "metadata": {},
   "source": [
    "El paquete `InflationFunctions` alberga(rá) otras funciones de inflación. "
   ]
  },
  {
   "cell_type": "code",
   "execution_count": 43,
   "metadata": {},
   "outputs": [
    {
     "name": "stderr",
     "output_type": "stream",
     "text": [
      "┌ Info: Precompiling InflationFunctions [1672e640-55d7-4545-bfdd-2ddb9b2bdcf6]\n",
      "└ @ Base loading.jl:1317\n"
     ]
    }
   ],
   "source": [
    "using InflationFunctions"
   ]
  },
  {
   "cell_type": "markdown",
   "metadata": {},
   "source": [
    "### Conjuntos y combinaciones"
   ]
  },
  {
   "cell_type": "markdown",
   "metadata": {},
   "source": [
    "Tenemos la siguiente función de combinación para computar varias medidas de inflación a la vez."
   ]
  },
  {
   "cell_type": "code",
   "execution_count": 44,
   "metadata": {},
   "outputs": [
    {
     "data": {
      "text/plain": [
       "(::EnsembleFunction{26}) (generic function with 4 methods)"
      ]
     },
     "execution_count": 44,
     "metadata": {},
     "output_type": "execute_result"
    }
   ],
   "source": [
    "percfn = InflationPercentileEq.(60:85) |> Tuple |> EnsembleFunction"
   ]
  },
  {
   "cell_type": "code",
   "execution_count": 47,
   "metadata": {},
   "outputs": [
    {
     "data": {
      "text/plain": [
       "242×26 Matrix{Float64}:\n",
       " 1.07        1.1122     1.1754     1.19       …  2.3011    2.4528    2.506\n",
       " 0.674125    0.706689   0.752199   0.764567      1.59622   1.65907   1.68661\n",
       " 0.408513    0.421583   0.428893   0.456405      1.19056   1.23997   1.27448\n",
       " 0.27178     0.289703   0.298526   0.318733      0.970116  1.07152   1.18509\n",
       " 0.263243    0.273525   0.282578   0.296934      0.666706  0.671     0.707696\n",
       " 0.364099    0.394026   0.415571   0.451913   …  1.20181   1.23759   1.26123\n",
       " 0.44562     0.461215   0.480141   0.485691      1.04128   1.07501   1.10611\n",
       " 0.934677    0.947381   0.965702   1.00398       1.88948   1.91935   1.96978\n",
       " 0.514002    0.52475    0.539286   0.571389      1.05105   1.09259   1.16587\n",
       " 0.705278    0.716616   0.724996   0.728649      1.17701   1.30023   1.39007\n",
       " 0.520556    0.553666   0.577255   0.602767   …  1.14805   1.17258   1.21618\n",
       " 0.406006    0.419903   0.442468   0.461203      1.08103   1.15501   1.25718\n",
       " 1.2369      1.29541    1.34434    1.36455       3.19402   3.28163   3.56671\n",
       " ⋮                                            ⋱                      ⋮\n",
       " 0.023712    0.0358611  0.0477656  0.0645833  …  0.449744  0.463122  0.519072\n",
       " 0.00860476  0.020492   0.0288768  0.0351931     0.368048  0.425126  0.493329\n",
       " 0.0398593   0.0458548  0.0568636  0.0637999     0.47012   0.499633  0.526985\n",
       " 0.0705112   0.0758807  0.083243   0.093657      0.380735  0.410164  0.452269\n",
       " 0.0412953   0.0483105  0.0519237  0.0598354     0.435177  0.50462   0.563148\n",
       " 0.0706602   0.0793535  0.0856794  0.0990457  …  0.467578  0.513716  0.544587\n",
       " 0.105799    0.117869   0.125633   0.132693      0.527239  0.569879  0.595972\n",
       " 0.082272    0.0869091  0.0931123  0.0977889     0.477078  0.48407   0.517046\n",
       " 0.0819808   0.0919696  0.105523   0.117086      0.578958  0.600697  0.653766\n",
       " 0.0582478   0.0664089  0.0737052  0.0819732     0.573963  0.597351  0.630551\n",
       " 0.122409    0.128532   0.14087    0.147812   …  0.654042  0.68419   0.744455\n",
       " 0.137208    0.146663   0.155022   0.172729      0.617174  0.631074  0.666594"
      ]
     },
     "execution_count": 47,
     "metadata": {},
     "output_type": "execute_result"
    }
   ],
   "source": [
    "percfn(gtdata, CPIVarInterm())"
   ]
  },
  {
   "cell_type": "markdown",
   "metadata": {},
   "source": [
    "Tenemos la siguiente función de combinación para computar varias medidas de inflación a la vez y combinarlas."
   ]
  },
  {
   "cell_type": "code",
   "execution_count": 48,
   "metadata": {},
   "outputs": [
    {
     "data": {
      "text/plain": [
       "(::CombinationFunction{26, Vector{Float64}}) (generic function with 5 methods)"
      ]
     },
     "execution_count": 48,
     "metadata": {},
     "output_type": "execute_result"
    }
   ],
   "source": [
    "combfn = CombinationFunction(percfn, repeat([1/26], 26))"
   ]
  },
  {
   "cell_type": "code",
   "execution_count": 49,
   "metadata": {},
   "outputs": [
    {
     "data": {
      "text/plain": [
       "231-element Vector{Float64}:\n",
       " 11.343802787083675\n",
       " 11.903375536317865\n",
       " 12.024598889766615\n",
       " 11.997756622016427\n",
       " 12.050970156203565\n",
       " 12.035494517581828\n",
       " 11.791387300134575\n",
       " 11.583947211507201\n",
       " 10.523732958928576\n",
       " 10.08375619761092\n",
       "  9.576839325382137\n",
       "  9.172334359384086\n",
       "  8.861494096836369\n",
       "  ⋮\n",
       "  2.745712162954365\n",
       "  2.6643836304510464\n",
       "  2.6364605108079484\n",
       "  2.57174589919678\n",
       "  2.5579178816424943\n",
       "  2.6061332051561505\n",
       "  2.6973718332834844\n",
       "  2.7052288868828915\n",
       "  2.765434300197559\n",
       "  2.82649030841311\n",
       "  2.925240186178704\n",
       "  3.104036577218023"
      ]
     },
     "execution_count": 49,
     "metadata": {},
     "output_type": "execute_result"
    }
   ],
   "source": [
    "combfn(gtdata)"
   ]
  },
  {
   "cell_type": "markdown",
   "metadata": {},
   "source": [
    "## Generación de trayectorias\n",
    "\n",
    "Como vimos en la presentación, la generación de trayectorias en Julia es mucho más rápida. "
   ]
  },
  {
   "cell_type": "code",
   "execution_count": 50,
   "metadata": {},
   "outputs": [],
   "source": [
    "using InflationEvalTools\n",
    "using Plots"
   ]
  },
  {
   "cell_type": "code",
   "execution_count": 51,
   "metadata": {},
   "outputs": [
    {
     "name": "stderr",
     "output_type": "stream",
     "text": [
      "\u001b[32mProgress: 100%|█████████████████████████████████████████| Time: 0:00:21\u001b[39m9mm\n"
     ]
    },
    {
     "data": {
      "text/plain": [
       "(229, 1, 10000)"
      ]
     },
     "execution_count": 51,
     "metadata": {},
     "output_type": "execute_result"
    }
   ],
   "source": [
    "tray_infl = gentrayinfl(totalfn, gtdata[Date(2020,12)], K = 10000); \n",
    "size(tray_infl)"
   ]
  },
  {
   "cell_type": "code",
   "execution_count": 52,
   "metadata": {},
   "outputs": [
    {
     "data": {
      "image/svg+xml": [
       "<?xml version=\"1.0\" encoding=\"utf-8\"?>\n",
       "<svg xmlns=\"http://www.w3.org/2000/svg\" xmlns:xlink=\"http://www.w3.org/1999/xlink\" width=\"600\" height=\"400\" viewBox=\"0 0 2400 1600\">\n",
       "<defs>\n",
       "  <clipPath id=\"clip580\">\n",
       "    <rect x=\"0\" y=\"0\" width=\"2400\" height=\"1600\"/>\n",
       "  </clipPath>\n",
       "</defs>\n",
       "<path clip-path=\"url(#clip580)\" d=\"\n",
       "M0 1600 L2400 1600 L2400 0 L0 0  Z\n",
       "  \" fill=\"#ffffff\" fill-rule=\"evenodd\" fill-opacity=\"1\"/>\n",
       "<defs>\n",
       "  <clipPath id=\"clip581\">\n",
       "    <rect x=\"480\" y=\"0\" width=\"1681\" height=\"1600\"/>\n",
       "  </clipPath>\n",
       "</defs>\n",
       "<path clip-path=\"url(#clip580)\" d=\"\n",
       "M141.853 1486.45 L2352.76 1486.45 L2352.76 47.2441 L141.853 47.2441  Z\n",
       "  \" fill=\"#ffffff\" fill-rule=\"evenodd\" fill-opacity=\"1\"/>\n",
       "<defs>\n",
       "  <clipPath id=\"clip582\">\n",
       "    <rect x=\"141\" y=\"47\" width=\"2212\" height=\"1440\"/>\n",
       "  </clipPath>\n",
       "</defs>\n",
       "<polyline clip-path=\"url(#clip582)\" style=\"stroke:#000000; stroke-width:2; stroke-opacity:0.1; fill:none\" points=\"\n",
       "  213.742,1486.45 213.742,47.2441 \n",
       "  \"/>\n",
       "<polyline clip-path=\"url(#clip582)\" style=\"stroke:#000000; stroke-width:2; stroke-opacity:0.1; fill:none\" points=\"\n",
       "  762.531,1486.45 762.531,47.2441 \n",
       "  \"/>\n",
       "<polyline clip-path=\"url(#clip582)\" style=\"stroke:#000000; stroke-width:2; stroke-opacity:0.1; fill:none\" points=\"\n",
       "  1311.32,1486.45 1311.32,47.2441 \n",
       "  \"/>\n",
       "<polyline clip-path=\"url(#clip582)\" style=\"stroke:#000000; stroke-width:2; stroke-opacity:0.1; fill:none\" points=\"\n",
       "  1860.41,1486.45 1860.41,47.2441 \n",
       "  \"/>\n",
       "<polyline clip-path=\"url(#clip580)\" style=\"stroke:#000000; stroke-width:4; stroke-opacity:1; fill:none\" points=\"\n",
       "  141.853,1486.45 2352.76,1486.45 \n",
       "  \"/>\n",
       "<polyline clip-path=\"url(#clip580)\" style=\"stroke:#000000; stroke-width:4; stroke-opacity:1; fill:none\" points=\"\n",
       "  213.742,1486.45 213.742,1469.18 \n",
       "  \"/>\n",
       "<polyline clip-path=\"url(#clip580)\" style=\"stroke:#000000; stroke-width:4; stroke-opacity:1; fill:none\" points=\"\n",
       "  762.531,1486.45 762.531,1469.18 \n",
       "  \"/>\n",
       "<polyline clip-path=\"url(#clip580)\" style=\"stroke:#000000; stroke-width:4; stroke-opacity:1; fill:none\" points=\"\n",
       "  1311.32,1486.45 1311.32,1469.18 \n",
       "  \"/>\n",
       "<polyline clip-path=\"url(#clip580)\" style=\"stroke:#000000; stroke-width:4; stroke-opacity:1; fill:none\" points=\"\n",
       "  1860.41,1486.45 1860.41,1469.18 \n",
       "  \"/>\n",
       "<path clip-path=\"url(#clip580)\" d=\"M 0 0 M85.5371 1543.18 L101.856 1543.18 L101.856 1547.12 L79.9122 1547.12 L79.9122 1543.18 Q82.5742 1540.43 87.1575 1535.8 Q91.7639 1531.15 92.9445 1529.81 Q95.1898 1527.28 96.0695 1525.55 Q96.9722 1523.79 96.9722 1522.1 Q96.9722 1519.34 95.0278 1517.61 Q93.1065 1515.87 90.0047 1515.87 Q87.8056 1515.87 85.3519 1516.63 Q82.9214 1517.4 80.1436 1518.95 L80.1436 1514.23 Q82.9677 1513.09 85.4214 1512.51 Q87.8751 1511.93 89.9121 1511.93 Q95.2824 1511.93 98.4769 1514.62 Q101.671 1517.31 101.671 1521.8 Q101.671 1523.93 100.861 1525.85 Q100.074 1527.74 97.9676 1530.34 Q97.3889 1531.01 94.2871 1534.23 Q91.1852 1537.42 85.5371 1543.18 Z\" fill=\"#000000\" fill-rule=\"evenodd\" fill-opacity=\"1\" /><path clip-path=\"url(#clip580)\" d=\"M 0 0 M121.671 1515.64 Q118.06 1515.64 116.231 1519.2 Q114.426 1522.75 114.426 1529.87 Q114.426 1536.98 116.231 1540.55 Q118.06 1544.09 121.671 1544.09 Q125.305 1544.09 127.111 1540.55 Q128.94 1536.98 128.94 1529.87 Q128.94 1522.75 127.111 1519.2 Q125.305 1515.64 121.671 1515.64 M121.671 1511.93 Q127.481 1511.93 130.537 1516.54 Q133.616 1521.12 133.616 1529.87 Q133.616 1538.6 130.537 1543.21 Q127.481 1547.79 121.671 1547.79 Q115.861 1547.79 112.782 1543.21 Q109.727 1538.6 109.727 1529.87 Q109.727 1521.12 112.782 1516.54 Q115.861 1511.93 121.671 1511.93 Z\" fill=\"#000000\" fill-rule=\"evenodd\" fill-opacity=\"1\" /><path clip-path=\"url(#clip580)\" d=\"M 0 0 M151.833 1515.64 Q148.222 1515.64 146.393 1519.2 Q144.588 1522.75 144.588 1529.87 Q144.588 1536.98 146.393 1540.55 Q148.222 1544.09 151.833 1544.09 Q155.467 1544.09 157.273 1540.55 Q159.102 1536.98 159.102 1529.87 Q159.102 1522.75 157.273 1519.2 Q155.467 1515.64 151.833 1515.64 M151.833 1511.93 Q157.643 1511.93 160.699 1516.54 Q163.777 1521.12 163.777 1529.87 Q163.777 1538.6 160.699 1543.21 Q157.643 1547.79 151.833 1547.79 Q146.023 1547.79 142.944 1543.21 Q139.889 1538.6 139.889 1529.87 Q139.889 1521.12 142.944 1516.54 Q146.023 1511.93 151.833 1511.93 Z\" fill=\"#000000\" fill-rule=\"evenodd\" fill-opacity=\"1\" /><path clip-path=\"url(#clip580)\" d=\"M 0 0 M176.023 1543.18 L192.342 1543.18 L192.342 1547.12 L170.398 1547.12 L170.398 1543.18 Q173.06 1540.43 177.643 1535.8 Q182.25 1531.15 183.43 1529.81 Q185.675 1527.28 186.555 1525.55 Q187.458 1523.79 187.458 1522.1 Q187.458 1519.34 185.513 1517.61 Q183.592 1515.87 180.49 1515.87 Q178.291 1515.87 175.838 1516.63 Q173.407 1517.4 170.629 1518.95 L170.629 1514.23 Q173.453 1513.09 175.907 1512.51 Q178.361 1511.93 180.398 1511.93 Q185.768 1511.93 188.962 1514.62 Q192.157 1517.31 192.157 1521.8 Q192.157 1523.93 191.347 1525.85 Q190.56 1527.74 188.453 1530.34 Q187.875 1531.01 184.773 1534.23 Q181.671 1537.42 176.023 1543.18 Z\" fill=\"#000000\" fill-rule=\"evenodd\" fill-opacity=\"1\" /><path clip-path=\"url(#clip580)\" d=\"M 0 0 M199.402 1532.24 L211.879 1532.24 L211.879 1536.03 L199.402 1536.03 L199.402 1532.24 Z\" fill=\"#000000\" fill-rule=\"evenodd\" fill-opacity=\"1\" /><path clip-path=\"url(#clip580)\" d=\"M 0 0 M229.263 1515.64 Q225.652 1515.64 223.823 1519.2 Q222.018 1522.75 222.018 1529.87 Q222.018 1536.98 223.823 1540.55 Q225.652 1544.09 229.263 1544.09 Q232.897 1544.09 234.703 1540.55 Q236.532 1536.98 236.532 1529.87 Q236.532 1522.75 234.703 1519.2 Q232.897 1515.64 229.263 1515.64 M229.263 1511.93 Q235.073 1511.93 238.129 1516.54 Q241.208 1521.12 241.208 1529.87 Q241.208 1538.6 238.129 1543.21 Q235.073 1547.79 229.263 1547.79 Q223.453 1547.79 220.374 1543.21 Q217.319 1538.6 217.319 1529.87 Q217.319 1521.12 220.374 1516.54 Q223.453 1511.93 229.263 1511.93 Z\" fill=\"#000000\" fill-rule=\"evenodd\" fill-opacity=\"1\" /><path clip-path=\"url(#clip580)\" d=\"M 0 0 M250.235 1543.18 L257.874 1543.18 L257.874 1516.82 L249.564 1518.49 L249.564 1514.23 L257.828 1512.56 L262.504 1512.56 L262.504 1543.18 L270.143 1543.18 L270.143 1547.12 L250.235 1547.12 L250.235 1543.18 Z\" fill=\"#000000\" fill-rule=\"evenodd\" fill-opacity=\"1\" /><path clip-path=\"url(#clip580)\" d=\"M 0 0 M276.832 1532.24 L289.309 1532.24 L289.309 1536.03 L276.832 1536.03 L276.832 1532.24 Z\" fill=\"#000000\" fill-rule=\"evenodd\" fill-opacity=\"1\" /><path clip-path=\"url(#clip580)\" d=\"M 0 0 M306.693 1515.64 Q303.082 1515.64 301.254 1519.2 Q299.448 1522.75 299.448 1529.87 Q299.448 1536.98 301.254 1540.55 Q303.082 1544.09 306.693 1544.09 Q310.328 1544.09 312.133 1540.55 Q313.962 1536.98 313.962 1529.87 Q313.962 1522.75 312.133 1519.2 Q310.328 1515.64 306.693 1515.64 M306.693 1511.93 Q312.503 1511.93 315.559 1516.54 Q318.638 1521.12 318.638 1529.87 Q318.638 1538.6 315.559 1543.21 Q312.503 1547.79 306.693 1547.79 Q300.883 1547.79 297.805 1543.21 Q294.749 1538.6 294.749 1529.87 Q294.749 1521.12 297.805 1516.54 Q300.883 1511.93 306.693 1511.93 Z\" fill=\"#000000\" fill-rule=\"evenodd\" fill-opacity=\"1\" /><path clip-path=\"url(#clip580)\" d=\"M 0 0 M327.665 1543.18 L335.304 1543.18 L335.304 1516.82 L326.994 1518.49 L326.994 1514.23 L335.258 1512.56 L339.934 1512.56 L339.934 1543.18 L347.573 1543.18 L347.573 1547.12 L327.665 1547.12 L327.665 1543.18 Z\" fill=\"#000000\" fill-rule=\"evenodd\" fill-opacity=\"1\" /><path clip-path=\"url(#clip580)\" d=\"M 0 0 M634.326 1543.18 L650.645 1543.18 L650.645 1547.12 L628.701 1547.12 L628.701 1543.18 Q631.363 1540.43 635.946 1535.8 Q640.553 1531.15 641.733 1529.81 Q643.978 1527.28 644.858 1525.55 Q645.761 1523.79 645.761 1522.1 Q645.761 1519.34 643.816 1517.61 Q641.895 1515.87 638.793 1515.87 Q636.594 1515.87 634.141 1516.63 Q631.71 1517.4 628.932 1518.95 L628.932 1514.23 Q631.756 1513.09 634.21 1512.51 Q636.664 1511.93 638.701 1511.93 Q644.071 1511.93 647.266 1514.62 Q650.46 1517.31 650.46 1521.8 Q650.46 1523.93 649.65 1525.85 Q648.863 1527.74 646.756 1530.34 Q646.178 1531.01 643.076 1534.23 Q639.974 1537.42 634.326 1543.18 Z\" fill=\"#000000\" fill-rule=\"evenodd\" fill-opacity=\"1\" /><path clip-path=\"url(#clip580)\" d=\"M 0 0 M670.46 1515.64 Q666.849 1515.64 665.02 1519.2 Q663.215 1522.75 663.215 1529.87 Q663.215 1536.98 665.02 1540.55 Q666.849 1544.09 670.46 1544.09 Q674.094 1544.09 675.9 1540.55 Q677.728 1536.98 677.728 1529.87 Q677.728 1522.75 675.9 1519.2 Q674.094 1515.64 670.46 1515.64 M670.46 1511.93 Q676.27 1511.93 679.326 1516.54 Q682.404 1521.12 682.404 1529.87 Q682.404 1538.6 679.326 1543.21 Q676.27 1547.79 670.46 1547.79 Q664.65 1547.79 661.571 1543.21 Q658.515 1538.6 658.515 1529.87 Q658.515 1521.12 661.571 1516.54 Q664.65 1511.93 670.46 1511.93 Z\" fill=\"#000000\" fill-rule=\"evenodd\" fill-opacity=\"1\" /><path clip-path=\"url(#clip580)\" d=\"M 0 0 M700.622 1515.64 Q697.011 1515.64 695.182 1519.2 Q693.376 1522.75 693.376 1529.87 Q693.376 1536.98 695.182 1540.55 Q697.011 1544.09 700.622 1544.09 Q704.256 1544.09 706.061 1540.55 Q707.89 1536.98 707.89 1529.87 Q707.89 1522.75 706.061 1519.2 Q704.256 1515.64 700.622 1515.64 M700.622 1511.93 Q706.432 1511.93 709.487 1516.54 Q712.566 1521.12 712.566 1529.87 Q712.566 1538.6 709.487 1543.21 Q706.432 1547.79 700.622 1547.79 Q694.812 1547.79 691.733 1543.21 Q688.677 1538.6 688.677 1529.87 Q688.677 1521.12 691.733 1516.54 Q694.812 1511.93 700.622 1511.93 Z\" fill=\"#000000\" fill-rule=\"evenodd\" fill-opacity=\"1\" /><path clip-path=\"url(#clip580)\" d=\"M 0 0 M719.603 1512.56 L741.825 1512.56 L741.825 1514.55 L729.279 1547.12 L724.395 1547.12 L736.2 1516.5 L719.603 1516.5 L719.603 1512.56 Z\" fill=\"#000000\" fill-rule=\"evenodd\" fill-opacity=\"1\" /><path clip-path=\"url(#clip580)\" d=\"M 0 0 M748.191 1532.24 L760.668 1532.24 L760.668 1536.03 L748.191 1536.03 L748.191 1532.24 Z\" fill=\"#000000\" fill-rule=\"evenodd\" fill-opacity=\"1\" /><path clip-path=\"url(#clip580)\" d=\"M 0 0 M778.052 1515.64 Q774.441 1515.64 772.612 1519.2 Q770.807 1522.75 770.807 1529.87 Q770.807 1536.98 772.612 1540.55 Q774.441 1544.09 778.052 1544.09 Q781.686 1544.09 783.492 1540.55 Q785.32 1536.98 785.32 1529.87 Q785.32 1522.75 783.492 1519.2 Q781.686 1515.64 778.052 1515.64 M778.052 1511.93 Q783.862 1511.93 786.918 1516.54 Q789.996 1521.12 789.996 1529.87 Q789.996 1538.6 786.918 1543.21 Q783.862 1547.79 778.052 1547.79 Q772.242 1547.79 769.163 1543.21 Q766.107 1538.6 766.107 1529.87 Q766.107 1521.12 769.163 1516.54 Q772.242 1511.93 778.052 1511.93 Z\" fill=\"#000000\" fill-rule=\"evenodd\" fill-opacity=\"1\" /><path clip-path=\"url(#clip580)\" d=\"M 0 0 M799.024 1543.18 L806.663 1543.18 L806.663 1516.82 L798.353 1518.49 L798.353 1514.23 L806.617 1512.56 L811.292 1512.56 L811.292 1543.18 L818.931 1543.18 L818.931 1547.12 L799.024 1547.12 L799.024 1543.18 Z\" fill=\"#000000\" fill-rule=\"evenodd\" fill-opacity=\"1\" /><path clip-path=\"url(#clip580)\" d=\"M 0 0 M825.621 1532.24 L838.098 1532.24 L838.098 1536.03 L825.621 1536.03 L825.621 1532.24 Z\" fill=\"#000000\" fill-rule=\"evenodd\" fill-opacity=\"1\" /><path clip-path=\"url(#clip580)\" d=\"M 0 0 M855.482 1515.64 Q851.871 1515.64 850.042 1519.2 Q848.237 1522.75 848.237 1529.87 Q848.237 1536.98 850.042 1540.55 Q851.871 1544.09 855.482 1544.09 Q859.116 1544.09 860.922 1540.55 Q862.75 1536.98 862.75 1529.87 Q862.75 1522.75 860.922 1519.2 Q859.116 1515.64 855.482 1515.64 M855.482 1511.93 Q861.292 1511.93 864.348 1516.54 Q867.426 1521.12 867.426 1529.87 Q867.426 1538.6 864.348 1543.21 Q861.292 1547.79 855.482 1547.79 Q849.672 1547.79 846.593 1543.21 Q843.538 1538.6 843.538 1529.87 Q843.538 1521.12 846.593 1516.54 Q849.672 1511.93 855.482 1511.93 Z\" fill=\"#000000\" fill-rule=\"evenodd\" fill-opacity=\"1\" /><path clip-path=\"url(#clip580)\" d=\"M 0 0 M876.454 1543.18 L884.093 1543.18 L884.093 1516.82 L875.783 1518.49 L875.783 1514.23 L884.047 1512.56 L888.723 1512.56 L888.723 1543.18 L896.361 1543.18 L896.361 1547.12 L876.454 1547.12 L876.454 1543.18 Z\" fill=\"#000000\" fill-rule=\"evenodd\" fill-opacity=\"1\" /><path clip-path=\"url(#clip580)\" d=\"M 0 0 M1183.11 1543.18 L1199.43 1543.18 L1199.43 1547.12 L1177.49 1547.12 L1177.49 1543.18 Q1180.15 1540.43 1184.73 1535.8 Q1189.34 1531.15 1190.52 1529.81 Q1192.77 1527.28 1193.65 1525.55 Q1194.55 1523.79 1194.55 1522.1 Q1194.55 1519.34 1192.61 1517.61 Q1190.68 1515.87 1187.58 1515.87 Q1185.38 1515.87 1182.93 1516.63 Q1180.5 1517.4 1177.72 1518.95 L1177.72 1514.23 Q1180.54 1513.09 1183 1512.51 Q1185.45 1511.93 1187.49 1511.93 Q1192.86 1511.93 1196.05 1514.62 Q1199.25 1517.31 1199.25 1521.8 Q1199.25 1523.93 1198.44 1525.85 Q1197.65 1527.74 1195.54 1530.34 Q1194.97 1531.01 1191.86 1534.23 Q1188.76 1537.42 1183.11 1543.18 Z\" fill=\"#000000\" fill-rule=\"evenodd\" fill-opacity=\"1\" /><path clip-path=\"url(#clip580)\" d=\"M 0 0 M1219.25 1515.64 Q1215.64 1515.64 1213.81 1519.2 Q1212 1522.75 1212 1529.87 Q1212 1536.98 1213.81 1540.55 Q1215.64 1544.09 1219.25 1544.09 Q1222.88 1544.09 1224.69 1540.55 Q1226.52 1536.98 1226.52 1529.87 Q1226.52 1522.75 1224.69 1519.2 Q1222.88 1515.64 1219.25 1515.64 M1219.25 1511.93 Q1225.06 1511.93 1228.11 1516.54 Q1231.19 1521.12 1231.19 1529.87 Q1231.19 1538.6 1228.11 1543.21 Q1225.06 1547.79 1219.25 1547.79 Q1213.44 1547.79 1210.36 1543.21 Q1207.3 1538.6 1207.3 1529.87 Q1207.3 1521.12 1210.36 1516.54 Q1213.44 1511.93 1219.25 1511.93 Z\" fill=\"#000000\" fill-rule=\"evenodd\" fill-opacity=\"1\" /><path clip-path=\"url(#clip580)\" d=\"M 0 0 M1240.22 1543.18 L1247.86 1543.18 L1247.86 1516.82 L1239.55 1518.49 L1239.55 1514.23 L1247.81 1512.56 L1252.49 1512.56 L1252.49 1543.18 L1260.13 1543.18 L1260.13 1547.12 L1240.22 1547.12 L1240.22 1543.18 Z\" fill=\"#000000\" fill-rule=\"evenodd\" fill-opacity=\"1\" /><path clip-path=\"url(#clip580)\" d=\"M 0 0 M1273.6 1543.18 L1289.92 1543.18 L1289.92 1547.12 L1267.98 1547.12 L1267.98 1543.18 Q1270.64 1540.43 1275.22 1535.8 Q1279.83 1531.15 1281.01 1529.81 Q1283.25 1527.28 1284.13 1525.55 Q1285.04 1523.79 1285.04 1522.1 Q1285.04 1519.34 1283.09 1517.61 Q1281.17 1515.87 1278.07 1515.87 Q1275.87 1515.87 1273.41 1516.63 Q1270.98 1517.4 1268.21 1518.95 L1268.21 1514.23 Q1271.03 1513.09 1273.48 1512.51 Q1275.94 1511.93 1277.98 1511.93 Q1283.35 1511.93 1286.54 1514.62 Q1289.73 1517.31 1289.73 1521.8 Q1289.73 1523.93 1288.92 1525.85 Q1288.14 1527.74 1286.03 1530.34 Q1285.45 1531.01 1282.35 1534.23 Q1279.25 1537.42 1273.6 1543.18 Z\" fill=\"#000000\" fill-rule=\"evenodd\" fill-opacity=\"1\" /><path clip-path=\"url(#clip580)\" d=\"M 0 0 M1296.98 1532.24 L1309.46 1532.24 L1309.46 1536.03 L1296.98 1536.03 L1296.98 1532.24 Z\" fill=\"#000000\" fill-rule=\"evenodd\" fill-opacity=\"1\" /><path clip-path=\"url(#clip580)\" d=\"M 0 0 M1326.84 1515.64 Q1323.23 1515.64 1321.4 1519.2 Q1319.6 1522.75 1319.6 1529.87 Q1319.6 1536.98 1321.4 1540.55 Q1323.23 1544.09 1326.84 1544.09 Q1330.47 1544.09 1332.28 1540.55 Q1334.11 1536.98 1334.11 1529.87 Q1334.11 1522.75 1332.28 1519.2 Q1330.47 1515.64 1326.84 1515.64 M1326.84 1511.93 Q1332.65 1511.93 1335.71 1516.54 Q1338.78 1521.12 1338.78 1529.87 Q1338.78 1538.6 1335.71 1543.21 Q1332.65 1547.79 1326.84 1547.79 Q1321.03 1547.79 1317.95 1543.21 Q1314.9 1538.6 1314.9 1529.87 Q1314.9 1521.12 1317.95 1516.54 Q1321.03 1511.93 1326.84 1511.93 Z\" fill=\"#000000\" fill-rule=\"evenodd\" fill-opacity=\"1\" /><path clip-path=\"url(#clip580)\" d=\"M 0 0 M1347.81 1543.18 L1355.45 1543.18 L1355.45 1516.82 L1347.14 1518.49 L1347.14 1514.23 L1355.41 1512.56 L1360.08 1512.56 L1360.08 1543.18 L1367.72 1543.18 L1367.72 1547.12 L1347.81 1547.12 L1347.81 1543.18 Z\" fill=\"#000000\" fill-rule=\"evenodd\" fill-opacity=\"1\" /><path clip-path=\"url(#clip580)\" d=\"M 0 0 M1374.41 1532.24 L1386.89 1532.24 L1386.89 1536.03 L1374.41 1536.03 L1374.41 1532.24 Z\" fill=\"#000000\" fill-rule=\"evenodd\" fill-opacity=\"1\" /><path clip-path=\"url(#clip580)\" d=\"M 0 0 M1404.27 1515.64 Q1400.66 1515.64 1398.83 1519.2 Q1397.03 1522.75 1397.03 1529.87 Q1397.03 1536.98 1398.83 1540.55 Q1400.66 1544.09 1404.27 1544.09 Q1407.9 1544.09 1409.71 1540.55 Q1411.54 1536.98 1411.54 1529.87 Q1411.54 1522.75 1409.71 1519.2 Q1407.9 1515.64 1404.27 1515.64 M1404.27 1511.93 Q1410.08 1511.93 1413.14 1516.54 Q1416.22 1521.12 1416.22 1529.87 Q1416.22 1538.6 1413.14 1543.21 Q1410.08 1547.79 1404.27 1547.79 Q1398.46 1547.79 1395.38 1543.21 Q1392.33 1538.6 1392.33 1529.87 Q1392.33 1521.12 1395.38 1516.54 Q1398.46 1511.93 1404.27 1511.93 Z\" fill=\"#000000\" fill-rule=\"evenodd\" fill-opacity=\"1\" /><path clip-path=\"url(#clip580)\" d=\"M 0 0 M1425.24 1543.18 L1432.88 1543.18 L1432.88 1516.82 L1424.57 1518.49 L1424.57 1514.23 L1432.84 1512.56 L1437.51 1512.56 L1437.51 1543.18 L1445.15 1543.18 L1445.15 1547.12 L1425.24 1547.12 L1425.24 1543.18 Z\" fill=\"#000000\" fill-rule=\"evenodd\" fill-opacity=\"1\" /><path clip-path=\"url(#clip580)\" d=\"M 0 0 M1732.2 1543.18 L1748.52 1543.18 L1748.52 1547.12 L1726.58 1547.12 L1726.58 1543.18 Q1729.24 1540.43 1733.82 1535.8 Q1738.43 1531.15 1739.61 1529.81 Q1741.86 1527.28 1742.74 1525.55 Q1743.64 1523.79 1743.64 1522.1 Q1743.64 1519.34 1741.69 1517.61 Q1739.77 1515.87 1736.67 1515.87 Q1734.47 1515.87 1732.02 1516.63 Q1729.59 1517.4 1726.81 1518.95 L1726.81 1514.23 Q1729.63 1513.09 1732.09 1512.51 Q1734.54 1511.93 1736.58 1511.93 Q1741.95 1511.93 1745.14 1514.62 Q1748.34 1517.31 1748.34 1521.8 Q1748.34 1523.93 1747.53 1525.85 Q1746.74 1527.74 1744.63 1530.34 Q1744.06 1531.01 1740.95 1534.23 Q1737.85 1537.42 1732.2 1543.18 Z\" fill=\"#000000\" fill-rule=\"evenodd\" fill-opacity=\"1\" /><path clip-path=\"url(#clip580)\" d=\"M 0 0 M1768.34 1515.64 Q1764.73 1515.64 1762.9 1519.2 Q1761.09 1522.75 1761.09 1529.87 Q1761.09 1536.98 1762.9 1540.55 Q1764.73 1544.09 1768.34 1544.09 Q1771.97 1544.09 1773.78 1540.55 Q1775.61 1536.98 1775.61 1529.87 Q1775.61 1522.75 1773.78 1519.2 Q1771.97 1515.64 1768.34 1515.64 M1768.34 1511.93 Q1774.15 1511.93 1777.2 1516.54 Q1780.28 1521.12 1780.28 1529.87 Q1780.28 1538.6 1777.2 1543.21 Q1774.15 1547.79 1768.34 1547.79 Q1762.53 1547.79 1759.45 1543.21 Q1756.39 1538.6 1756.39 1529.87 Q1756.39 1521.12 1759.45 1516.54 Q1762.53 1511.93 1768.34 1511.93 Z\" fill=\"#000000\" fill-rule=\"evenodd\" fill-opacity=\"1\" /><path clip-path=\"url(#clip580)\" d=\"M 0 0 M1789.31 1543.18 L1796.95 1543.18 L1796.95 1516.82 L1788.64 1518.49 L1788.64 1514.23 L1796.9 1512.56 L1801.58 1512.56 L1801.58 1543.18 L1809.22 1543.18 L1809.22 1547.12 L1789.31 1547.12 L1789.31 1543.18 Z\" fill=\"#000000\" fill-rule=\"evenodd\" fill-opacity=\"1\" /><path clip-path=\"url(#clip580)\" d=\"M 0 0 M1817.48 1512.56 L1839.7 1512.56 L1839.7 1514.55 L1827.16 1547.12 L1822.27 1547.12 L1834.08 1516.5 L1817.48 1516.5 L1817.48 1512.56 Z\" fill=\"#000000\" fill-rule=\"evenodd\" fill-opacity=\"1\" /><path clip-path=\"url(#clip580)\" d=\"M 0 0 M1846.07 1532.24 L1858.55 1532.24 L1858.55 1536.03 L1846.07 1536.03 L1846.07 1532.24 Z\" fill=\"#000000\" fill-rule=\"evenodd\" fill-opacity=\"1\" /><path clip-path=\"url(#clip580)\" d=\"M 0 0 M1875.93 1515.64 Q1872.32 1515.64 1870.49 1519.2 Q1868.68 1522.75 1868.68 1529.87 Q1868.68 1536.98 1870.49 1540.55 Q1872.32 1544.09 1875.93 1544.09 Q1879.56 1544.09 1881.37 1540.55 Q1883.2 1536.98 1883.2 1529.87 Q1883.2 1522.75 1881.37 1519.2 Q1879.56 1515.64 1875.93 1515.64 M1875.93 1511.93 Q1881.74 1511.93 1884.8 1516.54 Q1887.87 1521.12 1887.87 1529.87 Q1887.87 1538.6 1884.8 1543.21 Q1881.74 1547.79 1875.93 1547.79 Q1870.12 1547.79 1867.04 1543.21 Q1863.99 1538.6 1863.99 1529.87 Q1863.99 1521.12 1867.04 1516.54 Q1870.12 1511.93 1875.93 1511.93 Z\" fill=\"#000000\" fill-rule=\"evenodd\" fill-opacity=\"1\" /><path clip-path=\"url(#clip580)\" d=\"M 0 0 M1896.9 1543.18 L1904.54 1543.18 L1904.54 1516.82 L1896.23 1518.49 L1896.23 1514.23 L1904.49 1512.56 L1909.17 1512.56 L1909.17 1543.18 L1916.81 1543.18 L1916.81 1547.12 L1896.9 1547.12 L1896.9 1543.18 Z\" fill=\"#000000\" fill-rule=\"evenodd\" fill-opacity=\"1\" /><path clip-path=\"url(#clip580)\" d=\"M 0 0 M1923.5 1532.24 L1935.98 1532.24 L1935.98 1536.03 L1923.5 1536.03 L1923.5 1532.24 Z\" fill=\"#000000\" fill-rule=\"evenodd\" fill-opacity=\"1\" /><path clip-path=\"url(#clip580)\" d=\"M 0 0 M1953.36 1515.64 Q1949.75 1515.64 1947.92 1519.2 Q1946.11 1522.75 1946.11 1529.87 Q1946.11 1536.98 1947.92 1540.55 Q1949.75 1544.09 1953.36 1544.09 Q1956.99 1544.09 1958.8 1540.55 Q1960.63 1536.98 1960.63 1529.87 Q1960.63 1522.75 1958.8 1519.2 Q1956.99 1515.64 1953.36 1515.64 M1953.36 1511.93 Q1959.17 1511.93 1962.23 1516.54 Q1965.3 1521.12 1965.3 1529.87 Q1965.3 1538.6 1962.23 1543.21 Q1959.17 1547.79 1953.36 1547.79 Q1947.55 1547.79 1944.47 1543.21 Q1941.42 1538.6 1941.42 1529.87 Q1941.42 1521.12 1944.47 1516.54 Q1947.55 1511.93 1953.36 1511.93 Z\" fill=\"#000000\" fill-rule=\"evenodd\" fill-opacity=\"1\" /><path clip-path=\"url(#clip580)\" d=\"M 0 0 M1974.33 1543.18 L1981.97 1543.18 L1981.97 1516.82 L1973.66 1518.49 L1973.66 1514.23 L1981.92 1512.56 L1986.6 1512.56 L1986.6 1543.18 L1994.24 1543.18 L1994.24 1547.12 L1974.33 1547.12 L1974.33 1543.18 Z\" fill=\"#000000\" fill-rule=\"evenodd\" fill-opacity=\"1\" /><polyline clip-path=\"url(#clip582)\" style=\"stroke:#000000; stroke-width:2; stroke-opacity:0.1; fill:none\" points=\"\n",
       "  141.853,1187.66 2352.76,1187.66 \n",
       "  \"/>\n",
       "<polyline clip-path=\"url(#clip582)\" style=\"stroke:#000000; stroke-width:2; stroke-opacity:0.1; fill:none\" points=\"\n",
       "  141.853,857.398 2352.76,857.398 \n",
       "  \"/>\n",
       "<polyline clip-path=\"url(#clip582)\" style=\"stroke:#000000; stroke-width:2; stroke-opacity:0.1; fill:none\" points=\"\n",
       "  141.853,527.138 2352.76,527.138 \n",
       "  \"/>\n",
       "<polyline clip-path=\"url(#clip582)\" style=\"stroke:#000000; stroke-width:2; stroke-opacity:0.1; fill:none\" points=\"\n",
       "  141.853,196.878 2352.76,196.878 \n",
       "  \"/>\n",
       "<polyline clip-path=\"url(#clip580)\" style=\"stroke:#000000; stroke-width:4; stroke-opacity:1; fill:none\" points=\"\n",
       "  141.853,1486.45 141.853,47.2441 \n",
       "  \"/>\n",
       "<polyline clip-path=\"url(#clip580)\" style=\"stroke:#000000; stroke-width:4; stroke-opacity:1; fill:none\" points=\"\n",
       "  141.853,1187.66 168.384,1187.66 \n",
       "  \"/>\n",
       "<polyline clip-path=\"url(#clip580)\" style=\"stroke:#000000; stroke-width:4; stroke-opacity:1; fill:none\" points=\"\n",
       "  141.853,857.398 168.384,857.398 \n",
       "  \"/>\n",
       "<polyline clip-path=\"url(#clip580)\" style=\"stroke:#000000; stroke-width:4; stroke-opacity:1; fill:none\" points=\"\n",
       "  141.853,527.138 168.384,527.138 \n",
       "  \"/>\n",
       "<polyline clip-path=\"url(#clip580)\" style=\"stroke:#000000; stroke-width:4; stroke-opacity:1; fill:none\" points=\"\n",
       "  141.853,196.878 168.384,196.878 \n",
       "  \"/>\n",
       "<path clip-path=\"url(#clip580)\" d=\"M 0 0 M54.5569 1201 L62.1958 1201 L62.1958 1174.64 L53.8856 1176.3 L53.8856 1172.04 L62.1495 1170.38 L66.8254 1170.38 L66.8254 1201 L74.4642 1201 L74.4642 1204.94 L54.5569 1204.94 L54.5569 1201 Z\" fill=\"#000000\" fill-rule=\"evenodd\" fill-opacity=\"1\" /><path clip-path=\"url(#clip580)\" d=\"M 0 0 M93.9086 1173.46 Q90.2975 1173.46 88.4688 1177.02 Q86.6632 1180.56 86.6632 1187.69 Q86.6632 1194.8 88.4688 1198.36 Q90.2975 1201.91 93.9086 1201.91 Q97.5428 1201.91 99.3483 1198.36 Q101.177 1194.8 101.177 1187.69 Q101.177 1180.56 99.3483 1177.02 Q97.5428 1173.46 93.9086 1173.46 M93.9086 1169.75 Q99.7187 1169.75 102.774 1174.36 Q105.853 1178.94 105.853 1187.69 Q105.853 1196.42 102.774 1201.03 Q99.7187 1205.61 93.9086 1205.61 Q88.0984 1205.61 85.0197 1201.03 Q81.9642 1196.42 81.9642 1187.69 Q81.9642 1178.94 85.0197 1174.36 Q88.0984 1169.75 93.9086 1169.75 Z\" fill=\"#000000\" fill-rule=\"evenodd\" fill-opacity=\"1\" /><path clip-path=\"url(#clip580)\" d=\"M 0 0 M57.7745 870.743 L74.0939 870.743 L74.0939 874.678 L52.1495 874.678 L52.1495 870.743 Q54.8115 867.988 59.3949 863.358 Q64.0013 858.706 65.1819 857.363 Q67.4272 854.84 68.3068 853.104 Q69.2096 851.344 69.2096 849.655 Q69.2096 846.9 67.2652 845.164 Q65.3439 843.428 62.2421 843.428 Q60.043 843.428 57.5893 844.192 Q55.1588 844.956 52.381 846.507 L52.381 841.784 Q55.2051 840.65 57.6588 840.071 Q60.1124 839.493 62.1495 839.493 Q67.5198 839.493 70.7142 842.178 Q73.9087 844.863 73.9087 849.354 Q73.9087 851.483 73.0985 853.405 Q72.3115 855.303 70.205 857.895 Q69.6263 858.567 66.5245 861.784 Q63.4226 864.979 57.7745 870.743 Z\" fill=\"#000000\" fill-rule=\"evenodd\" fill-opacity=\"1\" /><path clip-path=\"url(#clip580)\" d=\"M 0 0 M93.9086 843.196 Q90.2975 843.196 88.4688 846.761 Q86.6632 850.303 86.6632 857.432 Q86.6632 864.539 88.4688 868.104 Q90.2975 871.645 93.9086 871.645 Q97.5428 871.645 99.3483 868.104 Q101.177 864.539 101.177 857.432 Q101.177 850.303 99.3483 846.761 Q97.5428 843.196 93.9086 843.196 M93.9086 839.493 Q99.7187 839.493 102.774 844.099 Q105.853 848.682 105.853 857.432 Q105.853 866.159 102.774 870.766 Q99.7187 875.349 93.9086 875.349 Q88.0984 875.349 85.0197 870.766 Q81.9642 866.159 81.9642 857.432 Q81.9642 848.682 85.0197 844.099 Q88.0984 839.493 93.9086 839.493 Z\" fill=\"#000000\" fill-rule=\"evenodd\" fill-opacity=\"1\" /><path clip-path=\"url(#clip580)\" d=\"M 0 0 M67.9133 525.784 Q71.2698 526.501 73.1448 528.77 Q75.0429 531.038 75.0429 534.372 Q75.0429 539.487 71.5244 542.288 Q68.0059 545.089 61.5245 545.089 Q59.3486 545.089 57.0338 544.649 Q54.7421 544.233 52.2884 543.376 L52.2884 538.862 Q54.2328 539.997 56.5477 540.575 Q58.8625 541.154 61.3856 541.154 Q65.7837 541.154 68.0754 539.418 Q70.3902 537.682 70.3902 534.372 Q70.3902 531.316 68.2374 529.603 Q66.1078 527.867 62.2884 527.867 L58.2606 527.867 L58.2606 524.025 L62.4735 524.025 Q65.9226 524.025 67.7513 522.659 Q69.58 521.27 69.58 518.677 Q69.58 516.015 67.6819 514.603 Q65.8069 513.168 62.2884 513.168 Q60.3671 513.168 58.168 513.585 Q55.969 514.001 53.3301 514.881 L53.3301 510.714 Q55.9921 509.974 58.3069 509.603 Q60.6449 509.233 62.705 509.233 Q68.0291 509.233 71.1309 511.664 Q74.2327 514.071 74.2327 518.191 Q74.2327 521.062 72.5892 523.052 Q70.9457 525.02 67.9133 525.784 Z\" fill=\"#000000\" fill-rule=\"evenodd\" fill-opacity=\"1\" /><path clip-path=\"url(#clip580)\" d=\"M 0 0 M93.9086 512.937 Q90.2975 512.937 88.4688 516.501 Q86.6632 520.043 86.6632 527.173 Q86.6632 534.279 88.4688 537.844 Q90.2975 541.386 93.9086 541.386 Q97.5428 541.386 99.3483 537.844 Q101.177 534.279 101.177 527.173 Q101.177 520.043 99.3483 516.501 Q97.5428 512.937 93.9086 512.937 M93.9086 509.233 Q99.7187 509.233 102.774 513.839 Q105.853 518.423 105.853 527.173 Q105.853 535.9 102.774 540.506 Q99.7187 545.089 93.9086 545.089 Q88.0984 545.089 85.0197 540.506 Q81.9642 535.9 81.9642 527.173 Q81.9642 518.423 85.0197 513.839 Q88.0984 509.233 93.9086 509.233 Z\" fill=\"#000000\" fill-rule=\"evenodd\" fill-opacity=\"1\" /><path clip-path=\"url(#clip580)\" d=\"M 0 0 M66.5939 183.672 L54.7884 202.121 L66.5939 202.121 L66.5939 183.672 M65.367 179.598 L71.2466 179.598 L71.2466 202.121 L76.1772 202.121 L76.1772 206.01 L71.2466 206.01 L71.2466 214.158 L66.5939 214.158 L66.5939 206.01 L50.9921 206.01 L50.9921 201.496 L65.367 179.598 Z\" fill=\"#000000\" fill-rule=\"evenodd\" fill-opacity=\"1\" /><path clip-path=\"url(#clip580)\" d=\"M 0 0 M93.9086 182.677 Q90.2975 182.677 88.4688 186.242 Q86.6632 189.783 86.6632 196.913 Q86.6632 204.019 88.4688 207.584 Q90.2975 211.126 93.9086 211.126 Q97.5428 211.126 99.3483 207.584 Q101.177 204.019 101.177 196.913 Q101.177 189.783 99.3483 186.242 Q97.5428 182.677 93.9086 182.677 M93.9086 178.973 Q99.7187 178.973 102.774 183.58 Q105.853 188.163 105.853 196.913 Q105.853 205.64 102.774 210.246 Q99.7187 214.83 93.9086 214.83 Q88.0984 214.83 85.0197 210.246 Q81.9642 205.64 81.9642 196.913 Q81.9642 188.163 85.0197 183.58 Q88.0984 178.973 93.9086 178.973 Z\" fill=\"#000000\" fill-rule=\"evenodd\" fill-opacity=\"1\" /><polyline clip-path=\"url(#clip582)\" style=\"stroke:#009af9; stroke-width:4; stroke-opacity:1; fill:none\" points=\"\n",
       "  204.426,1352.11 213.742,1361.15 223.059,1365.87 231.474,1368.3 240.791,1369.86 249.807,1370.4 259.124,1370.15 268.14,1368.01 277.457,1369.95 286.774,1365.69 \n",
       "  295.79,1362.04 305.107,1358.4 314.123,1355.03 323.44,1349.66 332.757,1348.91 341.172,1345.83 350.489,1343.4 359.505,1340.29 368.822,1337.02 377.838,1334.99 \n",
       "  387.155,1331.96 396.472,1331.43 405.488,1330.58 414.805,1330.91 423.821,1330.57 433.138,1330.51 442.454,1332.78 451.17,1332.04 460.487,1331.12 469.503,1331.54 \n",
       "  478.82,1328.5 487.836,1324.68 497.153,1322.34 506.47,1314.56 515.486,1311.17 524.803,1303.38 533.819,1301.13 543.136,1291.91 552.453,1289.66 560.868,1280.98 \n",
       "  570.185,1276.23 579.201,1272.55 588.518,1264.92 597.534,1259.55 606.851,1254.57 616.167,1248.53 625.184,1241.77 634.5,1224.66 643.517,1214 652.833,1195.87 \n",
       "  662.15,1202.47 670.565,1189.93 679.882,1181.55 688.898,1177.45 698.215,1169.25 707.231,1164.98 716.548,1165.18 725.865,1152.92 734.881,1148.47 744.198,1113.03 \n",
       "  753.214,1097.68 762.531,1061.92 771.848,1071.74 780.263,1056.5 789.58,1056.07 798.596,1058.59 807.913,1040.72 816.929,1023.74 826.246,1016.24 835.563,968.81 \n",
       "  844.579,956.407 853.896,923.023 862.912,942.921 872.229,921.751 881.546,940.892 890.261,917.77 899.578,890.898 908.594,884.039 917.911,859.505 926.927,830.612 \n",
       "  936.244,846.056 945.561,804.346 954.577,756.445 963.894,683.113 972.91,619.758 982.227,502.332 991.544,517.712 999.959,435.607 1009.28,391.406 1018.29,409.192 \n",
       "  1027.61,355.203 1036.62,337.6 1045.94,309.747 1055.26,223.922 1064.27,195.041 1073.59,186.624 1082.61,229.116 1091.92,188.002 1101.24,210.256 1109.66,228.886 \n",
       "  1118.97,296.17 1127.99,327.852 1137.31,290.471 1146.32,264.595 1155.64,282.273 1164.96,285.697 1173.97,218.865 1183.29,91.6831 1192.31,87.9763 1201.62,409.789 \n",
       "  1210.94,323.447 1219.35,473.033 1228.67,538.737 1237.69,524.388 1247,678.642 1256.02,774.684 1265.34,787.696 1274.65,981.606 1283.67,1117.34 1292.99,1328.03 \n",
       "  1302,1381.29 1311.32,1385.2 1320.64,1387.4 1329.35,1390.83 1338.67,1393.39 1347.69,1393.62 1357,1393.56 1366.02,1396.26 1375.34,1399.08 1384.65,1399.79 \n",
       "  1393.67,1399.53 1402.98,1398.69 1412,1399.73 1421.32,1400.02 1430.63,1401.78 1439.05,1402.98 1448.37,1404.63 1457.38,1405.68 1466.7,1404.52 1475.72,1401.59 \n",
       "  1485.03,1402.45 1494.35,1404.08 1503.37,1404.15 1512.68,1403.51 1521.7,1408.55 1531.02,1412.05 1540.33,1418.87 1548.75,1423.69 1558.06,1427.24 1567.08,1429.32 \n",
       "  1576.4,1433.32 1585.41,1436.64 1594.73,1441.05 1604.05,1445.72 1613.06,1444.54 1622.38,1444.88 1631.4,1442.73 1640.71,1440.34 1650.03,1440.41 1658.45,1440.21 \n",
       "  1667.76,1439.27 1676.78,1439.29 1686.09,1437.98 1695.11,1436.87 1704.43,1436.08 1713.74,1434.75 1722.76,1429.53 1732.08,1426.16 1741.09,1421 1750.41,1411.59 \n",
       "  1759.73,1409.8 1768.44,1407.36 1777.76,1403.49 1786.78,1398.54 1796.09,1390.8 1805.11,1385.51 1814.43,1382.99 1823.74,1380.93 1832.76,1375.09 1842.08,1369.66 \n",
       "  1851.09,1367.47 1860.41,1364.21 1869.73,1361.37 1878.14,1357.77 1887.46,1353.97 1896.47,1347.69 1905.79,1329.58 1914.81,1310.16 1924.12,1303.68 1933.44,1299.47 \n",
       "  1942.46,1291.4 1951.77,1278.5 1960.79,1264.16 1970.11,1247.91 1979.42,1251.05 1987.84,1251.11 1997.16,1247.57 2006.17,1244.57 2015.49,1241.84 2024.5,1249.59 \n",
       "  2033.82,1251.97 2043.14,1253.29 2052.15,1247.1 2061.47,1247.86 2070.49,1253.79 2079.8,1247.59 2089.12,1246.05 2097.54,1246.99 2106.85,1247.81 2115.87,1248.8 \n",
       "  2125.19,1233.65 2134.2,1216.9 2143.52,1214.48 2152.84,1218.58 2161.85,1213.34 2171.17,1200.69 2180.19,1192.37 2189.5,1197.63 2198.82,1199.52 2207.53,1195.03 \n",
       "  2216.85,1194.21 2225.87,1185.63 2235.18,1165.87 2244.2,1146.05 2253.52,1134.03 2262.83,1127.26 2271.85,1106.96 2281.17,1085.97 2290.18,1071.89 \n",
       "  \"/>\n",
       "<path clip-path=\"url(#clip580)\" d=\"\n",
       "M1360.49 216.178 L2279.06 216.178 L2279.06 95.2176 L1360.49 95.2176  Z\n",
       "  \" fill=\"#ffffff\" fill-rule=\"evenodd\" fill-opacity=\"1\"/>\n",
       "<polyline clip-path=\"url(#clip580)\" style=\"stroke:#000000; stroke-width:4; stroke-opacity:1; fill:none\" points=\"\n",
       "  1360.49,216.178 2279.06,216.178 2279.06,95.2176 1360.49,95.2176 1360.49,216.178 \n",
       "  \"/>\n",
       "<polyline clip-path=\"url(#clip580)\" style=\"stroke:#009af9; stroke-width:4; stroke-opacity:1; fill:none\" points=\"\n",
       "  1385.06,155.698 1532.45,155.698 \n",
       "  \"/>\n",
       "<path clip-path=\"url(#clip580)\" d=\"M 0 0 M1570.21 172.978 L1557.01 138.418 L1561.9 138.418 L1572.85 167.515 L1583.82 138.418 L1588.68 138.418 L1575.51 172.978 L1570.21 172.978 Z\" fill=\"#000000\" fill-rule=\"evenodd\" fill-opacity=\"1\" /><path clip-path=\"url(#clip580)\" d=\"M 0 0 M1601.64 159.945 Q1596.48 159.945 1594.49 161.126 Q1592.5 162.306 1592.5 165.154 Q1592.5 167.422 1593.98 168.765 Q1595.49 170.084 1598.06 170.084 Q1601.6 170.084 1603.73 167.584 Q1605.88 165.061 1605.88 160.894 L1605.88 159.945 L1601.64 159.945 M1610.14 158.186 L1610.14 172.978 L1605.88 172.978 L1605.88 169.042 Q1604.42 171.403 1602.25 172.538 Q1600.07 173.649 1596.92 173.649 Q1592.94 173.649 1590.58 171.427 Q1588.24 169.181 1588.24 165.431 Q1588.24 161.056 1591.16 158.834 Q1594.1 156.612 1599.91 156.612 L1605.88 156.612 L1605.88 156.195 Q1605.88 153.255 1603.94 151.658 Q1602.01 150.038 1598.52 150.038 Q1596.3 150.038 1594.19 150.57 Q1592.08 151.103 1590.14 152.167 L1590.14 148.232 Q1592.48 147.33 1594.68 146.89 Q1596.88 146.427 1598.96 146.427 Q1604.58 146.427 1607.36 149.343 Q1610.14 152.26 1610.14 158.186 Z\" fill=\"#000000\" fill-rule=\"evenodd\" fill-opacity=\"1\" /><path clip-path=\"url(#clip580)\" d=\"M 0 0 M1633.94 151.033 Q1633.22 150.617 1632.36 150.431 Q1631.53 150.223 1630.51 150.223 Q1626.9 150.223 1624.95 152.584 Q1623.03 154.922 1623.03 159.32 L1623.03 172.978 L1618.75 172.978 L1618.75 147.052 L1623.03 147.052 L1623.03 151.08 Q1624.38 148.718 1626.53 147.584 Q1628.68 146.427 1631.76 146.427 Q1632.2 146.427 1632.73 146.496 Q1633.26 146.543 1633.91 146.658 L1633.94 151.033 Z\" fill=\"#000000\" fill-rule=\"evenodd\" fill-opacity=\"1\" /><path clip-path=\"url(#clip580)\" d=\"M 0 0 M1634.65 167.098 L1639.54 167.098 L1639.54 172.978 L1634.65 172.978 L1634.65 167.098 Z\" fill=\"#000000\" fill-rule=\"evenodd\" fill-opacity=\"1\" /><path clip-path=\"url(#clip580)\" d=\"M 0 0 M1664.19 147.052 L1668.45 147.052 L1668.45 172.978 L1664.19 172.978 L1664.19 147.052 M1664.19 136.959 L1668.45 136.959 L1668.45 142.353 L1664.19 142.353 L1664.19 136.959 Z\" fill=\"#000000\" fill-rule=\"evenodd\" fill-opacity=\"1\" /><path clip-path=\"url(#clip580)\" d=\"M 0 0 M1698.91 157.329 L1698.91 172.978 L1694.65 172.978 L1694.65 157.468 Q1694.65 153.788 1693.22 151.959 Q1691.78 150.13 1688.91 150.13 Q1685.46 150.13 1683.47 152.33 Q1681.48 154.529 1681.48 158.325 L1681.48 172.978 L1677.2 172.978 L1677.2 147.052 L1681.48 147.052 L1681.48 151.08 Q1683.01 148.742 1685.07 147.584 Q1687.15 146.427 1689.86 146.427 Q1694.33 146.427 1696.62 149.205 Q1698.91 151.959 1698.91 157.329 Z\" fill=\"#000000\" fill-rule=\"evenodd\" fill-opacity=\"1\" /><path clip-path=\"url(#clip580)\" d=\"M 0 0 M1711.62 139.691 L1711.62 147.052 L1720.39 147.052 L1720.39 150.362 L1711.62 150.362 L1711.62 164.436 Q1711.62 167.607 1712.48 168.51 Q1713.36 169.413 1716.02 169.413 L1720.39 169.413 L1720.39 172.978 L1716.02 172.978 Q1711.09 172.978 1709.21 171.149 Q1707.34 169.297 1707.34 164.436 L1707.34 150.362 L1704.21 150.362 L1704.21 147.052 L1707.34 147.052 L1707.34 139.691 L1711.62 139.691 Z\" fill=\"#000000\" fill-rule=\"evenodd\" fill-opacity=\"1\" /><path clip-path=\"url(#clip580)\" d=\"M 0 0 M1748.17 158.95 L1748.17 161.033 L1728.59 161.033 Q1728.87 165.431 1731.23 167.746 Q1733.61 170.038 1737.85 170.038 Q1740.3 170.038 1742.59 169.436 Q1744.91 168.834 1747.18 167.63 L1747.18 171.658 Q1744.88 172.63 1742.48 173.14 Q1740.07 173.649 1737.59 173.649 Q1731.39 173.649 1727.75 170.038 Q1724.14 166.427 1724.14 160.269 Q1724.14 153.904 1727.57 150.177 Q1731.02 146.427 1736.85 146.427 Q1742.08 146.427 1745.12 149.806 Q1748.17 153.163 1748.17 158.95 M1743.91 157.7 Q1743.87 154.205 1741.94 152.121 Q1740.05 150.038 1736.9 150.038 Q1733.33 150.038 1731.18 152.052 Q1729.05 154.066 1728.73 157.723 L1743.91 157.7 Z\" fill=\"#000000\" fill-rule=\"evenodd\" fill-opacity=\"1\" /><path clip-path=\"url(#clip580)\" d=\"M 0 0 M1770.19 151.033 Q1769.47 150.617 1768.61 150.431 Q1767.78 150.223 1766.76 150.223 Q1763.15 150.223 1761.2 152.584 Q1759.28 154.922 1759.28 159.32 L1759.28 172.978 L1755 172.978 L1755 147.052 L1759.28 147.052 L1759.28 151.08 Q1760.62 148.718 1762.78 147.584 Q1764.93 146.427 1768.01 146.427 Q1768.45 146.427 1768.98 146.496 Q1769.51 146.543 1770.16 146.658 L1770.19 151.033 Z\" fill=\"#000000\" fill-rule=\"evenodd\" fill-opacity=\"1\" /><path clip-path=\"url(#clip580)\" d=\"M 0 0 M1786.43 159.945 Q1781.27 159.945 1779.28 161.126 Q1777.29 162.306 1777.29 165.154 Q1777.29 167.422 1778.77 168.765 Q1780.28 170.084 1782.85 170.084 Q1786.39 170.084 1788.52 167.584 Q1790.67 165.061 1790.67 160.894 L1790.67 159.945 L1786.43 159.945 M1794.93 158.186 L1794.93 172.978 L1790.67 172.978 L1790.67 169.042 Q1789.21 171.403 1787.04 172.538 Q1784.86 173.649 1781.71 173.649 Q1777.73 173.649 1775.37 171.427 Q1773.03 169.181 1773.03 165.431 Q1773.03 161.056 1775.95 158.834 Q1778.89 156.612 1784.7 156.612 L1790.67 156.612 L1790.67 156.195 Q1790.67 153.255 1788.73 151.658 Q1786.81 150.038 1783.31 150.038 Q1781.09 150.038 1778.98 150.57 Q1776.87 151.103 1774.93 152.167 L1774.93 148.232 Q1777.27 147.33 1779.47 146.89 Q1781.67 146.427 1783.75 146.427 Q1789.37 146.427 1792.15 149.343 Q1794.93 152.26 1794.93 158.186 Z\" fill=\"#000000\" fill-rule=\"evenodd\" fill-opacity=\"1\" /><path clip-path=\"url(#clip580)\" d=\"M 0 0 M1825.25 157.329 L1825.25 172.978 L1820.99 172.978 L1820.99 157.468 Q1820.99 153.788 1819.56 151.959 Q1818.12 150.13 1815.25 150.13 Q1811.81 150.13 1809.81 152.33 Q1807.82 154.529 1807.82 158.325 L1807.82 172.978 L1803.54 172.978 L1803.54 147.052 L1807.82 147.052 L1807.82 151.08 Q1809.35 148.742 1811.41 147.584 Q1813.5 146.427 1816.2 146.427 Q1820.67 146.427 1822.96 149.205 Q1825.25 151.959 1825.25 157.329 Z\" fill=\"#000000\" fill-rule=\"evenodd\" fill-opacity=\"1\" /><path clip-path=\"url(#clip580)\" d=\"M 0 0 M1833.31 162.746 L1833.31 147.052 L1837.57 147.052 L1837.57 162.584 Q1837.57 166.265 1839 168.116 Q1840.44 169.945 1843.31 169.945 Q1846.76 169.945 1848.75 167.746 Q1850.76 165.547 1850.76 161.751 L1850.76 147.052 L1855.02 147.052 L1855.02 172.978 L1850.76 172.978 L1850.76 168.996 Q1849.21 171.357 1847.15 172.515 Q1845.12 173.649 1842.41 173.649 Q1837.94 173.649 1835.62 170.871 Q1833.31 168.093 1833.31 162.746 M1844.03 146.427 L1844.03 146.427 Z\" fill=\"#000000\" fill-rule=\"evenodd\" fill-opacity=\"1\" /><path clip-path=\"url(#clip580)\" d=\"M 0 0 M1875.58 159.945 Q1870.42 159.945 1868.43 161.126 Q1866.43 162.306 1866.43 165.154 Q1866.43 167.422 1867.92 168.765 Q1869.42 170.084 1871.99 170.084 Q1875.53 170.084 1877.66 167.584 Q1879.81 165.061 1879.81 160.894 L1879.81 159.945 L1875.58 159.945 M1884.07 158.186 L1884.07 172.978 L1879.81 172.978 L1879.81 169.042 Q1878.36 171.403 1876.18 172.538 Q1874 173.649 1870.86 173.649 Q1866.87 173.649 1864.51 171.427 Q1862.18 169.181 1862.18 165.431 Q1862.18 161.056 1865.09 158.834 Q1868.03 156.612 1873.84 156.612 L1879.81 156.612 L1879.81 156.195 Q1879.81 153.255 1877.87 151.658 Q1875.95 150.038 1872.45 150.038 Q1870.23 150.038 1868.12 150.57 Q1866.02 151.103 1864.07 152.167 L1864.07 148.232 Q1866.41 147.33 1868.61 146.89 Q1870.81 146.427 1872.89 146.427 Q1878.52 146.427 1881.3 149.343 Q1884.07 152.26 1884.07 158.186 Z\" fill=\"#000000\" fill-rule=\"evenodd\" fill-opacity=\"1\" /><path clip-path=\"url(#clip580)\" d=\"M 0 0 M1892.85 136.959 L1897.11 136.959 L1897.11 172.978 L1892.85 172.978 L1892.85 136.959 Z\" fill=\"#000000\" fill-rule=\"evenodd\" fill-opacity=\"1\" /><path clip-path=\"url(#clip580)\" d=\"M 0 0 M1921.27 138.418 L1925.95 138.418 L1925.95 172.978 L1921.27 172.978 L1921.27 138.418 Z\" fill=\"#000000\" fill-rule=\"evenodd\" fill-opacity=\"1\" /><path clip-path=\"url(#clip580)\" d=\"M 0 0 M1939.93 142.26 L1939.93 155.246 L1945.81 155.246 Q1949.07 155.246 1950.86 153.556 Q1952.64 151.867 1952.64 148.742 Q1952.64 145.64 1950.86 143.95 Q1949.07 142.26 1945.81 142.26 L1939.93 142.26 M1935.25 138.418 L1945.81 138.418 Q1951.62 138.418 1954.58 141.056 Q1957.57 143.672 1957.57 148.742 Q1957.57 153.857 1954.58 156.473 Q1951.62 159.089 1945.81 159.089 L1939.93 159.089 L1939.93 172.978 L1935.25 172.978 L1935.25 138.418 Z\" fill=\"#000000\" fill-rule=\"evenodd\" fill-opacity=\"1\" /><path clip-path=\"url(#clip580)\" d=\"M 0 0 M1989.72 141.08 L1989.72 146.01 Q1987.36 143.811 1984.67 142.723 Q1982.01 141.635 1979 141.635 Q1973.08 141.635 1969.93 145.269 Q1966.78 148.88 1966.78 155.732 Q1966.78 162.561 1969.93 166.195 Q1973.08 169.806 1979 169.806 Q1982.01 169.806 1984.67 168.718 Q1987.36 167.63 1989.72 165.431 L1989.72 170.316 Q1987.27 171.982 1984.51 172.816 Q1981.78 173.649 1978.73 173.649 Q1970.88 173.649 1966.36 168.857 Q1961.85 164.042 1961.85 155.732 Q1961.85 147.399 1966.36 142.607 Q1970.88 137.793 1978.73 137.793 Q1981.83 137.793 1984.56 138.626 Q1987.31 139.436 1989.72 141.08 Z\" fill=\"#000000\" fill-rule=\"evenodd\" fill-opacity=\"1\" /><path clip-path=\"url(#clip580)\" d=\"M 0 0 M2015.95 169.089 L2015.95 182.839 L2011.67 182.839 L2011.67 147.052 L2015.95 147.052 L2015.95 150.987 Q2017.29 148.672 2019.33 147.561 Q2021.39 146.427 2024.23 146.427 Q2028.96 146.427 2031.9 150.177 Q2034.86 153.927 2034.86 160.038 Q2034.86 166.149 2031.9 169.899 Q2028.96 173.649 2024.23 173.649 Q2021.39 173.649 2019.33 172.538 Q2017.29 171.403 2015.95 169.089 M2030.44 160.038 Q2030.44 155.339 2028.49 152.677 Q2026.57 149.992 2023.19 149.992 Q2019.81 149.992 2017.87 152.677 Q2015.95 155.339 2015.95 160.038 Q2015.95 164.737 2017.87 167.422 Q2019.81 170.084 2023.19 170.084 Q2026.57 170.084 2028.49 167.422 Q2030.44 164.737 2030.44 160.038 Z\" fill=\"#000000\" fill-rule=\"evenodd\" fill-opacity=\"1\" /><path clip-path=\"url(#clip580)\" d=\"M 0 0 M2056.94 151.033 Q2056.23 150.617 2055.37 150.431 Q2054.54 150.223 2053.52 150.223 Q2049.91 150.223 2047.96 152.584 Q2046.04 154.922 2046.04 159.32 L2046.04 172.978 L2041.76 172.978 L2041.76 147.052 L2046.04 147.052 L2046.04 151.08 Q2047.38 148.718 2049.54 147.584 Q2051.69 146.427 2054.77 146.427 Q2055.21 146.427 2055.74 146.496 Q2056.27 146.543 2056.92 146.658 L2056.94 151.033 Z\" fill=\"#000000\" fill-rule=\"evenodd\" fill-opacity=\"1\" /><path clip-path=\"url(#clip580)\" d=\"M 0 0 M2070.41 150.038 Q2066.99 150.038 2065 152.723 Q2063.01 155.385 2063.01 160.038 Q2063.01 164.691 2064.98 167.376 Q2066.97 170.038 2070.41 170.038 Q2073.82 170.038 2075.81 167.353 Q2077.8 164.667 2077.8 160.038 Q2077.8 155.431 2075.81 152.746 Q2073.82 150.038 2070.41 150.038 M2070.41 146.427 Q2075.97 146.427 2079.14 150.038 Q2082.31 153.649 2082.31 160.038 Q2082.31 166.404 2079.14 170.038 Q2075.97 173.649 2070.41 173.649 Q2064.84 173.649 2061.66 170.038 Q2058.52 166.404 2058.52 160.038 Q2058.52 153.649 2061.66 150.038 Q2064.84 146.427 2070.41 146.427 Z\" fill=\"#000000\" fill-rule=\"evenodd\" fill-opacity=\"1\" /><path clip-path=\"url(#clip580)\" d=\"M 0 0 M2109.56 152.029 Q2111.16 149.158 2113.38 147.793 Q2115.6 146.427 2118.61 146.427 Q2122.66 146.427 2124.86 149.274 Q2127.06 152.098 2127.06 157.329 L2127.06 172.978 L2122.78 172.978 L2122.78 157.468 Q2122.78 153.742 2121.46 151.936 Q2120.14 150.13 2117.43 150.13 Q2114.12 150.13 2112.2 152.33 Q2110.28 154.529 2110.28 158.325 L2110.28 172.978 L2105.99 172.978 L2105.99 157.468 Q2105.99 153.718 2104.67 151.936 Q2103.35 150.13 2100.6 150.13 Q2097.34 150.13 2095.41 152.353 Q2093.49 154.552 2093.49 158.325 L2093.49 172.978 L2089.21 172.978 L2089.21 147.052 L2093.49 147.052 L2093.49 151.08 Q2094.95 148.695 2096.99 147.561 Q2099.03 146.427 2101.83 146.427 Q2104.65 146.427 2106.62 147.862 Q2108.61 149.297 2109.56 152.029 Z\" fill=\"#000000\" fill-rule=\"evenodd\" fill-opacity=\"1\" /><path clip-path=\"url(#clip580)\" d=\"M 0 0 M2157.73 158.95 L2157.73 161.033 L2138.15 161.033 Q2138.42 165.431 2140.78 167.746 Q2143.17 170.038 2147.41 170.038 Q2149.86 170.038 2152.15 169.436 Q2154.47 168.834 2156.73 167.63 L2156.73 171.658 Q2154.44 172.63 2152.03 173.14 Q2149.63 173.649 2147.15 173.649 Q2140.95 173.649 2137.31 170.038 Q2133.7 166.427 2133.7 160.269 Q2133.7 153.904 2137.13 150.177 Q2140.58 146.427 2146.41 146.427 Q2151.64 146.427 2154.67 149.806 Q2157.73 153.163 2157.73 158.95 M2153.47 157.7 Q2153.42 154.205 2151.5 152.121 Q2149.6 150.038 2146.46 150.038 Q2142.89 150.038 2140.74 152.052 Q2138.61 154.066 2138.28 157.723 L2153.47 157.7 Z\" fill=\"#000000\" fill-rule=\"evenodd\" fill-opacity=\"1\" /><path clip-path=\"url(#clip580)\" d=\"M 0 0 M2181.78 150.987 L2181.78 136.959 L2186.04 136.959 L2186.04 172.978 L2181.78 172.978 L2181.78 169.089 Q2180.44 171.403 2178.38 172.538 Q2176.34 173.649 2173.47 173.649 Q2168.77 173.649 2165.81 169.899 Q2162.87 166.149 2162.87 160.038 Q2162.87 153.927 2165.81 150.177 Q2168.77 146.427 2173.47 146.427 Q2176.34 146.427 2178.38 147.561 Q2180.44 148.672 2181.78 150.987 M2167.27 160.038 Q2167.27 164.737 2169.19 167.422 Q2171.13 170.084 2174.51 170.084 Q2177.89 170.084 2179.84 167.422 Q2181.78 164.737 2181.78 160.038 Q2181.78 155.339 2179.84 152.677 Q2177.89 149.992 2174.51 149.992 Q2171.13 149.992 2169.19 152.677 Q2167.27 155.339 2167.27 160.038 Z\" fill=\"#000000\" fill-rule=\"evenodd\" fill-opacity=\"1\" /><path clip-path=\"url(#clip580)\" d=\"M 0 0 M2194.81 147.052 L2199.07 147.052 L2199.07 172.978 L2194.81 172.978 L2194.81 147.052 M2194.81 136.959 L2199.07 136.959 L2199.07 142.353 L2194.81 142.353 L2194.81 136.959 Z\" fill=\"#000000\" fill-rule=\"evenodd\" fill-opacity=\"1\" /><path clip-path=\"url(#clip580)\" d=\"M 0 0 M2218.03 150.038 Q2214.6 150.038 2212.61 152.723 Q2210.62 155.385 2210.62 160.038 Q2210.62 164.691 2212.59 167.376 Q2214.58 170.038 2218.03 170.038 Q2221.43 170.038 2223.42 167.353 Q2225.41 164.667 2225.41 160.038 Q2225.41 155.431 2223.42 152.746 Q2221.43 150.038 2218.03 150.038 M2218.03 146.427 Q2223.59 146.427 2226.76 150.038 Q2229.93 153.649 2229.93 160.038 Q2229.93 166.404 2226.76 170.038 Q2223.59 173.649 2218.03 173.649 Q2212.45 173.649 2209.28 170.038 Q2206.13 166.404 2206.13 160.038 Q2206.13 153.649 2209.28 150.038 Q2212.45 146.427 2218.03 146.427 Z\" fill=\"#000000\" fill-rule=\"evenodd\" fill-opacity=\"1\" /></svg>\n"
      ]
     },
     "execution_count": 52,
     "metadata": {},
     "output_type": "execute_result"
    }
   ],
   "source": [
    "# Promedio a través de las realizaciones\n",
    "m_tray_infl = vec(mean(tray_infl, dims=3))\n",
    "plot(infl_dates(gtdata[Date(2020,12)]), m_tray_infl, label=\"Var. interanual IPC promedio\") "
   ]
  },
  {
   "cell_type": "markdown",
   "metadata": {},
   "source": [
    "## Generación de trayectorias en paralelo\n",
    "\n",
    "Para generar trayectorias en paralelo utilizamos la librería `Distributed` en cada proceso y la función `pargentrayinfl`."
   ]
  },
  {
   "cell_type": "code",
   "execution_count": 53,
   "metadata": {},
   "outputs": [],
   "source": [
    "using Distributed"
   ]
  },
  {
   "cell_type": "code",
   "execution_count": 54,
   "metadata": {},
   "outputs": [
    {
     "data": {
      "text/plain": [
       "4-element Vector{Int64}:\n",
       " 2\n",
       " 3\n",
       " 4\n",
       " 5"
      ]
     },
     "execution_count": 54,
     "metadata": {},
     "output_type": "execute_result"
    }
   ],
   "source": [
    "addprocs(4, exeflags=\"--project\")"
   ]
  },
  {
   "cell_type": "code",
   "execution_count": 55,
   "metadata": {},
   "outputs": [],
   "source": [
    "@everywhere begin\n",
    "    using Dates, CPIDataBase\n",
    "    using InflationFunctions\n",
    "    using InflationEvalTools\n",
    "end"
   ]
  },
  {
   "cell_type": "code",
   "execution_count": 56,
   "metadata": {},
   "outputs": [
    {
     "data": {
      "text/plain": [
       "(::Percentil{Float32}) (generic function with 4 methods)"
      ]
     },
     "execution_count": 56,
     "metadata": {},
     "output_type": "execute_result"
    }
   ],
   "source": [
    "perkfn = InflationPercentileEq(72)"
   ]
  },
  {
   "cell_type": "code",
   "execution_count": 57,
   "metadata": {},
   "outputs": [
    {
     "name": "stderr",
     "output_type": "stream",
     "text": [
      "\u001b[32mProgress: 100%|█████████████████████████████████████████| Time: 0:00:11\u001b[39m\n"
     ]
    },
    {
     "data": {
      "text/plain": [
       "(229, 1, 10000)"
      ]
     },
     "execution_count": 57,
     "metadata": {},
     "output_type": "execute_result"
    }
   ],
   "source": [
    "tray_infl = pargentrayinfl(perkfn, gtdata[Date(2020,12)]; K = 10_000); \n",
    "size(tray_infl)"
   ]
  },
  {
   "cell_type": "code",
   "execution_count": 58,
   "metadata": {},
   "outputs": [
    {
     "data": {
      "image/svg+xml": [
       "<?xml version=\"1.0\" encoding=\"utf-8\"?>\n",
       "<svg xmlns=\"http://www.w3.org/2000/svg\" xmlns:xlink=\"http://www.w3.org/1999/xlink\" width=\"600\" height=\"400\" viewBox=\"0 0 2400 1600\">\n",
       "<defs>\n",
       "  <clipPath id=\"clip620\">\n",
       "    <rect x=\"0\" y=\"0\" width=\"2400\" height=\"1600\"/>\n",
       "  </clipPath>\n",
       "</defs>\n",
       "<path clip-path=\"url(#clip620)\" d=\"\n",
       "M0 1600 L2400 1600 L2400 0 L0 0  Z\n",
       "  \" fill=\"#ffffff\" fill-rule=\"evenodd\" fill-opacity=\"1\"/>\n",
       "<defs>\n",
       "  <clipPath id=\"clip621\">\n",
       "    <rect x=\"480\" y=\"0\" width=\"1681\" height=\"1600\"/>\n",
       "  </clipPath>\n",
       "</defs>\n",
       "<path clip-path=\"url(#clip620)\" d=\"\n",
       "M112.177 1486.45 L2352.76 1486.45 L2352.76 47.2441 L112.177 47.2441  Z\n",
       "  \" fill=\"#ffffff\" fill-rule=\"evenodd\" fill-opacity=\"1\"/>\n",
       "<defs>\n",
       "  <clipPath id=\"clip622\">\n",
       "    <rect x=\"112\" y=\"47\" width=\"2242\" height=\"1440\"/>\n",
       "  </clipPath>\n",
       "</defs>\n",
       "<polyline clip-path=\"url(#clip622)\" style=\"stroke:#000000; stroke-width:2; stroke-opacity:0.1; fill:none\" points=\"\n",
       "  185.032,1486.45 185.032,47.2441 \n",
       "  \"/>\n",
       "<polyline clip-path=\"url(#clip622)\" style=\"stroke:#000000; stroke-width:2; stroke-opacity:0.1; fill:none\" points=\"\n",
       "  741.186,1486.45 741.186,47.2441 \n",
       "  \"/>\n",
       "<polyline clip-path=\"url(#clip622)\" style=\"stroke:#000000; stroke-width:2; stroke-opacity:0.1; fill:none\" points=\"\n",
       "  1297.34,1486.45 1297.34,47.2441 \n",
       "  \"/>\n",
       "<polyline clip-path=\"url(#clip622)\" style=\"stroke:#000000; stroke-width:2; stroke-opacity:0.1; fill:none\" points=\"\n",
       "  1853.8,1486.45 1853.8,47.2441 \n",
       "  \"/>\n",
       "<polyline clip-path=\"url(#clip620)\" style=\"stroke:#000000; stroke-width:4; stroke-opacity:1; fill:none\" points=\"\n",
       "  112.177,1486.45 2352.76,1486.45 \n",
       "  \"/>\n",
       "<polyline clip-path=\"url(#clip620)\" style=\"stroke:#000000; stroke-width:4; stroke-opacity:1; fill:none\" points=\"\n",
       "  185.032,1486.45 185.032,1469.18 \n",
       "  \"/>\n",
       "<polyline clip-path=\"url(#clip620)\" style=\"stroke:#000000; stroke-width:4; stroke-opacity:1; fill:none\" points=\"\n",
       "  741.186,1486.45 741.186,1469.18 \n",
       "  \"/>\n",
       "<polyline clip-path=\"url(#clip620)\" style=\"stroke:#000000; stroke-width:4; stroke-opacity:1; fill:none\" points=\"\n",
       "  1297.34,1486.45 1297.34,1469.18 \n",
       "  \"/>\n",
       "<polyline clip-path=\"url(#clip620)\" style=\"stroke:#000000; stroke-width:4; stroke-opacity:1; fill:none\" points=\"\n",
       "  1853.8,1486.45 1853.8,1469.18 \n",
       "  \"/>\n",
       "<path clip-path=\"url(#clip620)\" d=\"M 0 0 M56.8263 1543.18 L73.1456 1543.18 L73.1456 1547.12 L51.2013 1547.12 L51.2013 1543.18 Q53.8633 1540.43 58.4467 1535.8 Q63.0531 1531.15 64.2337 1529.81 Q66.479 1527.28 67.3586 1525.55 Q68.2614 1523.79 68.2614 1522.1 Q68.2614 1519.34 66.317 1517.61 Q64.3957 1515.87 61.2939 1515.87 Q59.0948 1515.87 56.6411 1516.63 Q54.2106 1517.4 51.4328 1518.95 L51.4328 1514.23 Q54.2569 1513.09 56.7105 1512.51 Q59.1642 1511.93 61.2013 1511.93 Q66.5716 1511.93 69.766 1514.62 Q72.9605 1517.31 72.9605 1521.8 Q72.9605 1523.93 72.1503 1525.85 Q71.3632 1527.74 69.2568 1530.34 Q68.6781 1531.01 65.5762 1534.23 Q62.4744 1537.42 56.8263 1543.18 Z\" fill=\"#000000\" fill-rule=\"evenodd\" fill-opacity=\"1\" /><path clip-path=\"url(#clip620)\" d=\"M 0 0 M92.9604 1515.64 Q89.3493 1515.64 87.5206 1519.2 Q85.715 1522.75 85.715 1529.87 Q85.715 1536.98 87.5206 1540.55 Q89.3493 1544.09 92.9604 1544.09 Q96.5946 1544.09 98.4001 1540.55 Q100.229 1536.98 100.229 1529.87 Q100.229 1522.75 98.4001 1519.2 Q96.5946 1515.64 92.9604 1515.64 M92.9604 1511.93 Q98.7705 1511.93 101.826 1516.54 Q104.905 1521.12 104.905 1529.87 Q104.905 1538.6 101.826 1543.21 Q98.7705 1547.79 92.9604 1547.79 Q87.1502 1547.79 84.0715 1543.21 Q81.016 1538.6 81.016 1529.87 Q81.016 1521.12 84.0715 1516.54 Q87.1502 1511.93 92.9604 1511.93 Z\" fill=\"#000000\" fill-rule=\"evenodd\" fill-opacity=\"1\" /><path clip-path=\"url(#clip620)\" d=\"M 0 0 M123.122 1515.64 Q119.511 1515.64 117.682 1519.2 Q115.877 1522.75 115.877 1529.87 Q115.877 1536.98 117.682 1540.55 Q119.511 1544.09 123.122 1544.09 Q126.756 1544.09 128.562 1540.55 Q130.391 1536.98 130.391 1529.87 Q130.391 1522.75 128.562 1519.2 Q126.756 1515.64 123.122 1515.64 M123.122 1511.93 Q128.932 1511.93 131.988 1516.54 Q135.067 1521.12 135.067 1529.87 Q135.067 1538.6 131.988 1543.21 Q128.932 1547.79 123.122 1547.79 Q117.312 1547.79 114.233 1543.21 Q111.178 1538.6 111.178 1529.87 Q111.178 1521.12 114.233 1516.54 Q117.312 1511.93 123.122 1511.93 Z\" fill=\"#000000\" fill-rule=\"evenodd\" fill-opacity=\"1\" /><path clip-path=\"url(#clip620)\" d=\"M 0 0 M147.312 1543.18 L163.631 1543.18 L163.631 1547.12 L141.687 1547.12 L141.687 1543.18 Q144.349 1540.43 148.932 1535.8 Q153.539 1531.15 154.719 1529.81 Q156.965 1527.28 157.844 1525.55 Q158.747 1523.79 158.747 1522.1 Q158.747 1519.34 156.803 1517.61 Q154.881 1515.87 151.779 1515.87 Q149.58 1515.87 147.127 1516.63 Q144.696 1517.4 141.918 1518.95 L141.918 1514.23 Q144.742 1513.09 147.196 1512.51 Q149.65 1511.93 151.687 1511.93 Q157.057 1511.93 160.252 1514.62 Q163.446 1517.31 163.446 1521.8 Q163.446 1523.93 162.636 1525.85 Q161.849 1527.74 159.742 1530.34 Q159.164 1531.01 156.062 1534.23 Q152.96 1537.42 147.312 1543.18 Z\" fill=\"#000000\" fill-rule=\"evenodd\" fill-opacity=\"1\" /><path clip-path=\"url(#clip620)\" d=\"M 0 0 M170.691 1532.24 L183.168 1532.24 L183.168 1536.03 L170.691 1536.03 L170.691 1532.24 Z\" fill=\"#000000\" fill-rule=\"evenodd\" fill-opacity=\"1\" /><path clip-path=\"url(#clip620)\" d=\"M 0 0 M200.552 1515.64 Q196.941 1515.64 195.113 1519.2 Q193.307 1522.75 193.307 1529.87 Q193.307 1536.98 195.113 1540.55 Q196.941 1544.09 200.552 1544.09 Q204.187 1544.09 205.992 1540.55 Q207.821 1536.98 207.821 1529.87 Q207.821 1522.75 205.992 1519.2 Q204.187 1515.64 200.552 1515.64 M200.552 1511.93 Q206.363 1511.93 209.418 1516.54 Q212.497 1521.12 212.497 1529.87 Q212.497 1538.6 209.418 1543.21 Q206.363 1547.79 200.552 1547.79 Q194.742 1547.79 191.664 1543.21 Q188.608 1538.6 188.608 1529.87 Q188.608 1521.12 191.664 1516.54 Q194.742 1511.93 200.552 1511.93 Z\" fill=\"#000000\" fill-rule=\"evenodd\" fill-opacity=\"1\" /><path clip-path=\"url(#clip620)\" d=\"M 0 0 M221.524 1543.18 L229.163 1543.18 L229.163 1516.82 L220.853 1518.49 L220.853 1514.23 L229.117 1512.56 L233.793 1512.56 L233.793 1543.18 L241.432 1543.18 L241.432 1547.12 L221.524 1547.12 L221.524 1543.18 Z\" fill=\"#000000\" fill-rule=\"evenodd\" fill-opacity=\"1\" /><path clip-path=\"url(#clip620)\" d=\"M 0 0 M248.122 1532.24 L260.598 1532.24 L260.598 1536.03 L248.122 1536.03 L248.122 1532.24 Z\" fill=\"#000000\" fill-rule=\"evenodd\" fill-opacity=\"1\" /><path clip-path=\"url(#clip620)\" d=\"M 0 0 M277.983 1515.64 Q274.371 1515.64 272.543 1519.2 Q270.737 1522.75 270.737 1529.87 Q270.737 1536.98 272.543 1540.55 Q274.371 1544.09 277.983 1544.09 Q281.617 1544.09 283.422 1540.55 Q285.251 1536.98 285.251 1529.87 Q285.251 1522.75 283.422 1519.2 Q281.617 1515.64 277.983 1515.64 M277.983 1511.93 Q283.793 1511.93 286.848 1516.54 Q289.927 1521.12 289.927 1529.87 Q289.927 1538.6 286.848 1543.21 Q283.793 1547.79 277.983 1547.79 Q272.172 1547.79 269.094 1543.21 Q266.038 1538.6 266.038 1529.87 Q266.038 1521.12 269.094 1516.54 Q272.172 1511.93 277.983 1511.93 Z\" fill=\"#000000\" fill-rule=\"evenodd\" fill-opacity=\"1\" /><path clip-path=\"url(#clip620)\" d=\"M 0 0 M298.955 1543.18 L306.593 1543.18 L306.593 1516.82 L298.283 1518.49 L298.283 1514.23 L306.547 1512.56 L311.223 1512.56 L311.223 1543.18 L318.862 1543.18 L318.862 1547.12 L298.955 1547.12 L298.955 1543.18 Z\" fill=\"#000000\" fill-rule=\"evenodd\" fill-opacity=\"1\" /><path clip-path=\"url(#clip620)\" d=\"M 0 0 M612.981 1543.18 L629.3 1543.18 L629.3 1547.12 L607.356 1547.12 L607.356 1543.18 Q610.018 1540.43 614.601 1535.8 Q619.208 1531.15 620.388 1529.81 Q622.634 1527.28 623.513 1525.55 Q624.416 1523.79 624.416 1522.1 Q624.416 1519.34 622.472 1517.61 Q620.55 1515.87 617.449 1515.87 Q615.25 1515.87 612.796 1516.63 Q610.365 1517.4 607.588 1518.95 L607.588 1514.23 Q610.412 1513.09 612.865 1512.51 Q615.319 1511.93 617.356 1511.93 Q622.726 1511.93 625.921 1514.62 Q629.115 1517.31 629.115 1521.8 Q629.115 1523.93 628.305 1525.85 Q627.518 1527.74 625.412 1530.34 Q624.833 1531.01 621.731 1534.23 Q618.629 1537.42 612.981 1543.18 Z\" fill=\"#000000\" fill-rule=\"evenodd\" fill-opacity=\"1\" /><path clip-path=\"url(#clip620)\" d=\"M 0 0 M649.115 1515.64 Q645.504 1515.64 643.675 1519.2 Q641.87 1522.75 641.87 1529.87 Q641.87 1536.98 643.675 1540.55 Q645.504 1544.09 649.115 1544.09 Q652.749 1544.09 654.555 1540.55 Q656.384 1536.98 656.384 1529.87 Q656.384 1522.75 654.555 1519.2 Q652.749 1515.64 649.115 1515.64 M649.115 1511.93 Q654.925 1511.93 657.981 1516.54 Q661.059 1521.12 661.059 1529.87 Q661.059 1538.6 657.981 1543.21 Q654.925 1547.79 649.115 1547.79 Q643.305 1547.79 640.226 1543.21 Q637.171 1538.6 637.171 1529.87 Q637.171 1521.12 640.226 1516.54 Q643.305 1511.93 649.115 1511.93 Z\" fill=\"#000000\" fill-rule=\"evenodd\" fill-opacity=\"1\" /><path clip-path=\"url(#clip620)\" d=\"M 0 0 M679.277 1515.64 Q675.666 1515.64 673.837 1519.2 Q672.032 1522.75 672.032 1529.87 Q672.032 1536.98 673.837 1540.55 Q675.666 1544.09 679.277 1544.09 Q682.911 1544.09 684.717 1540.55 Q686.545 1536.98 686.545 1529.87 Q686.545 1522.75 684.717 1519.2 Q682.911 1515.64 679.277 1515.64 M679.277 1511.93 Q685.087 1511.93 688.143 1516.54 Q691.221 1521.12 691.221 1529.87 Q691.221 1538.6 688.143 1543.21 Q685.087 1547.79 679.277 1547.79 Q673.467 1547.79 670.388 1543.21 Q667.333 1538.6 667.333 1529.87 Q667.333 1521.12 670.388 1516.54 Q673.467 1511.93 679.277 1511.93 Z\" fill=\"#000000\" fill-rule=\"evenodd\" fill-opacity=\"1\" /><path clip-path=\"url(#clip620)\" d=\"M 0 0 M698.258 1512.56 L720.48 1512.56 L720.48 1514.55 L707.934 1547.12 L703.05 1547.12 L714.855 1516.5 L698.258 1516.5 L698.258 1512.56 Z\" fill=\"#000000\" fill-rule=\"evenodd\" fill-opacity=\"1\" /><path clip-path=\"url(#clip620)\" d=\"M 0 0 M726.846 1532.24 L739.323 1532.24 L739.323 1536.03 L726.846 1536.03 L726.846 1532.24 Z\" fill=\"#000000\" fill-rule=\"evenodd\" fill-opacity=\"1\" /><path clip-path=\"url(#clip620)\" d=\"M 0 0 M756.707 1515.64 Q753.096 1515.64 751.267 1519.2 Q749.462 1522.75 749.462 1529.87 Q749.462 1536.98 751.267 1540.55 Q753.096 1544.09 756.707 1544.09 Q760.341 1544.09 762.147 1540.55 Q763.976 1536.98 763.976 1529.87 Q763.976 1522.75 762.147 1519.2 Q760.341 1515.64 756.707 1515.64 M756.707 1511.93 Q762.517 1511.93 765.573 1516.54 Q768.651 1521.12 768.651 1529.87 Q768.651 1538.6 765.573 1543.21 Q762.517 1547.79 756.707 1547.79 Q750.897 1547.79 747.818 1543.21 Q744.763 1538.6 744.763 1529.87 Q744.763 1521.12 747.818 1516.54 Q750.897 1511.93 756.707 1511.93 Z\" fill=\"#000000\" fill-rule=\"evenodd\" fill-opacity=\"1\" /><path clip-path=\"url(#clip620)\" d=\"M 0 0 M777.679 1543.18 L785.318 1543.18 L785.318 1516.82 L777.008 1518.49 L777.008 1514.23 L785.272 1512.56 L789.948 1512.56 L789.948 1543.18 L797.587 1543.18 L797.587 1547.12 L777.679 1547.12 L777.679 1543.18 Z\" fill=\"#000000\" fill-rule=\"evenodd\" fill-opacity=\"1\" /><path clip-path=\"url(#clip620)\" d=\"M 0 0 M804.276 1532.24 L816.753 1532.24 L816.753 1536.03 L804.276 1536.03 L804.276 1532.24 Z\" fill=\"#000000\" fill-rule=\"evenodd\" fill-opacity=\"1\" /><path clip-path=\"url(#clip620)\" d=\"M 0 0 M834.137 1515.64 Q830.526 1515.64 828.697 1519.2 Q826.892 1522.75 826.892 1529.87 Q826.892 1536.98 828.697 1540.55 Q830.526 1544.09 834.137 1544.09 Q837.771 1544.09 839.577 1540.55 Q841.406 1536.98 841.406 1529.87 Q841.406 1522.75 839.577 1519.2 Q837.771 1515.64 834.137 1515.64 M834.137 1511.93 Q839.947 1511.93 843.003 1516.54 Q846.082 1521.12 846.082 1529.87 Q846.082 1538.6 843.003 1543.21 Q839.947 1547.79 834.137 1547.79 Q828.327 1547.79 825.248 1543.21 Q822.193 1538.6 822.193 1529.87 Q822.193 1521.12 825.248 1516.54 Q828.327 1511.93 834.137 1511.93 Z\" fill=\"#000000\" fill-rule=\"evenodd\" fill-opacity=\"1\" /><path clip-path=\"url(#clip620)\" d=\"M 0 0 M855.109 1543.18 L862.748 1543.18 L862.748 1516.82 L854.438 1518.49 L854.438 1514.23 L862.702 1512.56 L867.378 1512.56 L867.378 1543.18 L875.017 1543.18 L875.017 1547.12 L855.109 1547.12 L855.109 1543.18 Z\" fill=\"#000000\" fill-rule=\"evenodd\" fill-opacity=\"1\" /><path clip-path=\"url(#clip620)\" d=\"M 0 0 M1169.14 1543.18 L1185.46 1543.18 L1185.46 1547.12 L1163.51 1547.12 L1163.51 1543.18 Q1166.17 1540.43 1170.76 1535.8 Q1175.36 1531.15 1176.54 1529.81 Q1178.79 1527.28 1179.67 1525.55 Q1180.57 1523.79 1180.57 1522.1 Q1180.57 1519.34 1178.63 1517.61 Q1176.71 1515.87 1173.6 1515.87 Q1171.4 1515.87 1168.95 1516.63 Q1166.52 1517.4 1163.74 1518.95 L1163.74 1514.23 Q1166.57 1513.09 1169.02 1512.51 Q1171.47 1511.93 1173.51 1511.93 Q1178.88 1511.93 1182.08 1514.62 Q1185.27 1517.31 1185.27 1521.8 Q1185.27 1523.93 1184.46 1525.85 Q1183.67 1527.74 1181.57 1530.34 Q1180.99 1531.01 1177.89 1534.23 Q1174.78 1537.42 1169.14 1543.18 Z\" fill=\"#000000\" fill-rule=\"evenodd\" fill-opacity=\"1\" /><path clip-path=\"url(#clip620)\" d=\"M 0 0 M1205.27 1515.64 Q1201.66 1515.64 1199.83 1519.2 Q1198.02 1522.75 1198.02 1529.87 Q1198.02 1536.98 1199.83 1540.55 Q1201.66 1544.09 1205.27 1544.09 Q1208.9 1544.09 1210.71 1540.55 Q1212.54 1536.98 1212.54 1529.87 Q1212.54 1522.75 1210.71 1519.2 Q1208.9 1515.64 1205.27 1515.64 M1205.27 1511.93 Q1211.08 1511.93 1214.14 1516.54 Q1217.21 1521.12 1217.21 1529.87 Q1217.21 1538.6 1214.14 1543.21 Q1211.08 1547.79 1205.27 1547.79 Q1199.46 1547.79 1196.38 1543.21 Q1193.33 1538.6 1193.33 1529.87 Q1193.33 1521.12 1196.38 1516.54 Q1199.46 1511.93 1205.27 1511.93 Z\" fill=\"#000000\" fill-rule=\"evenodd\" fill-opacity=\"1\" /><path clip-path=\"url(#clip620)\" d=\"M 0 0 M1226.24 1543.18 L1233.88 1543.18 L1233.88 1516.82 L1225.57 1518.49 L1225.57 1514.23 L1233.83 1512.56 L1238.51 1512.56 L1238.51 1543.18 L1246.15 1543.18 L1246.15 1547.12 L1226.24 1547.12 L1226.24 1543.18 Z\" fill=\"#000000\" fill-rule=\"evenodd\" fill-opacity=\"1\" /><path clip-path=\"url(#clip620)\" d=\"M 0 0 M1259.62 1543.18 L1275.94 1543.18 L1275.94 1547.12 L1254 1547.12 L1254 1543.18 Q1256.66 1540.43 1261.24 1535.8 Q1265.85 1531.15 1267.03 1529.81 Q1269.27 1527.28 1270.15 1525.55 Q1271.06 1523.79 1271.06 1522.1 Q1271.06 1519.34 1269.11 1517.61 Q1267.19 1515.87 1264.09 1515.87 Q1261.89 1515.87 1259.44 1516.63 Q1257.01 1517.4 1254.23 1518.95 L1254.23 1514.23 Q1257.05 1513.09 1259.51 1512.51 Q1261.96 1511.93 1264 1511.93 Q1269.37 1511.93 1272.56 1514.62 Q1275.76 1517.31 1275.76 1521.8 Q1275.76 1523.93 1274.95 1525.85 Q1274.16 1527.74 1272.05 1530.34 Q1271.47 1531.01 1268.37 1534.23 Q1265.27 1537.42 1259.62 1543.18 Z\" fill=\"#000000\" fill-rule=\"evenodd\" fill-opacity=\"1\" /><path clip-path=\"url(#clip620)\" d=\"M 0 0 M1283 1532.24 L1295.48 1532.24 L1295.48 1536.03 L1283 1536.03 L1283 1532.24 Z\" fill=\"#000000\" fill-rule=\"evenodd\" fill-opacity=\"1\" /><path clip-path=\"url(#clip620)\" d=\"M 0 0 M1312.86 1515.64 Q1309.25 1515.64 1307.42 1519.2 Q1305.62 1522.75 1305.62 1529.87 Q1305.62 1536.98 1307.42 1540.55 Q1309.25 1544.09 1312.86 1544.09 Q1316.5 1544.09 1318.3 1540.55 Q1320.13 1536.98 1320.13 1529.87 Q1320.13 1522.75 1318.3 1519.2 Q1316.5 1515.64 1312.86 1515.64 M1312.86 1511.93 Q1318.67 1511.93 1321.73 1516.54 Q1324.81 1521.12 1324.81 1529.87 Q1324.81 1538.6 1321.73 1543.21 Q1318.67 1547.79 1312.86 1547.79 Q1307.05 1547.79 1303.97 1543.21 Q1300.92 1538.6 1300.92 1529.87 Q1300.92 1521.12 1303.97 1516.54 Q1307.05 1511.93 1312.86 1511.93 Z\" fill=\"#000000\" fill-rule=\"evenodd\" fill-opacity=\"1\" /><path clip-path=\"url(#clip620)\" d=\"M 0 0 M1333.83 1543.18 L1341.47 1543.18 L1341.47 1516.82 L1333.16 1518.49 L1333.16 1514.23 L1341.43 1512.56 L1346.1 1512.56 L1346.1 1543.18 L1353.74 1543.18 L1353.74 1547.12 L1333.83 1547.12 L1333.83 1543.18 Z\" fill=\"#000000\" fill-rule=\"evenodd\" fill-opacity=\"1\" /><path clip-path=\"url(#clip620)\" d=\"M 0 0 M1360.43 1532.24 L1372.91 1532.24 L1372.91 1536.03 L1360.43 1536.03 L1360.43 1532.24 Z\" fill=\"#000000\" fill-rule=\"evenodd\" fill-opacity=\"1\" /><path clip-path=\"url(#clip620)\" d=\"M 0 0 M1390.29 1515.64 Q1386.68 1515.64 1384.85 1519.2 Q1383.05 1522.75 1383.05 1529.87 Q1383.05 1536.98 1384.85 1540.55 Q1386.68 1544.09 1390.29 1544.09 Q1393.93 1544.09 1395.73 1540.55 Q1397.56 1536.98 1397.56 1529.87 Q1397.56 1522.75 1395.73 1519.2 Q1393.93 1515.64 1390.29 1515.64 M1390.29 1511.93 Q1396.1 1511.93 1399.16 1516.54 Q1402.24 1521.12 1402.24 1529.87 Q1402.24 1538.6 1399.16 1543.21 Q1396.1 1547.79 1390.29 1547.79 Q1384.48 1547.79 1381.4 1543.21 Q1378.35 1538.6 1378.35 1529.87 Q1378.35 1521.12 1381.4 1516.54 Q1384.48 1511.93 1390.29 1511.93 Z\" fill=\"#000000\" fill-rule=\"evenodd\" fill-opacity=\"1\" /><path clip-path=\"url(#clip620)\" d=\"M 0 0 M1411.26 1543.18 L1418.9 1543.18 L1418.9 1516.82 L1410.59 1518.49 L1410.59 1514.23 L1418.86 1512.56 L1423.53 1512.56 L1423.53 1543.18 L1431.17 1543.18 L1431.17 1547.12 L1411.26 1547.12 L1411.26 1543.18 Z\" fill=\"#000000\" fill-rule=\"evenodd\" fill-opacity=\"1\" /><path clip-path=\"url(#clip620)\" d=\"M 0 0 M1725.6 1543.18 L1741.91 1543.18 L1741.91 1547.12 L1719.97 1547.12 L1719.97 1543.18 Q1722.63 1540.43 1727.22 1535.8 Q1731.82 1531.15 1733 1529.81 Q1735.25 1527.28 1736.13 1525.55 Q1737.03 1523.79 1737.03 1522.1 Q1737.03 1519.34 1735.09 1517.61 Q1733.16 1515.87 1730.06 1515.87 Q1727.86 1515.87 1725.41 1516.63 Q1722.98 1517.4 1720.2 1518.95 L1720.2 1514.23 Q1723.03 1513.09 1725.48 1512.51 Q1727.93 1511.93 1729.97 1511.93 Q1735.34 1511.93 1738.53 1514.62 Q1741.73 1517.31 1741.73 1521.8 Q1741.73 1523.93 1740.92 1525.85 Q1740.13 1527.74 1738.03 1530.34 Q1737.45 1531.01 1734.35 1534.23 Q1731.24 1537.42 1725.6 1543.18 Z\" fill=\"#000000\" fill-rule=\"evenodd\" fill-opacity=\"1\" /><path clip-path=\"url(#clip620)\" d=\"M 0 0 M1761.73 1515.64 Q1758.12 1515.64 1756.29 1519.2 Q1754.48 1522.75 1754.48 1529.87 Q1754.48 1536.98 1756.29 1540.55 Q1758.12 1544.09 1761.73 1544.09 Q1765.36 1544.09 1767.17 1540.55 Q1769 1536.98 1769 1529.87 Q1769 1522.75 1767.17 1519.2 Q1765.36 1515.64 1761.73 1515.64 M1761.73 1511.93 Q1767.54 1511.93 1770.59 1516.54 Q1773.67 1521.12 1773.67 1529.87 Q1773.67 1538.6 1770.59 1543.21 Q1767.54 1547.79 1761.73 1547.79 Q1755.92 1547.79 1752.84 1543.21 Q1749.78 1538.6 1749.78 1529.87 Q1749.78 1521.12 1752.84 1516.54 Q1755.92 1511.93 1761.73 1511.93 Z\" fill=\"#000000\" fill-rule=\"evenodd\" fill-opacity=\"1\" /><path clip-path=\"url(#clip620)\" d=\"M 0 0 M1782.7 1543.18 L1790.34 1543.18 L1790.34 1516.82 L1782.03 1518.49 L1782.03 1514.23 L1790.29 1512.56 L1794.97 1512.56 L1794.97 1543.18 L1802.61 1543.18 L1802.61 1547.12 L1782.7 1547.12 L1782.7 1543.18 Z\" fill=\"#000000\" fill-rule=\"evenodd\" fill-opacity=\"1\" /><path clip-path=\"url(#clip620)\" d=\"M 0 0 M1810.87 1512.56 L1833.09 1512.56 L1833.09 1514.55 L1820.55 1547.12 L1815.66 1547.12 L1827.47 1516.5 L1810.87 1516.5 L1810.87 1512.56 Z\" fill=\"#000000\" fill-rule=\"evenodd\" fill-opacity=\"1\" /><path clip-path=\"url(#clip620)\" d=\"M 0 0 M1839.46 1532.24 L1851.94 1532.24 L1851.94 1536.03 L1839.46 1536.03 L1839.46 1532.24 Z\" fill=\"#000000\" fill-rule=\"evenodd\" fill-opacity=\"1\" /><path clip-path=\"url(#clip620)\" d=\"M 0 0 M1869.32 1515.64 Q1865.71 1515.64 1863.88 1519.2 Q1862.08 1522.75 1862.08 1529.87 Q1862.08 1536.98 1863.88 1540.55 Q1865.71 1544.09 1869.32 1544.09 Q1872.96 1544.09 1874.76 1540.55 Q1876.59 1536.98 1876.59 1529.87 Q1876.59 1522.75 1874.76 1519.2 Q1872.96 1515.64 1869.32 1515.64 M1869.32 1511.93 Q1875.13 1511.93 1878.19 1516.54 Q1881.27 1521.12 1881.27 1529.87 Q1881.27 1538.6 1878.19 1543.21 Q1875.13 1547.79 1869.32 1547.79 Q1863.51 1547.79 1860.43 1543.21 Q1857.38 1538.6 1857.38 1529.87 Q1857.38 1521.12 1860.43 1516.54 Q1863.51 1511.93 1869.32 1511.93 Z\" fill=\"#000000\" fill-rule=\"evenodd\" fill-opacity=\"1\" /><path clip-path=\"url(#clip620)\" d=\"M 0 0 M1890.29 1543.18 L1897.93 1543.18 L1897.93 1516.82 L1889.62 1518.49 L1889.62 1514.23 L1897.89 1512.56 L1902.56 1512.56 L1902.56 1543.18 L1910.2 1543.18 L1910.2 1547.12 L1890.29 1547.12 L1890.29 1543.18 Z\" fill=\"#000000\" fill-rule=\"evenodd\" fill-opacity=\"1\" /><path clip-path=\"url(#clip620)\" d=\"M 0 0 M1916.89 1532.24 L1929.37 1532.24 L1929.37 1536.03 L1916.89 1536.03 L1916.89 1532.24 Z\" fill=\"#000000\" fill-rule=\"evenodd\" fill-opacity=\"1\" /><path clip-path=\"url(#clip620)\" d=\"M 0 0 M1946.75 1515.64 Q1943.14 1515.64 1941.31 1519.2 Q1939.51 1522.75 1939.51 1529.87 Q1939.51 1536.98 1941.31 1540.55 Q1943.14 1544.09 1946.75 1544.09 Q1950.39 1544.09 1952.19 1540.55 Q1954.02 1536.98 1954.02 1529.87 Q1954.02 1522.75 1952.19 1519.2 Q1950.39 1515.64 1946.75 1515.64 M1946.75 1511.93 Q1952.56 1511.93 1955.62 1516.54 Q1958.7 1521.12 1958.7 1529.87 Q1958.7 1538.6 1955.62 1543.21 Q1952.56 1547.79 1946.75 1547.79 Q1940.94 1547.79 1937.86 1543.21 Q1934.81 1538.6 1934.81 1529.87 Q1934.81 1521.12 1937.86 1516.54 Q1940.94 1511.93 1946.75 1511.93 Z\" fill=\"#000000\" fill-rule=\"evenodd\" fill-opacity=\"1\" /><path clip-path=\"url(#clip620)\" d=\"M 0 0 M1967.72 1543.18 L1975.36 1543.18 L1975.36 1516.82 L1967.05 1518.49 L1967.05 1514.23 L1975.32 1512.56 L1979.99 1512.56 L1979.99 1543.18 L1987.63 1543.18 L1987.63 1547.12 L1967.72 1547.12 L1967.72 1543.18 Z\" fill=\"#000000\" fill-rule=\"evenodd\" fill-opacity=\"1\" /><polyline clip-path=\"url(#clip622)\" style=\"stroke:#000000; stroke-width:2; stroke-opacity:0.1; fill:none\" points=\"\n",
       "  112.177,1279.08 2352.76,1279.08 \n",
       "  \"/>\n",
       "<polyline clip-path=\"url(#clip622)\" style=\"stroke:#000000; stroke-width:2; stroke-opacity:0.1; fill:none\" points=\"\n",
       "  112.177,1065.18 2352.76,1065.18 \n",
       "  \"/>\n",
       "<polyline clip-path=\"url(#clip622)\" style=\"stroke:#000000; stroke-width:2; stroke-opacity:0.1; fill:none\" points=\"\n",
       "  112.177,851.27 2352.76,851.27 \n",
       "  \"/>\n",
       "<polyline clip-path=\"url(#clip622)\" style=\"stroke:#000000; stroke-width:2; stroke-opacity:0.1; fill:none\" points=\"\n",
       "  112.177,637.363 2352.76,637.363 \n",
       "  \"/>\n",
       "<polyline clip-path=\"url(#clip622)\" style=\"stroke:#000000; stroke-width:2; stroke-opacity:0.1; fill:none\" points=\"\n",
       "  112.177,423.455 2352.76,423.455 \n",
       "  \"/>\n",
       "<polyline clip-path=\"url(#clip622)\" style=\"stroke:#000000; stroke-width:2; stroke-opacity:0.1; fill:none\" points=\"\n",
       "  112.177,209.548 2352.76,209.548 \n",
       "  \"/>\n",
       "<polyline clip-path=\"url(#clip620)\" style=\"stroke:#000000; stroke-width:4; stroke-opacity:1; fill:none\" points=\"\n",
       "  112.177,1486.45 112.177,47.2441 \n",
       "  \"/>\n",
       "<polyline clip-path=\"url(#clip620)\" style=\"stroke:#000000; stroke-width:4; stroke-opacity:1; fill:none\" points=\"\n",
       "  112.177,1279.08 139.064,1279.08 \n",
       "  \"/>\n",
       "<polyline clip-path=\"url(#clip620)\" style=\"stroke:#000000; stroke-width:4; stroke-opacity:1; fill:none\" points=\"\n",
       "  112.177,1065.18 139.064,1065.18 \n",
       "  \"/>\n",
       "<polyline clip-path=\"url(#clip620)\" style=\"stroke:#000000; stroke-width:4; stroke-opacity:1; fill:none\" points=\"\n",
       "  112.177,851.27 139.064,851.27 \n",
       "  \"/>\n",
       "<polyline clip-path=\"url(#clip620)\" style=\"stroke:#000000; stroke-width:4; stroke-opacity:1; fill:none\" points=\"\n",
       "  112.177,637.363 139.064,637.363 \n",
       "  \"/>\n",
       "<polyline clip-path=\"url(#clip620)\" style=\"stroke:#000000; stroke-width:4; stroke-opacity:1; fill:none\" points=\"\n",
       "  112.177,423.455 139.064,423.455 \n",
       "  \"/>\n",
       "<polyline clip-path=\"url(#clip620)\" style=\"stroke:#000000; stroke-width:4; stroke-opacity:1; fill:none\" points=\"\n",
       "  112.177,209.548 139.064,209.548 \n",
       "  \"/>\n",
       "<path clip-path=\"url(#clip620)\" d=\"M 0 0 M69.0476 1277.73 Q72.404 1278.45 74.279 1280.72 Q76.1772 1282.98 76.1772 1286.32 Q76.1772 1291.43 72.6587 1294.23 Q69.1402 1297.04 62.6587 1297.04 Q60.4828 1297.04 58.168 1296.6 Q55.8764 1296.18 53.4227 1295.32 L53.4227 1290.81 Q55.3671 1291.94 57.6819 1292.52 Q59.9967 1293.1 62.5198 1293.1 Q66.918 1293.1 69.2096 1291.36 Q71.5244 1289.63 71.5244 1286.32 Q71.5244 1283.26 69.3717 1281.55 Q67.242 1279.81 63.4226 1279.81 L59.3949 1279.81 L59.3949 1275.97 L63.6078 1275.97 Q67.0569 1275.97 68.8855 1274.61 Q70.7142 1273.22 70.7142 1270.62 Q70.7142 1267.96 68.8161 1266.55 Q66.9411 1265.11 63.4226 1265.11 Q61.5013 1265.11 59.3023 1265.53 Q57.1032 1265.95 54.4643 1266.83 L54.4643 1262.66 Q57.1264 1261.92 59.4412 1261.55 Q61.7791 1261.18 63.8393 1261.18 Q69.1633 1261.18 72.2652 1263.61 Q75.367 1266.02 75.367 1270.14 Q75.367 1273.01 73.7235 1275 Q72.08 1276.97 69.0476 1277.73 Z\" fill=\"#000000\" fill-rule=\"evenodd\" fill-opacity=\"1\" /><path clip-path=\"url(#clip620)\" d=\"M 0 0 M66.5939 1051.97 L54.7884 1070.42 L66.5939 1070.42 L66.5939 1051.97 M65.367 1047.9 L71.2466 1047.9 L71.2466 1070.42 L76.1772 1070.42 L76.1772 1074.31 L71.2466 1074.31 L71.2466 1082.46 L66.5939 1082.46 L66.5939 1074.31 L50.9921 1074.31 L50.9921 1069.8 L65.367 1047.9 Z\" fill=\"#000000\" fill-rule=\"evenodd\" fill-opacity=\"1\" /><path clip-path=\"url(#clip620)\" d=\"M 0 0 M55.2745 833.99 L73.6309 833.99 L73.6309 837.925 L59.5569 837.925 L59.5569 846.397 Q60.5754 846.05 61.5939 845.888 Q62.6124 845.703 63.6309 845.703 Q69.418 845.703 72.7976 848.874 Q76.1772 852.045 76.1772 857.462 Q76.1772 863.041 72.705 866.142 Q69.2328 869.221 62.9134 869.221 Q60.7374 869.221 58.4689 868.851 Q56.2236 868.48 53.8162 867.74 L53.8162 863.041 Q55.8995 864.175 58.1217 864.73 Q60.3439 865.286 62.8208 865.286 Q66.8254 865.286 69.1633 863.18 Q71.5013 861.073 71.5013 857.462 Q71.5013 853.851 69.1633 851.744 Q66.8254 849.638 62.8208 849.638 Q60.9458 849.638 59.0708 850.055 Q57.2189 850.471 55.2745 851.351 L55.2745 833.99 Z\" fill=\"#000000\" fill-rule=\"evenodd\" fill-opacity=\"1\" /><path clip-path=\"url(#clip620)\" d=\"M 0 0 M64.6495 635.499 Q61.5013 635.499 59.6495 637.652 Q57.8208 639.805 57.8208 643.555 Q57.8208 647.281 59.6495 649.457 Q61.5013 651.61 64.6495 651.61 Q67.7976 651.61 69.6263 649.457 Q71.4781 647.281 71.4781 643.555 Q71.4781 639.805 69.6263 637.652 Q67.7976 635.499 64.6495 635.499 M73.9318 620.846 L73.9318 625.106 Q72.1726 624.272 70.367 623.833 Q68.5846 623.393 66.8254 623.393 Q62.1958 623.393 59.7421 626.518 Q57.3115 629.643 56.9643 635.962 Q58.33 633.948 60.3902 632.883 Q62.4504 631.795 64.9272 631.795 Q70.1355 631.795 73.1448 634.967 Q76.1772 638.115 76.1772 643.555 Q76.1772 648.879 73.029 652.096 Q69.8809 655.314 64.6495 655.314 Q58.6541 655.314 55.4828 650.731 Q52.3116 646.124 52.3116 637.397 Q52.3116 629.203 56.2004 624.342 Q60.0893 619.458 66.6402 619.458 Q68.3994 619.458 70.1818 619.805 Q71.9874 620.152 73.9318 620.846 Z\" fill=\"#000000\" fill-rule=\"evenodd\" fill-opacity=\"1\" /><path clip-path=\"url(#clip620)\" d=\"M 0 0 M53.9551 406.175 L76.1772 406.175 L76.1772 408.166 L63.6309 440.735 L58.7467 440.735 L70.5522 410.11 L53.9551 410.11 L53.9551 406.175 Z\" fill=\"#000000\" fill-rule=\"evenodd\" fill-opacity=\"1\" /><path clip-path=\"url(#clip620)\" d=\"M 0 0 M64.3254 210.416 Q60.9921 210.416 59.0708 212.198 Q57.1726 213.981 57.1726 217.106 Q57.1726 220.231 59.0708 222.013 Q60.9921 223.796 64.3254 223.796 Q67.6587 223.796 69.58 222.013 Q71.5013 220.208 71.5013 217.106 Q71.5013 213.981 69.58 212.198 Q67.6819 210.416 64.3254 210.416 M59.6495 208.425 Q56.6402 207.685 54.9504 205.624 Q53.2838 203.564 53.2838 200.601 Q53.2838 196.458 56.2236 194.05 Q59.1865 191.643 64.3254 191.643 Q69.4874 191.643 72.4272 194.05 Q75.367 196.458 75.367 200.601 Q75.367 203.564 73.6772 205.624 Q72.0105 207.685 69.0244 208.425 Q72.404 209.212 74.279 211.504 Q76.1772 213.796 76.1772 217.106 Q76.1772 222.129 73.0985 224.814 Q70.0429 227.499 64.3254 227.499 Q58.6078 227.499 55.5291 224.814 Q52.4736 222.129 52.4736 217.106 Q52.4736 213.796 54.3717 211.504 Q56.2699 209.212 59.6495 208.425 M57.9365 201.041 Q57.9365 203.726 59.6032 205.231 Q61.293 206.736 64.3254 206.736 Q67.3346 206.736 69.0244 205.231 Q70.7374 203.726 70.7374 201.041 Q70.7374 198.356 69.0244 196.851 Q67.3346 195.347 64.3254 195.347 Q61.293 195.347 59.6032 196.851 Q57.9365 198.356 57.9365 201.041 Z\" fill=\"#000000\" fill-rule=\"evenodd\" fill-opacity=\"1\" /><polyline clip-path=\"url(#clip622)\" style=\"stroke:#009af9; stroke-width:4; stroke-opacity:1; fill:none\" points=\"\n",
       "  175.59,663.446 185.032,726.143 194.473,755.945 203.002,772.365 212.443,782.78 221.581,787.043 231.023,789.092 240.16,783.94 249.602,793.498 259.043,783.728 \n",
       "  268.181,776.939 277.623,772.133 286.76,763.121 296.202,747.343 305.643,741.662 314.172,735.333 323.613,731.396 332.751,717.775 342.193,708.218 351.33,701.356 \n",
       "  360.772,692.782 370.213,698.4 379.351,699.966 388.793,703.528 397.93,700.739 407.372,702.122 416.814,709.083 425.646,711.029 435.088,713.866 444.225,716.647 \n",
       "  453.667,713.362 462.804,706.838 472.246,697.174 481.688,675.043 490.825,666.486 500.267,652.834 509.404,644.724 518.846,605.284 528.288,576.523 536.816,551.93 \n",
       "  546.258,541.286 555.395,524.494 564.837,513.488 573.974,504.893 583.416,492.743 592.858,489.6 601.995,474.996 611.437,456.725 620.574,436.141 630.016,398.622 \n",
       "  639.458,397.045 647.986,379.679 657.428,363.101 666.565,348.3 676.007,349.335 685.144,349.013 694.586,351.659 704.028,350.049 713.165,349.752 722.607,344.484 \n",
       "  731.745,339.491 741.186,314.175 750.628,289.42 759.156,286.009 768.598,288.484 777.735,289.766 787.177,276.381 796.315,262.306 805.756,247.476 815.198,235.254 \n",
       "  824.335,238.308 833.777,238.887 842.915,246.794 852.356,265.77 861.798,273.537 870.631,278.557 880.073,274.078 889.21,270.952 898.652,274.941 907.789,269.466 \n",
       "  917.231,278.068 926.673,277.39 935.81,258.133 945.252,255.531 954.389,231.995 963.831,178.472 973.273,149.406 981.801,121.011 991.243,101.223 1000.38,99.0984 \n",
       "  1009.82,87.9763 1018.96,97.19 1028.4,95.4712 1037.84,101.141 1046.98,120.972 1056.42,136.577 1065.56,162.882 1075,227.326 1084.44,262.914 1092.97,293.463 \n",
       "  1102.41,323.587 1111.55,341.43 1120.99,359.126 1130.13,368.956 1139.57,369.834 1149.01,363.53 1158.15,357.795 1167.59,354.448 1176.73,349.101 1186.17,567.262 \n",
       "  1195.61,649.827 1204.14,702.288 1213.58,727.29 1222.72,763.426 1232.16,795.033 1241.3,826.613 1250.74,860.775 1260.18,922.166 1269.32,965.407 1278.76,1014.11 \n",
       "  1287.9,1074.05 1297.34,1090.26 1306.78,1101.32 1315.62,1114.73 1325.06,1127.05 1334.19,1132.86 1343.64,1140.58 1352.77,1154.91 1362.22,1167.37 1371.66,1174 \n",
       "  1380.79,1182.99 1390.24,1190.12 1399.37,1199.23 1408.82,1210.74 1418.26,1216.94 1426.79,1227.5 1436.23,1234.06 1445.36,1245.92 1454.81,1256.44 1463.94,1260.04 \n",
       "  1473.39,1268.39 1482.83,1275.98 1491.96,1285.98 1501.41,1295.28 1510.54,1310.87 1519.99,1322.85 1529.43,1341.54 1537.96,1355.74 1547.4,1369.85 1556.53,1380.48 \n",
       "  1565.98,1395.65 1575.11,1410.09 1584.56,1421.89 1594,1431.52 1603.13,1436.26 1612.58,1441.05 1621.71,1439.33 1631.16,1438.89 1640.6,1438.42 1649.13,1440.63 \n",
       "  1658.57,1441.96 1667.7,1445.3 1677.15,1444.54 1686.28,1445.72 1695.73,1440.44 1705.17,1436.14 1714.3,1430.6 1723.75,1427.44 1732.88,1423.84 1742.33,1416.14 \n",
       "  1751.77,1409.18 1760.6,1400.01 1770.04,1392.21 1779.18,1383.68 1788.62,1379.16 1797.76,1377.97 1807.2,1375.94 1816.64,1370.21 1825.78,1365.24 1835.22,1360.08 \n",
       "  1844.36,1358.94 1853.8,1355.05 1863.24,1345.92 1871.77,1338.22 1881.21,1334.58 1890.35,1326.37 1899.79,1311.77 1908.93,1295.06 1918.37,1283.95 1927.81,1273.16 \n",
       "  1936.95,1268.45 1946.39,1258.21 1955.53,1250.42 1964.97,1244.51 1974.41,1246.16 1982.94,1246 1992.38,1242.33 2001.52,1244.56 2010.96,1250.51 2020.1,1261.33 \n",
       "  2029.54,1269.32 2038.98,1281.09 2048.12,1285.88 2057.56,1294.16 2066.7,1300.93 2076.14,1308.65 2085.58,1310.36 2094.11,1313.86 2103.55,1322.05 2112.69,1327.88 \n",
       "  2122.13,1328.08 2131.27,1324.82 2140.71,1324.2 2150.15,1323.16 2159.29,1327.23 2168.73,1327.44 2177.87,1326.5 2187.31,1330.24 2196.75,1333.3 2205.59,1331.24 \n",
       "  2215.03,1331.55 2224.16,1329.16 2233.61,1326.71 2242.74,1325.03 2252.19,1321.52 2261.63,1316.19 2270.76,1308.38 2280.21,1302.49 2289.34,1295.27 \n",
       "  \"/>\n",
       "<path clip-path=\"url(#clip620)\" d=\"\n",
       "M1517.31 216.178 L2278.07 216.178 L2278.07 95.2176 L1517.31 95.2176  Z\n",
       "  \" fill=\"#ffffff\" fill-rule=\"evenodd\" fill-opacity=\"1\"/>\n",
       "<polyline clip-path=\"url(#clip620)\" style=\"stroke:#000000; stroke-width:4; stroke-opacity:1; fill:none\" points=\"\n",
       "  1517.31,216.178 2278.07,216.178 2278.07,95.2176 1517.31,95.2176 1517.31,216.178 \n",
       "  \"/>\n",
       "<polyline clip-path=\"url(#clip620)\" style=\"stroke:#009af9; stroke-width:4; stroke-opacity:1; fill:none\" points=\"\n",
       "  1542.21,155.698 1691.58,155.698 \n",
       "  \"/>\n",
       "<path clip-path=\"url(#clip620)\" d=\"M 0 0 M1721.15 142.26 L1721.15 155.246 L1727.03 155.246 Q1730.3 155.246 1732.08 153.556 Q1733.86 151.867 1733.86 148.742 Q1733.86 145.64 1732.08 143.95 Q1730.3 142.26 1727.03 142.26 L1721.15 142.26 M1716.48 138.418 L1727.03 138.418 Q1732.84 138.418 1735.81 141.056 Q1738.79 143.672 1738.79 148.742 Q1738.79 153.857 1735.81 156.473 Q1732.84 159.089 1727.03 159.089 L1721.15 159.089 L1721.15 172.978 L1716.48 172.978 L1716.48 138.418 Z\" fill=\"#000000\" fill-rule=\"evenodd\" fill-opacity=\"1\" /><path clip-path=\"url(#clip620)\" d=\"M 0 0 M1759.07 151.033 Q1758.35 150.617 1757.49 150.431 Q1756.66 150.223 1755.64 150.223 Q1752.03 150.223 1750.09 152.584 Q1748.17 154.922 1748.17 159.32 L1748.17 172.978 L1743.88 172.978 L1743.88 147.052 L1748.17 147.052 L1748.17 151.08 Q1749.51 148.718 1751.66 147.584 Q1753.81 146.427 1756.89 146.427 Q1757.33 146.427 1757.87 146.496 Q1758.4 146.543 1759.05 146.658 L1759.07 151.033 Z\" fill=\"#000000\" fill-rule=\"evenodd\" fill-opacity=\"1\" /><path clip-path=\"url(#clip620)\" d=\"M 0 0 M1772.54 150.038 Q1769.12 150.038 1767.12 152.723 Q1765.13 155.385 1765.13 160.038 Q1765.13 164.691 1767.1 167.376 Q1769.09 170.038 1772.54 170.038 Q1775.94 170.038 1777.93 167.353 Q1779.93 164.667 1779.93 160.038 Q1779.93 155.431 1777.93 152.746 Q1775.94 150.038 1772.54 150.038 M1772.54 146.427 Q1778.1 146.427 1781.27 150.038 Q1784.44 153.649 1784.44 160.038 Q1784.44 166.404 1781.27 170.038 Q1778.1 173.649 1772.54 173.649 Q1766.96 173.649 1763.79 170.038 Q1760.64 166.404 1760.64 160.038 Q1760.64 153.649 1763.79 150.038 Q1766.96 146.427 1772.54 146.427 Z\" fill=\"#000000\" fill-rule=\"evenodd\" fill-opacity=\"1\" /><path clip-path=\"url(#clip620)\" d=\"M 0 0 M1811.68 152.029 Q1813.28 149.158 1815.5 147.793 Q1817.73 146.427 1820.74 146.427 Q1824.79 146.427 1826.99 149.274 Q1829.18 152.098 1829.18 157.329 L1829.18 172.978 L1824.9 172.978 L1824.9 157.468 Q1824.9 153.742 1823.58 151.936 Q1822.26 150.13 1819.55 150.13 Q1816.24 150.13 1814.32 152.33 Q1812.4 154.529 1812.4 158.325 L1812.4 172.978 L1808.12 172.978 L1808.12 157.468 Q1808.12 153.718 1806.8 151.936 Q1805.48 150.13 1802.73 150.13 Q1799.46 150.13 1797.54 152.353 Q1795.62 154.552 1795.62 158.325 L1795.62 172.978 L1791.34 172.978 L1791.34 147.052 L1795.62 147.052 L1795.62 151.08 Q1797.08 148.695 1799.11 147.561 Q1801.15 146.427 1803.95 146.427 Q1806.78 146.427 1808.74 147.862 Q1810.74 149.297 1811.68 152.029 Z\" fill=\"#000000\" fill-rule=\"evenodd\" fill-opacity=\"1\" /><path clip-path=\"url(#clip620)\" d=\"M 0 0 M1859.86 158.95 L1859.86 161.033 L1840.27 161.033 Q1840.55 165.431 1842.91 167.746 Q1845.3 170.038 1849.53 170.038 Q1851.99 170.038 1854.28 169.436 Q1856.59 168.834 1858.86 167.63 L1858.86 171.658 Q1856.57 172.63 1854.16 173.14 Q1851.75 173.649 1849.28 173.649 Q1843.07 173.649 1839.44 170.038 Q1835.83 166.427 1835.83 160.269 Q1835.83 153.904 1839.25 150.177 Q1842.7 146.427 1848.54 146.427 Q1853.77 146.427 1856.8 149.806 Q1859.86 153.163 1859.86 158.95 M1855.6 157.7 Q1855.55 154.205 1853.63 152.121 Q1851.73 150.038 1848.58 150.038 Q1845.02 150.038 1842.86 152.052 Q1840.74 154.066 1840.41 157.723 L1855.6 157.7 Z\" fill=\"#000000\" fill-rule=\"evenodd\" fill-opacity=\"1\" /><path clip-path=\"url(#clip620)\" d=\"M 0 0 M1883.91 150.987 L1883.91 136.959 L1888.17 136.959 L1888.17 172.978 L1883.91 172.978 L1883.91 169.089 Q1882.56 171.403 1880.5 172.538 Q1878.47 173.649 1875.6 173.649 Q1870.9 173.649 1867.93 169.899 Q1864.99 166.149 1864.99 160.038 Q1864.99 153.927 1867.93 150.177 Q1870.9 146.427 1875.6 146.427 Q1878.47 146.427 1880.5 147.561 Q1882.56 148.672 1883.91 150.987 M1869.39 160.038 Q1869.39 164.737 1871.31 167.422 Q1873.26 170.084 1876.64 170.084 Q1880.02 170.084 1881.96 167.422 Q1883.91 164.737 1883.91 160.038 Q1883.91 155.339 1881.96 152.677 Q1880.02 149.992 1876.64 149.992 Q1873.26 149.992 1871.31 152.677 Q1869.39 155.339 1869.39 160.038 Z\" fill=\"#000000\" fill-rule=\"evenodd\" fill-opacity=\"1\" /><path clip-path=\"url(#clip620)\" d=\"M 0 0 M1896.94 147.052 L1901.2 147.052 L1901.2 172.978 L1896.94 172.978 L1896.94 147.052 M1896.94 136.959 L1901.2 136.959 L1901.2 142.353 L1896.94 142.353 L1896.94 136.959 Z\" fill=\"#000000\" fill-rule=\"evenodd\" fill-opacity=\"1\" /><path clip-path=\"url(#clip620)\" d=\"M 0 0 M1920.16 150.038 Q1916.73 150.038 1914.74 152.723 Q1912.75 155.385 1912.75 160.038 Q1912.75 164.691 1914.72 167.376 Q1916.71 170.038 1920.16 170.038 Q1923.56 170.038 1925.55 167.353 Q1927.54 164.667 1927.54 160.038 Q1927.54 155.431 1925.55 152.746 Q1923.56 150.038 1920.16 150.038 M1920.16 146.427 Q1925.71 146.427 1928.88 150.038 Q1932.05 153.649 1932.05 160.038 Q1932.05 166.404 1928.88 170.038 Q1925.71 173.649 1920.16 173.649 Q1914.58 173.649 1911.41 170.038 Q1908.26 166.404 1908.26 160.038 Q1908.26 153.649 1911.41 150.038 Q1914.58 146.427 1920.16 146.427 Z\" fill=\"#000000\" fill-rule=\"evenodd\" fill-opacity=\"1\" /><path clip-path=\"url(#clip620)\" d=\"M 0 0 M1958.3 169.089 L1958.3 182.839 L1954.02 182.839 L1954.02 147.052 L1958.3 147.052 L1958.3 150.987 Q1959.65 148.672 1961.68 147.561 Q1963.74 146.427 1966.59 146.427 Q1971.31 146.427 1974.25 150.177 Q1977.22 153.927 1977.22 160.038 Q1977.22 166.149 1974.25 169.899 Q1971.31 173.649 1966.59 173.649 Q1963.74 173.649 1961.68 172.538 Q1959.65 171.403 1958.3 169.089 M1972.79 160.038 Q1972.79 155.339 1970.85 152.677 Q1968.93 149.992 1965.55 149.992 Q1962.17 149.992 1960.23 152.677 Q1958.3 155.339 1958.3 160.038 Q1958.3 164.737 1960.23 167.422 Q1962.17 170.084 1965.55 170.084 Q1968.93 170.084 1970.85 167.422 Q1972.79 164.737 1972.79 160.038 Z\" fill=\"#000000\" fill-rule=\"evenodd\" fill-opacity=\"1\" /><path clip-path=\"url(#clip620)\" d=\"M 0 0 M2006.45 158.95 L2006.45 161.033 L1986.87 161.033 Q1987.15 165.431 1989.51 167.746 Q1991.89 170.038 1996.13 170.038 Q1998.58 170.038 2000.87 169.436 Q2003.19 168.834 2005.46 167.63 L2005.46 171.658 Q2003.16 172.63 2000.76 173.14 Q1998.35 173.649 1995.87 173.649 Q1989.67 173.649 1986.04 170.038 Q1982.42 166.427 1982.42 160.269 Q1982.42 153.904 1985.85 150.177 Q1989.3 146.427 1995.13 146.427 Q2000.36 146.427 2003.4 149.806 Q2006.45 153.163 2006.45 158.95 M2002.19 157.7 Q2002.15 154.205 2000.22 152.121 Q1998.33 150.038 1995.18 150.038 Q1991.61 150.038 1989.46 152.052 Q1987.33 154.066 1987.01 157.723 L2002.19 157.7 Z\" fill=\"#000000\" fill-rule=\"evenodd\" fill-opacity=\"1\" /><path clip-path=\"url(#clip620)\" d=\"M 0 0 M2028.47 151.033 Q2027.75 150.617 2026.89 150.431 Q2026.06 150.223 2025.04 150.223 Q2021.43 150.223 2019.48 152.584 Q2017.56 154.922 2017.56 159.32 L2017.56 172.978 L2013.28 172.978 L2013.28 147.052 L2017.56 147.052 L2017.56 151.08 Q2018.91 148.718 2021.06 147.584 Q2023.21 146.427 2026.29 146.427 Q2026.73 146.427 2027.26 146.496 Q2027.79 146.543 2028.44 146.658 L2028.47 151.033 Z\" fill=\"#000000\" fill-rule=\"evenodd\" fill-opacity=\"1\" /><path clip-path=\"url(#clip620)\" d=\"M 0 0 M2050.55 148.047 L2050.55 152.029 Q2048.74 151.033 2046.91 150.547 Q2045.11 150.038 2043.26 150.038 Q2039.11 150.038 2036.82 152.677 Q2034.53 155.292 2034.53 160.038 Q2034.53 164.783 2036.82 167.422 Q2039.11 170.038 2043.26 170.038 Q2045.11 170.038 2046.91 169.552 Q2048.74 169.042 2050.55 168.047 L2050.55 171.982 Q2048.77 172.816 2046.85 173.232 Q2044.95 173.649 2042.79 173.649 Q2036.94 173.649 2033.49 169.968 Q2030.04 166.288 2030.04 160.038 Q2030.04 153.695 2033.51 150.061 Q2037.01 146.427 2043.07 146.427 Q2045.04 146.427 2046.91 146.843 Q2048.79 147.237 2050.55 148.047 Z\" fill=\"#000000\" fill-rule=\"evenodd\" fill-opacity=\"1\" /><path clip-path=\"url(#clip620)\" d=\"M 0 0 M2080.13 158.95 L2080.13 161.033 L2060.55 161.033 Q2060.83 165.431 2063.19 167.746 Q2065.57 170.038 2069.81 170.038 Q2072.26 170.038 2074.55 169.436 Q2076.87 168.834 2079.14 167.63 L2079.14 171.658 Q2076.84 172.63 2074.44 173.14 Q2072.03 173.649 2069.55 173.649 Q2063.35 173.649 2059.72 170.038 Q2056.1 166.427 2056.1 160.269 Q2056.1 153.904 2059.53 150.177 Q2062.98 146.427 2068.81 146.427 Q2074.04 146.427 2077.08 149.806 Q2080.13 153.163 2080.13 158.95 M2075.87 157.7 Q2075.83 154.205 2073.91 152.121 Q2072.01 150.038 2068.86 150.038 Q2065.29 150.038 2063.14 152.052 Q2061.01 154.066 2060.69 157.723 L2075.87 157.7 Z\" fill=\"#000000\" fill-rule=\"evenodd\" fill-opacity=\"1\" /><path clip-path=\"url(#clip620)\" d=\"M 0 0 M2108.67 157.329 L2108.67 172.978 L2104.41 172.978 L2104.41 157.468 Q2104.41 153.788 2102.98 151.959 Q2101.54 150.13 2098.67 150.13 Q2095.22 150.13 2093.23 152.33 Q2091.24 154.529 2091.24 158.325 L2091.24 172.978 L2086.96 172.978 L2086.96 147.052 L2091.24 147.052 L2091.24 151.08 Q2092.77 148.742 2094.83 147.584 Q2096.91 146.427 2099.62 146.427 Q2104.09 146.427 2106.38 149.205 Q2108.67 151.959 2108.67 157.329 Z\" fill=\"#000000\" fill-rule=\"evenodd\" fill-opacity=\"1\" /><path clip-path=\"url(#clip620)\" d=\"M 0 0 M2121.38 139.691 L2121.38 147.052 L2130.15 147.052 L2130.15 150.362 L2121.38 150.362 L2121.38 164.436 Q2121.38 167.607 2122.24 168.51 Q2123.12 169.413 2125.78 169.413 L2130.15 169.413 L2130.15 172.978 L2125.78 172.978 Q2120.85 172.978 2118.97 171.149 Q2117.1 169.297 2117.1 164.436 L2117.1 150.362 L2113.97 150.362 L2113.97 147.052 L2117.1 147.052 L2117.1 139.691 L2121.38 139.691 Z\" fill=\"#000000\" fill-rule=\"evenodd\" fill-opacity=\"1\" /><path clip-path=\"url(#clip620)\" d=\"M 0 0 M2135.76 147.052 L2140.02 147.052 L2140.02 172.978 L2135.76 172.978 L2135.76 147.052 M2135.76 136.959 L2140.02 136.959 L2140.02 142.353 L2135.76 142.353 L2135.76 136.959 Z\" fill=\"#000000\" fill-rule=\"evenodd\" fill-opacity=\"1\" /><path clip-path=\"url(#clip620)\" d=\"M 0 0 M2148.93 136.959 L2153.19 136.959 L2153.19 172.978 L2148.93 172.978 L2148.93 136.959 Z\" fill=\"#000000\" fill-rule=\"evenodd\" fill-opacity=\"1\" /><path clip-path=\"url(#clip620)\" d=\"M 0 0 M2176.59 138.418 L2198.81 138.418 L2198.81 140.408 L2186.27 172.978 L2181.38 172.978 L2193.19 142.353 L2176.59 142.353 L2176.59 138.418 Z\" fill=\"#000000\" fill-rule=\"evenodd\" fill-opacity=\"1\" /><path clip-path=\"url(#clip620)\" d=\"M 0 0 M2211.96 169.042 L2228.28 169.042 L2228.28 172.978 L2206.33 172.978 L2206.33 169.042 Q2209 166.288 2213.58 161.658 Q2218.19 157.005 2219.37 155.663 Q2221.61 153.14 2222.49 151.404 Q2223.4 149.644 2223.4 147.955 Q2223.4 145.2 2221.45 143.464 Q2219.53 141.728 2216.43 141.728 Q2214.23 141.728 2211.77 142.492 Q2209.34 143.255 2206.57 144.806 L2206.57 140.084 Q2209.39 138.95 2211.84 138.371 Q2214.3 137.793 2216.33 137.793 Q2221.71 137.793 2224.9 140.478 Q2228.09 143.163 2228.09 147.654 Q2228.09 149.783 2227.28 151.705 Q2226.5 153.603 2224.39 156.195 Q2223.81 156.867 2220.71 160.084 Q2217.61 163.279 2211.96 169.042 Z\" fill=\"#000000\" fill-rule=\"evenodd\" fill-opacity=\"1\" /></svg>\n"
      ]
     },
     "execution_count": 58,
     "metadata": {},
     "output_type": "execute_result"
    }
   ],
   "source": [
    "# Promedio a través de las realizaciones\n",
    "m_tray_infl = vec(mean(tray_infl, dims=3))\n",
    "plot(infl_dates(gtdata[Date(2020,12)]), m_tray_infl, label=\"Promedio percentil 72\") "
   ]
  },
  {
   "cell_type": "code",
   "execution_count": null,
   "metadata": {},
   "outputs": [],
   "source": []
  }
 ],
 "metadata": {
  "kernelspec": {
   "display_name": "Julia-2-threads 1.6.0",
   "language": "julia",
   "name": "julia-2-threads-1.6"
  },
  "language_info": {
   "file_extension": ".jl",
   "mimetype": "application/julia",
   "name": "julia",
   "version": "1.6.0"
  }
 },
 "nbformat": 4,
 "nbformat_minor": 4
}