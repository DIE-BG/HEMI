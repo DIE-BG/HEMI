{
 "cells": [
  {
   "cell_type": "code",
   "execution_count": 79,
   "metadata": {},
   "outputs": [],
   "source": [
    "using DrWatson\n",
    "@quickactivate \"HEMI\" \n",
    "using HEMI \n",
    "using DataFrames, Chain\n",
    "using CSV, StringEncodings\n",
    "using Plots"
   ]
  },
  {
   "cell_type": "markdown",
   "metadata": {},
   "source": [
    "## Métricas de evaluación histórica"
   ]
  },
  {
   "cell_type": "code",
   "execution_count": 80,
   "metadata": {},
   "outputs": [
    {
     "data": {
      "text/plain": [
       "UniformCountryStructure{2, Float32, Float32} con 2 bases\n",
       "|─> VarCPIBase{Float32, Float32}: 120 períodos × 218 gastos básicos Jan-2001-Dec-2010\n",
       "|─> VarCPIBase{Float32, Float32}: 120 períodos × 279 gastos básicos Jan-2011-Dec-2020\n"
      ]
     },
     "metadata": {},
     "output_type": "display_data"
    }
   ],
   "source": [
    "# Directorios de resultados \n",
    "config_savepath = datadir(\"results\", \"mse-combination\", \"Esc-E-Scramble-OptMAI\")\n",
    "test_savepath = datadir(\"results\", \"mse-combination\", \"Esc-E-Scramble-OptMAI\", \"testdata\")\n",
    "\n",
    "# CountryStructure con datos hasta período de evaluación \n",
    "gtdata_eval = gtdata[Date(2020, 12)]"
   ]
  },
  {
   "cell_type": "code",
   "execution_count": 81,
   "metadata": {},
   "outputs": [
    {
     "data": {
      "text/plain": [
       "Dict{String, Any} with 9 entries:\n",
       "  \"dates_20\"  => Date(\"2001-12-01\"):Month(1):Date(\"2020-12-01\")\n",
       "  \"gitcommit\" => \"ad880e839f10ad5561c027dc147f1263b8844bbd_dirty\"\n",
       "  \"config\"    => CrossEvalConfig{InflationTotalRebaseCPI, ResampleScrambleVarMo…\n",
       "  \"param_20\"  => Float32[5.42724, 5.21743, 5.10553, 5.04973, 5.00705, 4.97791, …\n",
       "  \"dates_18\"  => Date(\"2001-12-01\"):Month(1):Date(\"2018-12-01\")\n",
       "  \"infl_20\"   => Float32[6.16477 5.89241 … 4.50073 6.01093; 5.89446 5.82571 … 4…\n",
       "  \"infl_18\"   => Float32[6.16477 5.89241 … 4.50073 5.9893; 5.89446 5.82571 … 4.…\n",
       "  \"gitpatch\"  => \"diff --git a/scripts/mse-combination/Esc-E-Scramble-OptMAI/ge…\n",
       "  \"param_18\"  => Float32[5.42724, 5.21743, 5.10553, 5.04973, 5.00705, 4.97791, …"
      ]
     },
     "metadata": {},
     "output_type": "display_data"
    }
   ],
   "source": [
    "# Obtener trayectorias de inflación \n",
    "testconfig = wload(joinpath(config_savepath, \"cv_test_config_125k.jld2\"), \"testconfig\")\n",
    "testdata = wload(joinpath(test_savepath, savename(testconfig)))"
   ]
  },
  {
   "cell_type": "code",
   "execution_count": 82,
   "metadata": {},
   "outputs": [],
   "source": [
    "# Trayectorias de inflación y parámetrica\n",
    "tray_infl = testdata[\"infl_20\"]\n",
    "tray_infl_pob = testdata[\"param_20\"];"
   ]
  },
  {
   "cell_type": "markdown",
   "metadata": {},
   "source": [
    "### Métricas de los 4 períodos"
   ]
  },
  {
   "cell_type": "code",
   "execution_count": 83,
   "metadata": {},
   "outputs": [],
   "source": [
    "inflfns = [testconfig.inflfn.functions...]\n",
    "EVAL_PERIODS = [GT_EVAL_B00, GT_EVAL_T0010, GT_EVAL_B10, CompletePeriod()]\n",
    "\n",
    "indv_results = mapreduce(vcat, 1:length(inflfns)) do i \n",
    "    inflfn = inflfns[i]\n",
    "\n",
    "\n",
    "    periods_metrics = mapreduce(merge, EVAL_PERIODS) do period\n",
    "        # Ventana de evaluación\n",
    "        eval_window = eval_periods(gtdata_eval, period)\n",
    "        # Trayectorias combinadas\n",
    "        metrics = eval_metrics(tray_infl[eval_window, i:i, :], tray_infl_pob[eval_window], prefix = period_tag(period))\n",
    "    end\n",
    "\n",
    "    metrics_df = DataFrame(periods_metrics)\n",
    "    metrics_df[!, :measure] .= measure_name(inflfn)\n",
    "    metrics_df\n",
    "end;"
   ]
  },
  {
   "cell_type": "code",
   "execution_count": 84,
   "metadata": {},
   "outputs": [
    {
     "data": {
      "text/html": [
       "<div class=\"data-frame\"><p>7 rows × 5 columns (omitted printing of 1 columns)</p><table class=\"data-frame\"><thead><tr><th></th><th>measure</th><th>gt_b00_mse</th><th>gt_t0010_mse</th><th>gt_b10_mse</th></tr><tr><th></th><th title=\"String\">String</th><th title=\"Float32\">Float32</th><th title=\"Float32\">Float32</th><th title=\"Float32\">Float32</th></tr></thead><tbody><tr><th>1</th><td>Percentil equiponderado 72.4</td><td>0.243393</td><td>1.1195</td><td>0.0843358</td></tr><tr><th>2</th><td>Percentil ponderado 70.0</td><td>0.474509</td><td>1.3196</td><td>0.29442</td></tr><tr><th>3</th><td>Media Truncada Equiponderada (58.76, 83.15)</td><td>0.224129</td><td>1.13039</td><td>0.0715498</td></tr><tr><th>4</th><td>Media Truncada Ponderada (21.0, 95.89)</td><td>0.383119</td><td>0.872381</td><td>0.14664</td></tr><tr><th>5</th><td>Inflación de exclusión dinámica (0.32, 1.68)</td><td>0.36609</td><td>1.14291</td><td>0.123634</td></tr><tr><th>6</th><td>Exclusión fija de gastos básicos IPC (14, 14)</td><td>0.772971</td><td>0.982231</td><td>0.392376</td></tr><tr><th>7</th><td>MAI óptima MSE 2018</td><td>0.244553</td><td>0.76268</td><td>0.125143</td></tr></tbody></table></div>"
      ],
      "text/latex": [
       "\\begin{tabular}{r|ccccc}\n",
       "\t& measure & gt\\_b00\\_mse & gt\\_t0010\\_mse & gt\\_b10\\_mse & \\\\\n",
       "\t\\hline\n",
       "\t& String & Float32 & Float32 & Float32 & \\\\\n",
       "\t\\hline\n",
       "\t1 & Percentil equiponderado 72.4 & 0.243393 & 1.1195 & 0.0843358 & $\\dots$ \\\\\n",
       "\t2 & Percentil ponderado 70.0 & 0.474509 & 1.3196 & 0.29442 & $\\dots$ \\\\\n",
       "\t3 & Media Truncada Equiponderada (58.76, 83.15) & 0.224129 & 1.13039 & 0.0715498 & $\\dots$ \\\\\n",
       "\t4 & Media Truncada Ponderada (21.0, 95.89) & 0.383119 & 0.872381 & 0.14664 & $\\dots$ \\\\\n",
       "\t5 & Inflación de exclusión dinámica (0.32, 1.68) & 0.36609 & 1.14291 & 0.123634 & $\\dots$ \\\\\n",
       "\t6 & Exclusión fija de gastos básicos IPC (14, 14) & 0.772971 & 0.982231 & 0.392376 & $\\dots$ \\\\\n",
       "\t7 & MAI óptima MSE 2018 & 0.244553 & 0.76268 & 0.125143 & $\\dots$ \\\\\n",
       "\\end{tabular}\n"
      ],
      "text/plain": [
       "\u001b[1m7×5 DataFrame\u001b[0m\n",
       "\u001b[1m Row \u001b[0m│\u001b[1m measure                           \u001b[0m\u001b[1m gt_b00_mse \u001b[0m\u001b[1m gt_t0010_mse \u001b[0m\u001b[1m gt_b10_mse\u001b[0m ⋯\n",
       "\u001b[1m     \u001b[0m│\u001b[90m String                            \u001b[0m\u001b[90m Float32    \u001b[0m\u001b[90m Float32      \u001b[0m\u001b[90m Float32   \u001b[0m ⋯\n",
       "─────┼──────────────────────────────────────────────────────────────────────────\n",
       "   1 │ Percentil equiponderado 72.4         0.243393      1.1195     0.0843358 ⋯\n",
       "   2 │ Percentil ponderado 70.0             0.474509      1.3196     0.29442\n",
       "   3 │ Media Truncada Equiponderada (58…    0.224129      1.13039    0.0715498\n",
       "   4 │ Media Truncada Ponderada (21.0, …    0.383119      0.872381   0.14664\n",
       "   5 │ Inflación de exclusión dinámica …    0.36609       1.14291    0.123634  ⋯\n",
       "   6 │ Exclusión fija de gastos básicos…    0.772971      0.982231   0.392376\n",
       "   7 │ MAI óptima MSE 2018                  0.244553      0.76268    0.125143\n",
       "\u001b[36m                                                                1 column omitted\u001b[0m"
      ]
     },
     "metadata": {},
     "output_type": "display_data"
    }
   ],
   "source": [
    "select(indv_results, :measure, :gt_b00_mse, :gt_t0010_mse, :gt_b10_mse, :mse)"
   ]
  },
  {
   "cell_type": "code",
   "execution_count": 85,
   "metadata": {},
   "outputs": [
    {
     "data": {
      "text/html": [
       "<div class=\"data-frame\"><p>7 rows × 2 columns</p><table class=\"data-frame\"><thead><tr><th></th><th>measure</th><th>mse</th></tr><tr><th></th><th title=\"String\">String</th><th title=\"Float32\">Float32</th></tr></thead><tbody><tr><th>1</th><td>Percentil equiponderado 72.4</td><td>0.209768</td></tr><tr><th>2</th><td>Percentil ponderado 70.0</td><td>0.429384</td></tr><tr><th>3</th><td>Media Truncada Equiponderada (58.76, 83.15)</td><td>0.195036</td></tr><tr><th>4</th><td>Media Truncada Ponderada (21.0, 95.89)</td><td>0.294061</td></tr><tr><th>5</th><td>Inflación de exclusión dinámica (0.32, 1.68)</td><td>0.288</td></tr><tr><th>6</th><td>Exclusión fija de gastos básicos IPC (14, 14)</td><td>0.601866</td></tr><tr><th>7</th><td>MAI óptima MSE 2018</td><td>0.212604</td></tr></tbody></table></div>"
      ],
      "text/latex": [
       "\\begin{tabular}{r|cc}\n",
       "\t& measure & mse\\\\\n",
       "\t\\hline\n",
       "\t& String & Float32\\\\\n",
       "\t\\hline\n",
       "\t1 & Percentil equiponderado 72.4 & 0.209768 \\\\\n",
       "\t2 & Percentil ponderado 70.0 & 0.429384 \\\\\n",
       "\t3 & Media Truncada Equiponderada (58.76, 83.15) & 0.195036 \\\\\n",
       "\t4 & Media Truncada Ponderada (21.0, 95.89) & 0.294061 \\\\\n",
       "\t5 & Inflación de exclusión dinámica (0.32, 1.68) & 0.288 \\\\\n",
       "\t6 & Exclusión fija de gastos básicos IPC (14, 14) & 0.601866 \\\\\n",
       "\t7 & MAI óptima MSE 2018 & 0.212604 \\\\\n",
       "\\end{tabular}\n"
      ],
      "text/plain": [
       "\u001b[1m7×2 DataFrame\u001b[0m\n",
       "\u001b[1m Row \u001b[0m│\u001b[1m measure                           \u001b[0m\u001b[1m mse      \u001b[0m\n",
       "\u001b[1m     \u001b[0m│\u001b[90m String                            \u001b[0m\u001b[90m Float32  \u001b[0m\n",
       "─────┼─────────────────────────────────────────────\n",
       "   1 │ Percentil equiponderado 72.4       0.209768\n",
       "   2 │ Percentil ponderado 70.0           0.429384\n",
       "   3 │ Media Truncada Equiponderada (58…  0.195036\n",
       "   4 │ Media Truncada Ponderada (21.0, …  0.294061\n",
       "   5 │ Inflación de exclusión dinámica …  0.288\n",
       "   6 │ Exclusión fija de gastos básicos…  0.601866\n",
       "   7 │ MAI óptima MSE 2018                0.212604"
      ]
     },
     "metadata": {},
     "output_type": "display_data"
    }
   ],
   "source": [
    "select(indv_results, :measure, :mse)"
   ]
  },
  {
   "cell_type": "markdown",
   "metadata": {},
   "source": [
    "### Métricas de la combinación óptima MSE"
   ]
  },
  {
   "cell_type": "code",
   "execution_count": 86,
   "metadata": {},
   "outputs": [
    {
     "data": {
      "text/html": [
       "<div class=\"data-frame\"><p>7 rows × 2 columns</p><table class=\"data-frame\"><thead><tr><th></th><th>measure</th><th>weights</th></tr><tr><th></th><th title=\"String\">String</th><th title=\"Float32\">Float32</th></tr></thead><tbody><tr><th>1</th><td>Percentil equiponderado 72.4</td><td>4.07182e-6</td></tr><tr><th>2</th><td>Percentil ponderado 70.0</td><td>1.64225e-6</td></tr><tr><th>3</th><td>Media Truncada Equiponderada (58.76, 83.15)</td><td>0.727412</td></tr><tr><th>4</th><td>Media Truncada Ponderada (21.0, 95.89)</td><td>4.53039e-6</td></tr><tr><th>5</th><td>Inflación de exclusión dinámica (0.32, 1.68)</td><td>0.0160966</td></tr><tr><th>6</th><td>MAI óptima MSE 2018</td><td>0.256481</td></tr><tr><th>7</th><td>Exclusión fija de gastos básicos IPC (14, 14)</td><td>0.0</td></tr></tbody></table></div>"
      ],
      "text/latex": [
       "\\begin{tabular}{r|cc}\n",
       "\t& measure & weights\\\\\n",
       "\t\\hline\n",
       "\t& String & Float32\\\\\n",
       "\t\\hline\n",
       "\t1 & Percentil equiponderado 72.4 & 4.07182e-6 \\\\\n",
       "\t2 & Percentil ponderado 70.0 & 1.64225e-6 \\\\\n",
       "\t3 & Media Truncada Equiponderada (58.76, 83.15) & 0.727412 \\\\\n",
       "\t4 & Media Truncada Ponderada (21.0, 95.89) & 4.53039e-6 \\\\\n",
       "\t5 & Inflación de exclusión dinámica (0.32, 1.68) & 0.0160966 \\\\\n",
       "\t6 & MAI óptima MSE 2018 & 0.256481 \\\\\n",
       "\t7 & Exclusión fija de gastos básicos IPC (14, 14) & 0.0 \\\\\n",
       "\\end{tabular}\n"
      ],
      "text/plain": [
       "\u001b[1m7×2 DataFrame\u001b[0m\n",
       "\u001b[1m Row \u001b[0m│\u001b[1m measure                           \u001b[0m\u001b[1m weights    \u001b[0m\n",
       "\u001b[1m     \u001b[0m│\u001b[90m String                            \u001b[0m\u001b[90m Float32    \u001b[0m\n",
       "─────┼───────────────────────────────────────────────\n",
       "   1 │ Percentil equiponderado 72.4       4.07182e-6\n",
       "   2 │ Percentil ponderado 70.0           1.64225e-6\n",
       "   3 │ Media Truncada Equiponderada (58…  0.727412\n",
       "   4 │ Media Truncada Ponderada (21.0, …  4.53039e-6\n",
       "   5 │ Inflación de exclusión dinámica …  0.0160966\n",
       "   6 │ MAI óptima MSE 2018                0.256481\n",
       "   7 │ Exclusión fija de gastos básicos…  0.0"
      ]
     },
     "metadata": {},
     "output_type": "display_data"
    }
   ],
   "source": [
    "optmse2022 = wload(datadir(config_savepath, \"optmse2022\", \"optmse2022.jld2\"), \"optmse2022\")\n",
    "components_df = components(optmse2022)"
   ]
  },
  {
   "cell_type": "code",
   "execution_count": 87,
   "metadata": {},
   "outputs": [
    {
     "data": {
      "text/html": [
       "<div class=\"data-frame\"><p>7 rows × 2 columns</p><table class=\"data-frame\"><thead><tr><th></th><th>measure</th><th>weights</th></tr><tr><th></th><th title=\"String\">String</th><th title=\"Float32\">Float32</th></tr></thead><tbody><tr><th>1</th><td>Percentil equiponderado 72.4</td><td>4.07182e-6</td></tr><tr><th>2</th><td>Percentil ponderado 70.0</td><td>1.64225e-6</td></tr><tr><th>3</th><td>Media Truncada Equiponderada (58.76, 83.15)</td><td>0.727412</td></tr><tr><th>4</th><td>Media Truncada Ponderada (21.0, 95.89)</td><td>4.53039e-6</td></tr><tr><th>5</th><td>Inflación de exclusión dinámica (0.32, 1.68)</td><td>0.0160966</td></tr><tr><th>6</th><td>Exclusión fija de gastos básicos IPC (14, 14)</td><td>0.0</td></tr><tr><th>7</th><td>MAI óptima MSE 2018</td><td>0.256481</td></tr></tbody></table></div>"
      ],
      "text/latex": [
       "\\begin{tabular}{r|cc}\n",
       "\t& measure & weights\\\\\n",
       "\t\\hline\n",
       "\t& String & Float32\\\\\n",
       "\t\\hline\n",
       "\t1 & Percentil equiponderado 72.4 & 4.07182e-6 \\\\\n",
       "\t2 & Percentil ponderado 70.0 & 1.64225e-6 \\\\\n",
       "\t3 & Media Truncada Equiponderada (58.76, 83.15) & 0.727412 \\\\\n",
       "\t4 & Media Truncada Ponderada (21.0, 95.89) & 4.53039e-6 \\\\\n",
       "\t5 & Inflación de exclusión dinámica (0.32, 1.68) & 0.0160966 \\\\\n",
       "\t6 & Exclusión fija de gastos básicos IPC (14, 14) & 0.0 \\\\\n",
       "\t7 & MAI óptima MSE 2018 & 0.256481 \\\\\n",
       "\\end{tabular}\n"
      ],
      "text/plain": [
       "\u001b[1m7×2 DataFrame\u001b[0m\n",
       "\u001b[1m Row \u001b[0m│\u001b[1m measure                           \u001b[0m\u001b[1m weights    \u001b[0m\n",
       "\u001b[1m     \u001b[0m│\u001b[90m String                            \u001b[0m\u001b[90m Float32    \u001b[0m\n",
       "─────┼───────────────────────────────────────────────\n",
       "   1 │ Percentil equiponderado 72.4       4.07182e-6\n",
       "   2 │ Percentil ponderado 70.0           1.64225e-6\n",
       "   3 │ Media Truncada Equiponderada (58…  0.727412\n",
       "   4 │ Media Truncada Ponderada (21.0, …  4.53039e-6\n",
       "   5 │ Inflación de exclusión dinámica …  0.0160966\n",
       "   6 │ Exclusión fija de gastos básicos…  0.0\n",
       "   7 │ MAI óptima MSE 2018                0.256481"
      ]
     },
     "metadata": {},
     "output_type": "display_data"
    }
   ],
   "source": [
    "combine_df = leftjoin(components_df, indv_results, on=:measure)\n",
    "select(combine_df, :measure, :weights)"
   ]
  },
  {
   "cell_type": "code",
   "execution_count": 88,
   "metadata": {},
   "outputs": [],
   "source": [
    "# Revisar que el orden en el DataFrame de combinación sea el mismo que en el\n",
    "# vector de funciones de inflación inflfns, ya que es el orden en que se\n",
    "# encuentran las trayectorias de simulación en el arreglo tray_infl\n",
    "@assert combine_df.measure == measure_name.(inflfns) \"Error en orden\""
   ]
  },
  {
   "cell_type": "code",
   "execution_count": 89,
   "metadata": {},
   "outputs": [
    {
     "data": {
      "text/html": [
       "<div class=\"data-frame\"><p>1 rows × 9 columns (omitted printing of 3 columns)</p><table class=\"data-frame\"><thead><tr><th></th><th>measure</th><th>gt_b00_mse</th><th>gt_b00_rmse</th><th>gt_b10_mse</th><th>gt_b10_rmse</th><th>gt_t0010_mse</th></tr><tr><th></th><th title=\"String\">String</th><th title=\"Float32\">Float32</th><th title=\"Float32\">Float32</th><th title=\"Float32\">Float32</th><th title=\"Float32\">Float32</th><th title=\"Float32\">Float32</th></tr></thead><tbody><tr><th>1</th><td>Subyacente óptima MSE 2022</td><td>0.221864</td><td>0.46519</td><td>0.0635692</td><td>0.249898</td><td>1.02145</td></tr></tbody></table></div>"
      ],
      "text/latex": [
       "\\begin{tabular}{r|ccccccc}\n",
       "\t& measure & gt\\_b00\\_mse & gt\\_b00\\_rmse & gt\\_b10\\_mse & gt\\_b10\\_rmse & gt\\_t0010\\_mse & \\\\\n",
       "\t\\hline\n",
       "\t& String & Float32 & Float32 & Float32 & Float32 & Float32 & \\\\\n",
       "\t\\hline\n",
       "\t1 & Subyacente óptima MSE 2022 & 0.221864 & 0.46519 & 0.0635692 & 0.249898 & 1.02145 & $\\dots$ \\\\\n",
       "\\end{tabular}\n"
      ],
      "text/plain": [
       "\u001b[1m1×9 DataFrame\u001b[0m\n",
       "\u001b[1m Row \u001b[0m│\u001b[1m measure                    \u001b[0m\u001b[1m gt_b00_mse \u001b[0m\u001b[1m gt_b00_rmse \u001b[0m\u001b[1m gt_b10_mse \u001b[0m\u001b[1m gt_b10\u001b[0m ⋯\n",
       "\u001b[1m     \u001b[0m│\u001b[90m String                     \u001b[0m\u001b[90m Float32    \u001b[0m\u001b[90m Float32     \u001b[0m\u001b[90m Float32    \u001b[0m\u001b[90m Float3\u001b[0m ⋯\n",
       "─────┼──────────────────────────────────────────────────────────────────────────\n",
       "   1 │ Subyacente óptima MSE 2022    0.221864      0.46519   0.0635692     0.2 ⋯\n",
       "\u001b[36m                                                               5 columns omitted\u001b[0m"
      ]
     },
     "metadata": {},
     "output_type": "display_data"
    }
   ],
   "source": [
    "# Pesos de la combinación óptima\n",
    "mse_weights = combine_df.weights\n",
    "\n",
    "EVAL_PERIODS = [GT_EVAL_B00, GT_EVAL_T0010, GT_EVAL_B10, CompletePeriod()]\n",
    "\n",
    "comb_metrics = mapreduce(merge, EVAL_PERIODS) do period\n",
    "    # Ventana de evaluación\n",
    "    eval_window = eval_periods(gtdata_eval, period)\n",
    "    # Trayectorias combinadas\n",
    "    tray_infl_opt = sum(tray_infl[eval_window, :, :] .* mse_weights', dims=2)\n",
    "    metrics = eval_metrics(tray_infl_opt, tray_infl_pob[eval_window], prefix = period_tag(period))\n",
    "end;\n",
    "\n",
    "# Obtener un DataFrame de métricas de la combinación lineal CORR\n",
    "comb_metrics_df = DataFrame(comb_metrics)\n",
    "comb_metrics_df[!, :measure] .= measure_name(optmse2022)\n",
    "select(comb_metrics_df, :measure, r\"mse$\")"
   ]
  },
  {
   "cell_type": "code",
   "execution_count": 90,
   "metadata": {},
   "outputs": [
    {
     "data": {
      "text/html": [
       "<div class=\"data-frame\"><p>8 rows × 5 columns (omitted printing of 1 columns)</p><table class=\"data-frame\"><thead><tr><th></th><th>measure</th><th>gt_b00_mse</th><th>gt_t0010_mse</th><th>gt_b10_mse</th></tr><tr><th></th><th title=\"String\">String</th><th title=\"Float32\">Float32</th><th title=\"Float32\">Float32</th><th title=\"Float32\">Float32</th></tr></thead><tbody><tr><th>1</th><td>Percentil equiponderado 72.4</td><td>0.243393</td><td>1.1195</td><td>0.0843358</td></tr><tr><th>2</th><td>Percentil ponderado 70.0</td><td>0.474509</td><td>1.3196</td><td>0.29442</td></tr><tr><th>3</th><td>Media Truncada Equiponderada (58.76, 83.15)</td><td>0.224129</td><td>1.13039</td><td>0.0715498</td></tr><tr><th>4</th><td>Media Truncada Ponderada (21.0, 95.89)</td><td>0.383119</td><td>0.872381</td><td>0.14664</td></tr><tr><th>5</th><td>Inflación de exclusión dinámica (0.32, 1.68)</td><td>0.36609</td><td>1.14291</td><td>0.123634</td></tr><tr><th>6</th><td>Exclusión fija de gastos básicos IPC (14, 14)</td><td>0.772971</td><td>0.982231</td><td>0.392376</td></tr><tr><th>7</th><td>MAI óptima MSE 2018</td><td>0.244553</td><td>0.76268</td><td>0.125143</td></tr><tr><th>8</th><td>Subyacente óptima MSE 2022</td><td>0.221864</td><td>1.02145</td><td>0.0635692</td></tr></tbody></table></div>"
      ],
      "text/latex": [
       "\\begin{tabular}{r|ccccc}\n",
       "\t& measure & gt\\_b00\\_mse & gt\\_t0010\\_mse & gt\\_b10\\_mse & \\\\\n",
       "\t\\hline\n",
       "\t& String & Float32 & Float32 & Float32 & \\\\\n",
       "\t\\hline\n",
       "\t1 & Percentil equiponderado 72.4 & 0.243393 & 1.1195 & 0.0843358 & $\\dots$ \\\\\n",
       "\t2 & Percentil ponderado 70.0 & 0.474509 & 1.3196 & 0.29442 & $\\dots$ \\\\\n",
       "\t3 & Media Truncada Equiponderada (58.76, 83.15) & 0.224129 & 1.13039 & 0.0715498 & $\\dots$ \\\\\n",
       "\t4 & Media Truncada Ponderada (21.0, 95.89) & 0.383119 & 0.872381 & 0.14664 & $\\dots$ \\\\\n",
       "\t5 & Inflación de exclusión dinámica (0.32, 1.68) & 0.36609 & 1.14291 & 0.123634 & $\\dots$ \\\\\n",
       "\t6 & Exclusión fija de gastos básicos IPC (14, 14) & 0.772971 & 0.982231 & 0.392376 & $\\dots$ \\\\\n",
       "\t7 & MAI óptima MSE 2018 & 0.244553 & 0.76268 & 0.125143 & $\\dots$ \\\\\n",
       "\t8 & Subyacente óptima MSE 2022 & 0.221864 & 1.02145 & 0.0635692 & $\\dots$ \\\\\n",
       "\\end{tabular}\n"
      ],
      "text/plain": [
       "\u001b[1m8×5 DataFrame\u001b[0m\n",
       "\u001b[1m Row \u001b[0m│\u001b[1m measure                           \u001b[0m\u001b[1m gt_b00_mse \u001b[0m\u001b[1m gt_t0010_mse \u001b[0m\u001b[1m gt_b10_mse\u001b[0m ⋯\n",
       "\u001b[1m     \u001b[0m│\u001b[90m String                            \u001b[0m\u001b[90m Float32    \u001b[0m\u001b[90m Float32      \u001b[0m\u001b[90m Float32   \u001b[0m ⋯\n",
       "─────┼──────────────────────────────────────────────────────────────────────────\n",
       "   1 │ Percentil equiponderado 72.4         0.243393      1.1195     0.0843358 ⋯\n",
       "   2 │ Percentil ponderado 70.0             0.474509      1.3196     0.29442\n",
       "   3 │ Media Truncada Equiponderada (58…    0.224129      1.13039    0.0715498\n",
       "   4 │ Media Truncada Ponderada (21.0, …    0.383119      0.872381   0.14664\n",
       "   5 │ Inflación de exclusión dinámica …    0.36609       1.14291    0.123634  ⋯\n",
       "   6 │ Exclusión fija de gastos básicos…    0.772971      0.982231   0.392376\n",
       "   7 │ MAI óptima MSE 2018                  0.244553      0.76268    0.125143\n",
       "   8 │ Subyacente óptima MSE 2022           0.221864      1.02145    0.0635692\n",
       "\u001b[36m                                                                1 column omitted\u001b[0m"
      ]
     },
     "metadata": {},
     "output_type": "display_data"
    }
   ],
   "source": [
    "# Combinar los resultados individuales con los de la combinación MSE\n",
    "historic_df = [\n",
    "    select(indv_results, :measure, :gt_b00_mse, :gt_t0010_mse, :gt_b10_mse, :mse); \n",
    "    select(comb_metrics_df, :measure, :gt_b00_mse, :gt_t0010_mse, :gt_b10_mse, :mse)\n",
    "]"
   ]
  },
  {
   "cell_type": "markdown",
   "metadata": {},
   "source": [
    "## Métricas en período de optimización (Dic-2001 - Dic-2018)"
   ]
  },
  {
   "cell_type": "code",
   "execution_count": 91,
   "metadata": {},
   "outputs": [
    {
     "data": {
      "text/plain": [
       "opt18:Dec-01-Dec-18"
      ]
     },
     "metadata": {},
     "output_type": "display_data"
    }
   ],
   "source": [
    "# Trayectorias de inflación y parámetrica\n",
    "tray_infl = testdata[\"infl_18\"]\n",
    "tray_infl_pob = testdata[\"param_18\"];\n",
    "\n",
    "gtdata_eval = gtdata[Date(2018, 12)]\n",
    "opt_period = EvalPeriod(Date(2001, 12), Date(2018, 12), \"opt18\")"
   ]
  },
  {
   "cell_type": "markdown",
   "metadata": {},
   "source": [
    "### Métricas individuales del período de optimización"
   ]
  },
  {
   "cell_type": "code",
   "execution_count": 92,
   "metadata": {},
   "outputs": [],
   "source": [
    "inflfns = [testconfig.inflfn.functions...]\n",
    "EVAL_PERIODS = [opt_period]\n",
    "\n",
    "indv_results = mapreduce(vcat, 1:length(inflfns)) do i \n",
    "    inflfn = inflfns[i]\n",
    "\n",
    "    periods_metrics = mapreduce(merge, EVAL_PERIODS) do period\n",
    "        # Ventana de evaluación\n",
    "        eval_window = eval_periods(gtdata_eval, period)\n",
    "        # Trayectorias combinadas\n",
    "        metrics = eval_metrics(tray_infl[eval_window, i:i, :], tray_infl_pob[eval_window], prefix = period_tag(period))\n",
    "    end\n",
    "\n",
    "    metrics_df = DataFrame(periods_metrics)\n",
    "    metrics_df[!, :measure] .= measure_name(inflfn)\n",
    "    metrics_df\n",
    "end;"
   ]
  },
  {
   "cell_type": "code",
   "execution_count": 93,
   "metadata": {},
   "outputs": [
    {
     "data": {
      "text/html": [
       "<div class=\"data-frame\"><p>7 rows × 2 columns</p><table class=\"data-frame\"><thead><tr><th></th><th>measure</th><th>opt18_mse</th></tr><tr><th></th><th title=\"String\">String</th><th title=\"Float32\">Float32</th></tr></thead><tbody><tr><th>1</th><td>Percentil equiponderado 72.4</td><td>0.24027</td></tr><tr><th>2</th><td>Percentil ponderado 70.0</td><td>0.410102</td></tr><tr><th>3</th><td>Media Truncada Equiponderada (58.76, 83.15)</td><td>0.220518</td></tr><tr><th>4</th><td>Media Truncada Ponderada (21.0, 95.89)</td><td>0.305004</td></tr><tr><th>5</th><td>Inflación de exclusión dinámica (0.32, 1.68)</td><td>0.302949</td></tr><tr><th>6</th><td>Exclusión fija de gastos básicos IPC (14, 14)</td><td>0.613884</td></tr><tr><th>7</th><td>MAI óptima MSE 2018</td><td>0.209567</td></tr></tbody></table></div>"
      ],
      "text/latex": [
       "\\begin{tabular}{r|cc}\n",
       "\t& measure & opt18\\_mse\\\\\n",
       "\t\\hline\n",
       "\t& String & Float32\\\\\n",
       "\t\\hline\n",
       "\t1 & Percentil equiponderado 72.4 & 0.24027 \\\\\n",
       "\t2 & Percentil ponderado 70.0 & 0.410102 \\\\\n",
       "\t3 & Media Truncada Equiponderada (58.76, 83.15) & 0.220518 \\\\\n",
       "\t4 & Media Truncada Ponderada (21.0, 95.89) & 0.305004 \\\\\n",
       "\t5 & Inflación de exclusión dinámica (0.32, 1.68) & 0.302949 \\\\\n",
       "\t6 & Exclusión fija de gastos básicos IPC (14, 14) & 0.613884 \\\\\n",
       "\t7 & MAI óptima MSE 2018 & 0.209567 \\\\\n",
       "\\end{tabular}\n"
      ],
      "text/plain": [
       "\u001b[1m7×2 DataFrame\u001b[0m\n",
       "\u001b[1m Row \u001b[0m│\u001b[1m measure                           \u001b[0m\u001b[1m opt18_mse \u001b[0m\n",
       "\u001b[1m     \u001b[0m│\u001b[90m String                            \u001b[0m\u001b[90m Float32   \u001b[0m\n",
       "─────┼──────────────────────────────────────────────\n",
       "   1 │ Percentil equiponderado 72.4        0.24027\n",
       "   2 │ Percentil ponderado 70.0            0.410102\n",
       "   3 │ Media Truncada Equiponderada (58…   0.220518\n",
       "   4 │ Media Truncada Ponderada (21.0, …   0.305004\n",
       "   5 │ Inflación de exclusión dinámica …   0.302949\n",
       "   6 │ Exclusión fija de gastos básicos…   0.613884\n",
       "   7 │ MAI óptima MSE 2018                 0.209567"
      ]
     },
     "metadata": {},
     "output_type": "display_data"
    }
   ],
   "source": [
    "select(indv_results, :measure, :opt18_mse)"
   ]
  },
  {
   "cell_type": "markdown",
   "metadata": {},
   "source": [
    "### Métricas de la combinación óptima MSE en período de optimización"
   ]
  },
  {
   "cell_type": "code",
   "execution_count": 94,
   "metadata": {},
   "outputs": [
    {
     "data": {
      "text/html": [
       "<div class=\"data-frame\"><p>7 rows × 2 columns</p><table class=\"data-frame\"><thead><tr><th></th><th>measure</th><th>weights</th></tr><tr><th></th><th title=\"String\">String</th><th title=\"Float32\">Float32</th></tr></thead><tbody><tr><th>1</th><td>Percentil equiponderado 72.4</td><td>4.07182e-6</td></tr><tr><th>2</th><td>Percentil ponderado 70.0</td><td>1.64225e-6</td></tr><tr><th>3</th><td>Media Truncada Equiponderada (58.76, 83.15)</td><td>0.727412</td></tr><tr><th>4</th><td>Media Truncada Ponderada (21.0, 95.89)</td><td>4.53039e-6</td></tr><tr><th>5</th><td>Inflación de exclusión dinámica (0.32, 1.68)</td><td>0.0160966</td></tr><tr><th>6</th><td>Exclusión fija de gastos básicos IPC (14, 14)</td><td>0.0</td></tr><tr><th>7</th><td>MAI óptima MSE 2018</td><td>0.256481</td></tr></tbody></table></div>"
      ],
      "text/latex": [
       "\\begin{tabular}{r|cc}\n",
       "\t& measure & weights\\\\\n",
       "\t\\hline\n",
       "\t& String & Float32\\\\\n",
       "\t\\hline\n",
       "\t1 & Percentil equiponderado 72.4 & 4.07182e-6 \\\\\n",
       "\t2 & Percentil ponderado 70.0 & 1.64225e-6 \\\\\n",
       "\t3 & Media Truncada Equiponderada (58.76, 83.15) & 0.727412 \\\\\n",
       "\t4 & Media Truncada Ponderada (21.0, 95.89) & 4.53039e-6 \\\\\n",
       "\t5 & Inflación de exclusión dinámica (0.32, 1.68) & 0.0160966 \\\\\n",
       "\t6 & Exclusión fija de gastos básicos IPC (14, 14) & 0.0 \\\\\n",
       "\t7 & MAI óptima MSE 2018 & 0.256481 \\\\\n",
       "\\end{tabular}\n"
      ],
      "text/plain": [
       "\u001b[1m7×2 DataFrame\u001b[0m\n",
       "\u001b[1m Row \u001b[0m│\u001b[1m measure                           \u001b[0m\u001b[1m weights    \u001b[0m\n",
       "\u001b[1m     \u001b[0m│\u001b[90m String                            \u001b[0m\u001b[90m Float32    \u001b[0m\n",
       "─────┼───────────────────────────────────────────────\n",
       "   1 │ Percentil equiponderado 72.4       4.07182e-6\n",
       "   2 │ Percentil ponderado 70.0           1.64225e-6\n",
       "   3 │ Media Truncada Equiponderada (58…  0.727412\n",
       "   4 │ Media Truncada Ponderada (21.0, …  4.53039e-6\n",
       "   5 │ Inflación de exclusión dinámica …  0.0160966\n",
       "   6 │ Exclusión fija de gastos básicos…  0.0\n",
       "   7 │ MAI óptima MSE 2018                0.256481"
      ]
     },
     "metadata": {},
     "output_type": "display_data"
    }
   ],
   "source": [
    "combine_df = leftjoin(components_df, indv_results, on=:measure)\n",
    "select(combine_df, :measure, :weights)"
   ]
  },
  {
   "cell_type": "code",
   "execution_count": 95,
   "metadata": {},
   "outputs": [],
   "source": [
    "# Revisar que el orden en el DataFrame de combinación sea el mismo que en el\n",
    "# vector de funciones de inflación inflfns, ya que es el orden en que se\n",
    "# encuentran las trayectorias de simulación en el arreglo tray_infl\n",
    "@assert combine_df.measure == measure_name.(inflfns) \"Error en orden\""
   ]
  },
  {
   "cell_type": "code",
   "execution_count": 96,
   "metadata": {},
   "outputs": [
    {
     "data": {
      "text/html": [
       "<div class=\"data-frame\"><p>1 rows × 2 columns</p><table class=\"data-frame\"><thead><tr><th></th><th>measure</th><th>opt18_mse</th></tr><tr><th></th><th title=\"String\">String</th><th title=\"Float32\">Float32</th></tr></thead><tbody><tr><th>1</th><td>Subyacente óptima MSE 2022</td><td>0.203698</td></tr></tbody></table></div>"
      ],
      "text/latex": [
       "\\begin{tabular}{r|cc}\n",
       "\t& measure & opt18\\_mse\\\\\n",
       "\t\\hline\n",
       "\t& String & Float32\\\\\n",
       "\t\\hline\n",
       "\t1 & Subyacente óptima MSE 2022 & 0.203698 \\\\\n",
       "\\end{tabular}\n"
      ],
      "text/plain": [
       "\u001b[1m1×2 DataFrame\u001b[0m\n",
       "\u001b[1m Row \u001b[0m│\u001b[1m measure                    \u001b[0m\u001b[1m opt18_mse \u001b[0m\n",
       "\u001b[1m     \u001b[0m│\u001b[90m String                     \u001b[0m\u001b[90m Float32   \u001b[0m\n",
       "─────┼───────────────────────────────────────\n",
       "   1 │ Subyacente óptima MSE 2022   0.203698"
      ]
     },
     "metadata": {},
     "output_type": "display_data"
    }
   ],
   "source": [
    "# Pesos de la combinación óptima\n",
    "mse_weights = combine_df.weights\n",
    "\n",
    "EVAL_PERIODS = [opt_period]\n",
    "\n",
    "comb_metrics = mapreduce(merge, EVAL_PERIODS) do period\n",
    "    # Ventana de evaluación\n",
    "    eval_window = eval_periods(gtdata_eval, period)\n",
    "    # Trayectorias combinadas\n",
    "    tray_infl_opt = sum(tray_infl[eval_window, :, :] .* mse_weights', dims=2)\n",
    "    metrics = eval_metrics(tray_infl_opt, tray_infl_pob[eval_window], prefix = period_tag(period))\n",
    "end;\n",
    "\n",
    "# Obtener un DataFrame de métricas de la combinación lineal CORR\n",
    "comb_metrics_df = DataFrame(comb_metrics)\n",
    "comb_metrics_df[!, :measure] .= measure_name(optmse2022)\n",
    "select(comb_metrics_df, :measure, :opt18_mse)"
   ]
  },
  {
   "cell_type": "code",
   "execution_count": 97,
   "metadata": {},
   "outputs": [
    {
     "data": {
      "text/html": [
       "<div class=\"data-frame\"><p>8 rows × 2 columns</p><table class=\"data-frame\"><thead><tr><th></th><th>measure</th><th>opt18_mse</th></tr><tr><th></th><th title=\"String\">String</th><th title=\"Float32\">Float32</th></tr></thead><tbody><tr><th>1</th><td>Percentil equiponderado 72.4</td><td>0.24027</td></tr><tr><th>2</th><td>Percentil ponderado 70.0</td><td>0.410102</td></tr><tr><th>3</th><td>Media Truncada Equiponderada (58.76, 83.15)</td><td>0.220518</td></tr><tr><th>4</th><td>Media Truncada Ponderada (21.0, 95.89)</td><td>0.305004</td></tr><tr><th>5</th><td>Inflación de exclusión dinámica (0.32, 1.68)</td><td>0.302949</td></tr><tr><th>6</th><td>Exclusión fija de gastos básicos IPC (14, 14)</td><td>0.613884</td></tr><tr><th>7</th><td>MAI óptima MSE 2018</td><td>0.209567</td></tr><tr><th>8</th><td>Subyacente óptima MSE 2022</td><td>0.203698</td></tr></tbody></table></div>"
      ],
      "text/latex": [
       "\\begin{tabular}{r|cc}\n",
       "\t& measure & opt18\\_mse\\\\\n",
       "\t\\hline\n",
       "\t& String & Float32\\\\\n",
       "\t\\hline\n",
       "\t1 & Percentil equiponderado 72.4 & 0.24027 \\\\\n",
       "\t2 & Percentil ponderado 70.0 & 0.410102 \\\\\n",
       "\t3 & Media Truncada Equiponderada (58.76, 83.15) & 0.220518 \\\\\n",
       "\t4 & Media Truncada Ponderada (21.0, 95.89) & 0.305004 \\\\\n",
       "\t5 & Inflación de exclusión dinámica (0.32, 1.68) & 0.302949 \\\\\n",
       "\t6 & Exclusión fija de gastos básicos IPC (14, 14) & 0.613884 \\\\\n",
       "\t7 & MAI óptima MSE 2018 & 0.209567 \\\\\n",
       "\t8 & Subyacente óptima MSE 2022 & 0.203698 \\\\\n",
       "\\end{tabular}\n"
      ],
      "text/plain": [
       "\u001b[1m8×2 DataFrame\u001b[0m\n",
       "\u001b[1m Row \u001b[0m│\u001b[1m measure                           \u001b[0m\u001b[1m opt18_mse \u001b[0m\n",
       "\u001b[1m     \u001b[0m│\u001b[90m String                            \u001b[0m\u001b[90m Float32   \u001b[0m\n",
       "─────┼──────────────────────────────────────────────\n",
       "   1 │ Percentil equiponderado 72.4        0.24027\n",
       "   2 │ Percentil ponderado 70.0            0.410102\n",
       "   3 │ Media Truncada Equiponderada (58…   0.220518\n",
       "   4 │ Media Truncada Ponderada (21.0, …   0.305004\n",
       "   5 │ Inflación de exclusión dinámica …   0.302949\n",
       "   6 │ Exclusión fija de gastos básicos…   0.613884\n",
       "   7 │ MAI óptima MSE 2018                 0.209567\n",
       "   8 │ Subyacente óptima MSE 2022          0.203698"
      ]
     },
     "metadata": {},
     "output_type": "display_data"
    }
   ],
   "source": [
    "# Combinar los resultados individuales con los de la combinación MSE\n",
    "optim_period_df = [\n",
    "    select(indv_results, :measure, :opt18_mse); \n",
    "    select(comb_metrics_df, :measure, :opt18_mse)\n",
    "]"
   ]
  },
  {
   "cell_type": "markdown",
   "metadata": {},
   "source": [
    "## Combinar las métricas en un DataFrame de salida"
   ]
  },
  {
   "cell_type": "code",
   "execution_count": 99,
   "metadata": {},
   "outputs": [
    {
     "data": {
      "text/html": [
       "<div class=\"data-frame\"><p>8 rows × 6 columns (omitted printing of 2 columns)</p><table class=\"data-frame\"><thead><tr><th></th><th>measure</th><th>gt_b00_mse</th><th>gt_t0010_mse</th><th>gt_b10_mse</th></tr><tr><th></th><th title=\"String\">String</th><th title=\"Float32\">Float32</th><th title=\"Float32\">Float32</th><th title=\"Float32\">Float32</th></tr></thead><tbody><tr><th>1</th><td>Percentil equiponderado 72.4</td><td>0.243393</td><td>1.1195</td><td>0.0843358</td></tr><tr><th>2</th><td>Percentil ponderado 70.0</td><td>0.474509</td><td>1.3196</td><td>0.29442</td></tr><tr><th>3</th><td>Media Truncada Equiponderada (58.76, 83.15)</td><td>0.224129</td><td>1.13039</td><td>0.0715498</td></tr><tr><th>4</th><td>Media Truncada Ponderada (21.0, 95.89)</td><td>0.383119</td><td>0.872381</td><td>0.14664</td></tr><tr><th>5</th><td>Inflación de exclusión dinámica (0.32, 1.68)</td><td>0.36609</td><td>1.14291</td><td>0.123634</td></tr><tr><th>6</th><td>Exclusión fija de gastos básicos IPC (14, 14)</td><td>0.772971</td><td>0.982231</td><td>0.392376</td></tr><tr><th>7</th><td>MAI óptima MSE 2018</td><td>0.244553</td><td>0.76268</td><td>0.125143</td></tr><tr><th>8</th><td>Subyacente óptima MSE 2022</td><td>0.221864</td><td>1.02145</td><td>0.0635692</td></tr></tbody></table></div>"
      ],
      "text/latex": [
       "\\begin{tabular}{r|ccccc}\n",
       "\t& measure & gt\\_b00\\_mse & gt\\_t0010\\_mse & gt\\_b10\\_mse & \\\\\n",
       "\t\\hline\n",
       "\t& String & Float32 & Float32 & Float32 & \\\\\n",
       "\t\\hline\n",
       "\t1 & Percentil equiponderado 72.4 & 0.243393 & 1.1195 & 0.0843358 & $\\dots$ \\\\\n",
       "\t2 & Percentil ponderado 70.0 & 0.474509 & 1.3196 & 0.29442 & $\\dots$ \\\\\n",
       "\t3 & Media Truncada Equiponderada (58.76, 83.15) & 0.224129 & 1.13039 & 0.0715498 & $\\dots$ \\\\\n",
       "\t4 & Media Truncada Ponderada (21.0, 95.89) & 0.383119 & 0.872381 & 0.14664 & $\\dots$ \\\\\n",
       "\t5 & Inflación de exclusión dinámica (0.32, 1.68) & 0.36609 & 1.14291 & 0.123634 & $\\dots$ \\\\\n",
       "\t6 & Exclusión fija de gastos básicos IPC (14, 14) & 0.772971 & 0.982231 & 0.392376 & $\\dots$ \\\\\n",
       "\t7 & MAI óptima MSE 2018 & 0.244553 & 0.76268 & 0.125143 & $\\dots$ \\\\\n",
       "\t8 & Subyacente óptima MSE 2022 & 0.221864 & 1.02145 & 0.0635692 & $\\dots$ \\\\\n",
       "\\end{tabular}\n"
      ],
      "text/plain": [
       "\u001b[1m8×6 DataFrame\u001b[0m\n",
       "\u001b[1m Row \u001b[0m│\u001b[1m measure                           \u001b[0m\u001b[1m gt_b00_mse \u001b[0m\u001b[1m gt_t0010_mse \u001b[0m\u001b[1m gt_b10_mse\u001b[0m ⋯\n",
       "\u001b[1m     \u001b[0m│\u001b[90m String                            \u001b[0m\u001b[90m Float32    \u001b[0m\u001b[90m Float32      \u001b[0m\u001b[90m Float32   \u001b[0m ⋯\n",
       "─────┼──────────────────────────────────────────────────────────────────────────\n",
       "   1 │ Percentil equiponderado 72.4         0.243393      1.1195     0.0843358 ⋯\n",
       "   2 │ Percentil ponderado 70.0             0.474509      1.3196     0.29442\n",
       "   3 │ Media Truncada Equiponderada (58…    0.224129      1.13039    0.0715498\n",
       "   4 │ Media Truncada Ponderada (21.0, …    0.383119      0.872381   0.14664\n",
       "   5 │ Inflación de exclusión dinámica …    0.36609       1.14291    0.123634  ⋯\n",
       "   6 │ Exclusión fija de gastos básicos…    0.772971      0.982231   0.392376\n",
       "   7 │ MAI óptima MSE 2018                  0.244553      0.76268    0.125143\n",
       "   8 │ Subyacente óptima MSE 2022           0.221864      1.02145    0.0635692\n",
       "\u001b[36m                                                               2 columns omitted\u001b[0m"
      ]
     },
     "metadata": {},
     "output_type": "display_data"
    }
   ],
   "source": [
    "final_df = leftjoin(historic_df, optim_period_df, on=:measure)"
   ]
  },
  {
   "cell_type": "code",
   "execution_count": 100,
   "metadata": {},
   "outputs": [
    {
     "name": "stderr",
     "output_type": "stream",
     "text": [
      "┌ Info: Saving file with ISO-8859-1\n",
      "│   file = c:\\Users\\RRCP\\Documents\\HEMI\\HEMI\\data\\updates\\metrics\\optmse2022_metrics.csv\n",
      "└ @ Main c:\\Users\\RRCP\\Documents\\HEMI\\HEMI\\notebooks\\historic-combination-metrics\\mse-combination-metrics.ipynb:4\n"
     ]
    },
    {
     "data": {
      "text/plain": [
       "StringEncoder{UTF-8, ISO-8859-1}(IOStream(<file c:\\Users\\RRCP\\Documents\\HEMI\\HEMI\\data\\updates\\metrics\\optmse2022_metrics.csv>))"
      ]
     },
     "metadata": {},
     "output_type": "display_data"
    }
   ],
   "source": [
    "# Guardar los resultados en un archivo CSV\n",
    "function save_csv(file::AbstractString, df::DataFrame)\n",
    "    encoding = enc\"ISO-8859-1\"\n",
    "    @info \"Saving file with $encoding\" file\n",
    "    open(file, encoding, \"w\") do io \n",
    "        CSV.write(io, df)\n",
    "    end\n",
    "end\n",
    "\n",
    "metrics_savepath = mkpath(datadir(\"updates\", \"metrics\"))\n",
    "save_csv(\n",
    "    joinpath(metrics_savepath, \"optmse2022_metrics.csv\"),\n",
    "    final_df\n",
    ")"
   ]
  },
  {
   "cell_type": "code",
   "execution_count": 101,
   "metadata": {},
   "outputs": [],
   "source": []
  }
 ],
 "metadata": {
  "kernelspec": {
   "display_name": "Julia 1.6.5",
   "language": "julia",
   "name": "julia-1.6"
  },
  "language_info": {
   "file_extension": ".jl",
   "mimetype": "application/julia",
   "name": "julia",
   "version": "1.6.5"
  },
  "orig_nbformat": 4
 },
 "nbformat": 4,
 "nbformat_minor": 2
}
