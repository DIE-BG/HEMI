{
 "cells": [
  {
   "cell_type": "code",
   "execution_count": 21,
   "metadata": {},
   "outputs": [],
   "source": [
    "using DrWatson\n",
    "@quickactivate \"HEMI\" \n",
    "using HEMI \n",
    "using DataFrames, Chain\n",
    "using CSV, StringEncodings\n",
    "using Plots"
   ]
  },
  {
   "cell_type": "markdown",
   "metadata": {},
   "source": [
    "## Métricas de evaluación histórica"
   ]
  },
  {
   "cell_type": "code",
   "execution_count": 22,
   "metadata": {},
   "outputs": [
    {
     "data": {
      "text/plain": [
       "UniformCountryStructure{2, Float32, Float32} con 2 bases\n",
       "|─> VarCPIBase{Float32, Float32}: 120 períodos × 218 gastos básicos Jan-2001-Dec-2010\n",
       "|─> VarCPIBase{Float32, Float32}: 120 períodos × 279 gastos básicos Jan-2011-Dec-2020\n"
      ]
     },
     "metadata": {},
     "output_type": "display_data"
    }
   ],
   "source": [
    "## Directorios de resultados \n",
    "config_savepath = datadir(\"results\", \"absme-combination\", \"Esc-G\")\n",
    "tray_dir = datadir(config_savepath, \"tray_infl\")\n",
    "\n",
    "# CountryStructure con datos hasta período de evaluación \n",
    "gtdata_eval = gtdata[Date(2020, 12)]"
   ]
  },
  {
   "cell_type": "code",
   "execution_count": 23,
   "metadata": {},
   "outputs": [
    {
     "name": "stderr",
     "output_type": "stream",
     "text": [
      "┌ Info: Scanning folder c:\\Users\\RRCP\\Documents\\HEMI\\HEMI\\data\\results\\absme-combination\\Esc-G for result files.\n",
      "└ @ DrWatson C:\\Users\\RRCP\\.julia\\packages\\DrWatson\\VwP8P\\src\\result_collection.jl:88\n",
      "┌ Info: Added 7 entries.\n",
      "└ @ DrWatson C:\\Users\\RRCP\\.julia\\packages\\DrWatson\\VwP8P\\src\\result_collection.jl:118\n"
     ]
    },
    {
     "data": {
      "text/html": [
       "<div class=\"data-frame\"><p>7 rows × 66 columns (omitted printing of 63 columns)</p><table class=\"data-frame\"><thead><tr><th></th><th>gt_b00_mse_bias</th><th>traindate</th><th>inflfn</th></tr><tr><th></th><th title=\"Union{Missing, Float32}\">Float32?</th><th title=\"Union{Missing, Date}\">Date?</th><th title=\"Union{Missing, InflationFunction}\">Inflati…?</th></tr></thead><tbody><tr><th>1</th><td>0.322124</td><td>2020-12-01</td><td>CombinationFunction{3, Vector{Float32}}(EnsembleFunction{3}((InflationCoreMai{Float32, Float64, MaiFP{Vector{Float64}}}(-200.0f0:0.01f0:200.0f0, MaiFP{Vector{Float64}}(5, [0.0, 0.27659, 0.515634, 0.705296, 0.844231, 1.0])), InflationCoreMai{Float32, Float64, MaiG{Vector{Float64}}}(-200.0f0:0.01f0:200.0f0, MaiG{Vector{Float64}}(5, [0.0, 0.314251, 0.448574, 0.71937, 0.830707, 1.0])), InflationCoreMai{Float32, Float64, MaiF{Vector{Float64}}}(-200.0f0:0.01f0:200.0f0, MaiF{Vector{Float64}}(10, [0.0, 0.200736, 0.227323, 0.342667, 0.420023, 0.522214, 0.613693, 0.687521, 0.746755, 0.857262, 1.0])))), Float32[0.58963, 0.379532, 0.0309246], &quot;MAI óptima de absme 2018&quot;)</td></tr><tr><th>2</th><td>0.0297035</td><td>2020-12-01</td><td>InflationDynamicExclusion(1.03194, 3.42365)</td></tr><tr><th>3</th><td>0.119365</td><td>2020-12-01</td><td>InflationFixedExclusionCPI{2}(([35, 30, 190, 36, 37, 40, 31, 104, 162], [29, 116, 31, 46, 39, 40]))</td></tr><tr><th>4</th><td>0.0457432</td><td>2020-12-01</td><td>InflationTrimmedMeanEq(35.2881, 93.4009)</td></tr><tr><th>5</th><td>0.168776</td><td>2020-12-01</td><td>InflationTrimmedMeanWeighted(34.1943, 93.0)</td></tr><tr><th>6</th><td>0.0616134</td><td>2020-12-01</td><td>InflationPercentileEq(0.716344)</td></tr><tr><th>7</th><td>0.0341601</td><td>2020-12-01</td><td>InflationPercentileWeighted(0.695585)</td></tr></tbody></table></div>"
      ],
      "text/latex": [
       "\\begin{tabular}{r|cccc}\n",
       "\t& gt\\_b00\\_mse\\_bias & traindate & inflfn & \\\\\n",
       "\t\\hline\n",
       "\t& Float32? & Date? & Inflati…? & \\\\\n",
       "\t\\hline\n",
       "\t1 & 0.322124 & 2020-12-01 & CombinationFunction\\{3, Vector\\{Float32\\}\\}(EnsembleFunction\\{3\\}((InflationCoreMai\\{Float32, Float64, MaiFP\\{Vector\\{Float64\\}\\}\\}(-200.0f0:0.01f0:200.0f0, MaiFP\\{Vector\\{Float64\\}\\}(5, [0.0, 0.27659, 0.515634, 0.705296, 0.844231, 1.0])), InflationCoreMai\\{Float32, Float64, MaiG\\{Vector\\{Float64\\}\\}\\}(-200.0f0:0.01f0:200.0f0, MaiG\\{Vector\\{Float64\\}\\}(5, [0.0, 0.314251, 0.448574, 0.71937, 0.830707, 1.0])), InflationCoreMai\\{Float32, Float64, MaiF\\{Vector\\{Float64\\}\\}\\}(-200.0f0:0.01f0:200.0f0, MaiF\\{Vector\\{Float64\\}\\}(10, [0.0, 0.200736, 0.227323, 0.342667, 0.420023, 0.522214, 0.613693, 0.687521, 0.746755, 0.857262, 1.0])))), Float32[0.58963, 0.379532, 0.0309246], \"MAI óptima de absme 2018\") & $\\dots$ \\\\\n",
       "\t2 & 0.0297035 & 2020-12-01 & InflationDynamicExclusion(1.03194, 3.42365) & $\\dots$ \\\\\n",
       "\t3 & 0.119365 & 2020-12-01 & InflationFixedExclusionCPI\\{2\\}(([35, 30, 190, 36, 37, 40, 31, 104, 162], [29, 116, 31, 46, 39, 40])) & $\\dots$ \\\\\n",
       "\t4 & 0.0457432 & 2020-12-01 & InflationTrimmedMeanEq(35.2881, 93.4009) & $\\dots$ \\\\\n",
       "\t5 & 0.168776 & 2020-12-01 & InflationTrimmedMeanWeighted(34.1943, 93.0) & $\\dots$ \\\\\n",
       "\t6 & 0.0616134 & 2020-12-01 & InflationPercentileEq(0.716344) & $\\dots$ \\\\\n",
       "\t7 & 0.0341601 & 2020-12-01 & InflationPercentileWeighted(0.695585) & $\\dots$ \\\\\n",
       "\\end{tabular}\n"
      ],
      "text/plain": [
       "\u001b[1m7×66 DataFrame\u001b[0m\n",
       "\u001b[1m Row \u001b[0m│\u001b[1m gt_b00_mse_bias \u001b[0m\u001b[1m traindate  \u001b[0m\u001b[1m inflfn                            \u001b[0m\n",
       "\u001b[1m     \u001b[0m│\u001b[90m Float32?        \u001b[0m\u001b[90m Date?      \u001b[0m\u001b[90m Inflatio…?                        \u001b[0m\n",
       "─────┼──────────────────────────────────────────────────────────────────────────\n",
       "   1 │       0.322124   2020-12-01  CombinationFunction{3, Vector{Fl…\n",
       "   2 │       0.0297035  2020-12-01  InflationDynamicExclusion(1.0319…\n",
       "   3 │       0.119365   2020-12-01  InflationFixedExclusionCPI{2}(([…\n",
       "   4 │       0.0457432  2020-12-01  InflationTrimmedMeanEq(35.2881, …\n",
       "   5 │       0.168776   2020-12-01  InflationTrimmedMeanWeighted(34.…\n",
       "   6 │       0.0616134  2020-12-01  InflationPercentileEq(0.716344)\n",
       "   7 │       0.0341601  2020-12-01  InflationPercentileWeighted(0.69…\n",
       "\u001b[36m                                                              63 columns omitted\u001b[0m"
      ]
     },
     "metadata": {},
     "output_type": "display_data"
    }
   ],
   "source": [
    "df_results = collect_results(config_savepath)\n",
    "df_results"
   ]
  },
  {
   "cell_type": "markdown",
   "metadata": {},
   "source": [
    "### Métricas de los 4 períodos"
   ]
  },
  {
   "cell_type": "code",
   "execution_count": 24,
   "metadata": {},
   "outputs": [
    {
     "data": {
      "text/html": [
       "<div class=\"data-frame\"><p>7 rows × 5 columns (omitted printing of 1 columns)</p><table class=\"data-frame\"><thead><tr><th></th><th>measure</th><th>gt_b00_absme</th><th>gt_t0010_absme</th><th>gt_b10_absme</th></tr><tr><th></th><th title=\"Union{Missing, String}\">String?</th><th title=\"Union{Missing, Float32}\">Float32?</th><th title=\"Union{Missing, Float32}\">Float32?</th><th title=\"Union{Missing, Float32}\">Float32?</th></tr></thead><tbody><tr><th>1</th><td>MAI óptima de absme 2018</td><td>0.53724</td><td>0.726673</td><td>0.578433</td></tr><tr><th>2</th><td>Inflación de exclusión dinámica (1.03, 3.42)</td><td>0.0124561</td><td>0.703433</td><td>0.073931</td></tr><tr><th>3</th><td>Exclusión fija de gastos básicos IPC (9, 6)</td><td>0.0520592</td><td>0.194493</td><td>0.0983887</td></tr><tr><th>4</th><td>Media Truncada Equiponderada (35.29, 93.4)</td><td>0.19482</td><td>0.914</td><td>0.276333</td></tr><tr><th>5</th><td>Media Truncada Ponderada (34.19, 93.0)</td><td>0.379987</td><td>0.742717</td><td>0.176912</td></tr><tr><th>6</th><td>Percentil equiponderado 71.63</td><td>0.228566</td><td>1.14234</td><td>0.0191079</td></tr><tr><th>7</th><td>Percentil ponderado 69.56</td><td>0.0582796</td><td>1.1553</td><td>0.484528</td></tr></tbody></table></div>"
      ],
      "text/latex": [
       "\\begin{tabular}{r|ccccc}\n",
       "\t& measure & gt\\_b00\\_absme & gt\\_t0010\\_absme & gt\\_b10\\_absme & \\\\\n",
       "\t\\hline\n",
       "\t& String? & Float32? & Float32? & Float32? & \\\\\n",
       "\t\\hline\n",
       "\t1 & MAI óptima de absme 2018 & 0.53724 & 0.726673 & 0.578433 & $\\dots$ \\\\\n",
       "\t2 & Inflación de exclusión dinámica (1.03, 3.42) & 0.0124561 & 0.703433 & 0.073931 & $\\dots$ \\\\\n",
       "\t3 & Exclusión fija de gastos básicos IPC (9, 6) & 0.0520592 & 0.194493 & 0.0983887 & $\\dots$ \\\\\n",
       "\t4 & Media Truncada Equiponderada (35.29, 93.4) & 0.19482 & 0.914 & 0.276333 & $\\dots$ \\\\\n",
       "\t5 & Media Truncada Ponderada (34.19, 93.0) & 0.379987 & 0.742717 & 0.176912 & $\\dots$ \\\\\n",
       "\t6 & Percentil equiponderado 71.63 & 0.228566 & 1.14234 & 0.0191079 & $\\dots$ \\\\\n",
       "\t7 & Percentil ponderado 69.56 & 0.0582796 & 1.1553 & 0.484528 & $\\dots$ \\\\\n",
       "\\end{tabular}\n"
      ],
      "text/plain": [
       "\u001b[1m7×5 DataFrame\u001b[0m\n",
       "\u001b[1m Row \u001b[0m│\u001b[1m measure                           \u001b[0m\u001b[1m gt_b00_absme \u001b[0m\u001b[1m gt_t0010_absme \u001b[0m\u001b[1m gt_b10\u001b[0m ⋯\n",
       "\u001b[1m     \u001b[0m│\u001b[90m String?                           \u001b[0m\u001b[90m Float32?     \u001b[0m\u001b[90m Float32?       \u001b[0m\u001b[90m Float3\u001b[0m ⋯\n",
       "─────┼──────────────────────────────────────────────────────────────────────────\n",
       "   1 │ MAI óptima de absme 2018              0.53724          0.726673     0.5 ⋯\n",
       "   2 │ Inflación de exclusión dinámica …     0.0124561        0.703433     0.0\n",
       "   3 │ Exclusión fija de gastos básicos…     0.0520592        0.194493     0.0\n",
       "   4 │ Media Truncada Equiponderada (35…     0.19482          0.914        0.2\n",
       "   5 │ Media Truncada Ponderada (34.19,…     0.379987         0.742717     0.1 ⋯\n",
       "   6 │ Percentil equiponderado 71.63         0.228566         1.14234      0.0\n",
       "   7 │ Percentil ponderado 69.56             0.0582796        1.1553       0.4\n",
       "\u001b[36m                                                               2 columns omitted\u001b[0m"
      ]
     },
     "metadata": {},
     "output_type": "display_data"
    }
   ],
   "source": [
    "select(df_results, :measure, r\"absme\")"
   ]
  },
  {
   "cell_type": "code",
   "execution_count": 25,
   "metadata": {},
   "outputs": [
    {
     "data": {
      "text/html": [
       "<div class=\"data-frame\"><p>7 rows × 2 columns</p><table class=\"data-frame\"><thead><tr><th></th><th>measure</th><th>absme</th></tr><tr><th></th><th title=\"Union{Missing, String}\">String?</th><th title=\"Union{Missing, Float32}\">Float32?</th></tr></thead><tbody><tr><th>1</th><td>MAI óptima de absme 2018</td><td>0.0545127</td></tr><tr><th>2</th><td>Inflación de exclusión dinámica (1.03, 3.42)</td><td>0.0630504</td></tr><tr><th>3</th><td>Exclusión fija de gastos básicos IPC (9, 6)</td><td>0.0622681</td></tr><tr><th>4</th><td>Media Truncada Equiponderada (35.29, 93.4)</td><td>0.00510523</td></tr><tr><th>5</th><td>Media Truncada Ponderada (34.19, 93.0)</td><td>0.0609842</td></tr><tr><th>6</th><td>Percentil equiponderado 71.63</td><td>0.172761</td></tr><tr><th>7</th><td>Percentil ponderado 69.56</td><td>0.258382</td></tr></tbody></table></div>"
      ],
      "text/latex": [
       "\\begin{tabular}{r|cc}\n",
       "\t& measure & absme\\\\\n",
       "\t\\hline\n",
       "\t& String? & Float32?\\\\\n",
       "\t\\hline\n",
       "\t1 & MAI óptima de absme 2018 & 0.0545127 \\\\\n",
       "\t2 & Inflación de exclusión dinámica (1.03, 3.42) & 0.0630504 \\\\\n",
       "\t3 & Exclusión fija de gastos básicos IPC (9, 6) & 0.0622681 \\\\\n",
       "\t4 & Media Truncada Equiponderada (35.29, 93.4) & 0.00510523 \\\\\n",
       "\t5 & Media Truncada Ponderada (34.19, 93.0) & 0.0609842 \\\\\n",
       "\t6 & Percentil equiponderado 71.63 & 0.172761 \\\\\n",
       "\t7 & Percentil ponderado 69.56 & 0.258382 \\\\\n",
       "\\end{tabular}\n"
      ],
      "text/plain": [
       "\u001b[1m7×2 DataFrame\u001b[0m\n",
       "\u001b[1m Row \u001b[0m│\u001b[1m measure                           \u001b[0m\u001b[1m absme      \u001b[0m\n",
       "\u001b[1m     \u001b[0m│\u001b[90m String?                           \u001b[0m\u001b[90m Float32?   \u001b[0m\n",
       "─────┼───────────────────────────────────────────────\n",
       "   1 │ MAI óptima de absme 2018           0.0545127\n",
       "   2 │ Inflación de exclusión dinámica …  0.0630504\n",
       "   3 │ Exclusión fija de gastos básicos…  0.0622681\n",
       "   4 │ Media Truncada Equiponderada (35…  0.00510523\n",
       "   5 │ Media Truncada Ponderada (34.19,…  0.0609842\n",
       "   6 │ Percentil equiponderado 71.63      0.172761\n",
       "   7 │ Percentil ponderado 69.56          0.258382"
      ]
     },
     "metadata": {},
     "output_type": "display_data"
    }
   ],
   "source": [
    "select(df_results, :measure, :absme)"
   ]
  },
  {
   "cell_type": "markdown",
   "metadata": {},
   "source": [
    "### Métricas de la combinación óptima CORR"
   ]
  },
  {
   "cell_type": "code",
   "execution_count": 26,
   "metadata": {},
   "outputs": [
    {
     "data": {
      "text/html": [
       "<div class=\"data-frame\"><p>7 rows × 2 columns</p><table class=\"data-frame\"><thead><tr><th></th><th>measure</th><th>weights</th></tr><tr><th></th><th title=\"String\">String</th><th title=\"Float32\">Float32</th></tr></thead><tbody><tr><th>1</th><td>Media Truncada Equiponderada (35.29, 93.4)</td><td>0.407029</td></tr><tr><th>2</th><td>MAI óptima de absme 2018</td><td>0.0598154</td></tr><tr><th>3</th><td>Media Truncada Ponderada (34.19, 93.0)</td><td>0.133195</td></tr><tr><th>4</th><td>Inflación de exclusión dinámica (1.03, 3.42)</td><td>0.152838</td></tr><tr><th>5</th><td>Percentil equiponderado 71.63</td><td>0.164859</td></tr><tr><th>6</th><td>Percentil ponderado 69.56</td><td>0.0822618</td></tr><tr><th>7</th><td>Exclusión fija de gastos básicos IPC (9, 6)</td><td>0.0</td></tr></tbody></table></div>"
      ],
      "text/latex": [
       "\\begin{tabular}{r|cc}\n",
       "\t& measure & weights\\\\\n",
       "\t\\hline\n",
       "\t& String & Float32\\\\\n",
       "\t\\hline\n",
       "\t1 & Media Truncada Equiponderada (35.29, 93.4) & 0.407029 \\\\\n",
       "\t2 & MAI óptima de absme 2018 & 0.0598154 \\\\\n",
       "\t3 & Media Truncada Ponderada (34.19, 93.0) & 0.133195 \\\\\n",
       "\t4 & Inflación de exclusión dinámica (1.03, 3.42) & 0.152838 \\\\\n",
       "\t5 & Percentil equiponderado 71.63 & 0.164859 \\\\\n",
       "\t6 & Percentil ponderado 69.56 & 0.0822618 \\\\\n",
       "\t7 & Exclusión fija de gastos básicos IPC (9, 6) & 0.0 \\\\\n",
       "\\end{tabular}\n"
      ],
      "text/plain": [
       "\u001b[1m7×2 DataFrame\u001b[0m\n",
       "\u001b[1m Row \u001b[0m│\u001b[1m measure                           \u001b[0m\u001b[1m weights   \u001b[0m\n",
       "\u001b[1m     \u001b[0m│\u001b[90m String                            \u001b[0m\u001b[90m Float32   \u001b[0m\n",
       "─────┼──────────────────────────────────────────────\n",
       "   1 │ Media Truncada Equiponderada (35…  0.407029\n",
       "   2 │ MAI óptima de absme 2018           0.0598154\n",
       "   3 │ Media Truncada Ponderada (34.19,…  0.133195\n",
       "   4 │ Inflación de exclusión dinámica …  0.152838\n",
       "   5 │ Percentil equiponderado 71.63      0.164859\n",
       "   6 │ Percentil ponderado 69.56          0.0822618\n",
       "   7 │ Exclusión fija de gastos básicos…  0.0"
      ]
     },
     "metadata": {},
     "output_type": "display_data"
    }
   ],
   "source": [
    "optabsme2022 = wload(datadir(config_savepath, \"optabsme2022\", \"optabsme2022.jld2\"), \"optabsme2022\")\n",
    "components_df = components(optabsme2022)"
   ]
  },
  {
   "cell_type": "code",
   "execution_count": 27,
   "metadata": {},
   "outputs": [],
   "source": [
    "# DataFrame de combinación \n",
    "combine_df = @chain df_results begin \n",
    "    select(:measure, :absme, :me, :inflfn, \n",
    "        :path => ByRow(p -> joinpath(tray_dir, basename(p))) => :tray_path)\n",
    "    sort(:absme)\n",
    "end\n",
    "combine_df = leftjoin(combine_df, components_df, on = :measure)\n",
    "combine_df\n",
    "\n",
    "## Obtener las trayectorias de los archivos guardados en el directorio tray_infl \n",
    "# Genera un arreglo de 3 dimensiones de trayectorias (T, n, K)\n",
    "tray_infl = mapreduce(hcat, combine_df.tray_path) do path\n",
    "    load(path, \"tray_infl\")\n",
    "end\n",
    "\n",
    "functions = combine_df.inflfn\n",
    "components_mask = [!(fn isa InflationFixedExclusionCPI) for fn in functions];"
   ]
  },
  {
   "cell_type": "code",
   "execution_count": 28,
   "metadata": {},
   "outputs": [],
   "source": [
    "# Obtener el parámetro\n",
    "resamplefn = df_results[1, :resamplefn]\n",
    "trendfn = df_results[1, :trendfn]\n",
    "paramfn = df_results[1, :paramfn]\n",
    "param = InflationParameter(paramfn, resamplefn, trendfn)\n",
    "tray_infl_pob = param(gtdata_eval);"
   ]
  },
  {
   "cell_type": "code",
   "execution_count": 29,
   "metadata": {},
   "outputs": [],
   "source": [
    "# Pesos de la combinación óptima\n",
    "absme_weights = combine_df.weights\n",
    "\n",
    "EVAL_PERIODS = [GT_EVAL_B00, GT_EVAL_T0010, GT_EVAL_B10, CompletePeriod()]\n",
    "\n",
    "comb_metrics = mapreduce(merge, EVAL_PERIODS) do period\n",
    "    # Ventana de evaluación\n",
    "    eval_window = eval_periods(gtdata_eval, period)\n",
    "    # Trayectorias combinadas\n",
    "    tray_infl_opt = sum(tray_infl[eval_window, :, :] .* absme_weights', dims=2)\n",
    "    metrics = eval_metrics(tray_infl_opt, tray_infl_pob[eval_window], prefix = period_tag(period))\n",
    "end;\n"
   ]
  },
  {
   "cell_type": "code",
   "execution_count": 30,
   "metadata": {},
   "outputs": [
    {
     "data": {
      "text/html": [
       "<div class=\"data-frame\"><p>1 rows × 5 columns</p><table class=\"data-frame\"><thead><tr><th></th><th>measure</th><th>absme</th><th>gt_b00_absme</th><th>gt_b10_absme</th><th>gt_t0010_absme</th></tr><tr><th></th><th title=\"String\">String</th><th title=\"Float32\">Float32</th><th title=\"Float32\">Float32</th><th title=\"Float32\">Float32</th><th title=\"Float32\">Float32</th></tr></thead><tbody><tr><th>1</th><td>Subyacente óptima ABSME 2022</td><td>0.0565886</td><td>0.0275331</td><td>4.93534e-6</td><td>0.905293</td></tr></tbody></table></div>"
      ],
      "text/latex": [
       "\\begin{tabular}{r|ccccc}\n",
       "\t& measure & absme & gt\\_b00\\_absme & gt\\_b10\\_absme & gt\\_t0010\\_absme\\\\\n",
       "\t\\hline\n",
       "\t& String & Float32 & Float32 & Float32 & Float32\\\\\n",
       "\t\\hline\n",
       "\t1 & Subyacente óptima ABSME 2022 & 0.0565886 & 0.0275331 & 4.93534e-6 & 0.905293 \\\\\n",
       "\\end{tabular}\n"
      ],
      "text/plain": [
       "\u001b[1m1×5 DataFrame\u001b[0m\n",
       "\u001b[1m Row \u001b[0m│\u001b[1m measure                      \u001b[0m\u001b[1m absme     \u001b[0m\u001b[1m gt_b00_absme \u001b[0m\u001b[1m gt_b10_absme \u001b[0m\u001b[1m gt\u001b[0m ⋯\n",
       "\u001b[1m     \u001b[0m│\u001b[90m String                       \u001b[0m\u001b[90m Float32   \u001b[0m\u001b[90m Float32      \u001b[0m\u001b[90m Float32      \u001b[0m\u001b[90m Fl\u001b[0m ⋯\n",
       "─────┼──────────────────────────────────────────────────────────────────────────\n",
       "   1 │ Subyacente óptima ABSME 2022  0.0565886     0.0275331    4.93534e-6     ⋯\n",
       "\u001b[36m                                                                1 column omitted\u001b[0m"
      ]
     },
     "metadata": {},
     "output_type": "display_data"
    }
   ],
   "source": [
    "# Obtener un DataFrame de métricas de la combinación lineal ABMSE\n",
    "comb_metrics_df = DataFrame(comb_metrics)\n",
    "comb_metrics_df[!, :measure] .= measure_name(optabsme2022)\n",
    "select(comb_metrics_df, :measure, r\"absme\")"
   ]
  },
  {
   "cell_type": "code",
   "execution_count": 31,
   "metadata": {},
   "outputs": [
    {
     "data": {
      "text/html": [
       "<div class=\"data-frame\"><p>8 rows × 5 columns (omitted printing of 1 columns)</p><table class=\"data-frame\"><thead><tr><th></th><th>measure</th><th>gt_b00_absme</th><th>gt_t0010_absme</th><th>gt_b10_absme</th></tr><tr><th></th><th title=\"Union{Missing, String}\">String?</th><th title=\"Union{Missing, Float32}\">Float32?</th><th title=\"Union{Missing, Float32}\">Float32?</th><th title=\"Union{Missing, Float32}\">Float32?</th></tr></thead><tbody><tr><th>1</th><td>MAI óptima de absme 2018</td><td>0.53724</td><td>0.726673</td><td>0.578433</td></tr><tr><th>2</th><td>Inflación de exclusión dinámica (1.03, 3.42)</td><td>0.0124561</td><td>0.703433</td><td>0.073931</td></tr><tr><th>3</th><td>Exclusión fija de gastos básicos IPC (9, 6)</td><td>0.0520592</td><td>0.194493</td><td>0.0983887</td></tr><tr><th>4</th><td>Media Truncada Equiponderada (35.29, 93.4)</td><td>0.19482</td><td>0.914</td><td>0.276333</td></tr><tr><th>5</th><td>Media Truncada Ponderada (34.19, 93.0)</td><td>0.379987</td><td>0.742717</td><td>0.176912</td></tr><tr><th>6</th><td>Percentil equiponderado 71.63</td><td>0.228566</td><td>1.14234</td><td>0.0191079</td></tr><tr><th>7</th><td>Percentil ponderado 69.56</td><td>0.0582796</td><td>1.1553</td><td>0.484528</td></tr><tr><th>8</th><td>Subyacente óptima ABSME 2022</td><td>0.0275331</td><td>0.905293</td><td>4.93534e-6</td></tr></tbody></table></div>"
      ],
      "text/latex": [
       "\\begin{tabular}{r|ccccc}\n",
       "\t& measure & gt\\_b00\\_absme & gt\\_t0010\\_absme & gt\\_b10\\_absme & \\\\\n",
       "\t\\hline\n",
       "\t& String? & Float32? & Float32? & Float32? & \\\\\n",
       "\t\\hline\n",
       "\t1 & MAI óptima de absme 2018 & 0.53724 & 0.726673 & 0.578433 & $\\dots$ \\\\\n",
       "\t2 & Inflación de exclusión dinámica (1.03, 3.42) & 0.0124561 & 0.703433 & 0.073931 & $\\dots$ \\\\\n",
       "\t3 & Exclusión fija de gastos básicos IPC (9, 6) & 0.0520592 & 0.194493 & 0.0983887 & $\\dots$ \\\\\n",
       "\t4 & Media Truncada Equiponderada (35.29, 93.4) & 0.19482 & 0.914 & 0.276333 & $\\dots$ \\\\\n",
       "\t5 & Media Truncada Ponderada (34.19, 93.0) & 0.379987 & 0.742717 & 0.176912 & $\\dots$ \\\\\n",
       "\t6 & Percentil equiponderado 71.63 & 0.228566 & 1.14234 & 0.0191079 & $\\dots$ \\\\\n",
       "\t7 & Percentil ponderado 69.56 & 0.0582796 & 1.1553 & 0.484528 & $\\dots$ \\\\\n",
       "\t8 & Subyacente óptima ABSME 2022 & 0.0275331 & 0.905293 & 4.93534e-6 & $\\dots$ \\\\\n",
       "\\end{tabular}\n"
      ],
      "text/plain": [
       "\u001b[1m8×5 DataFrame\u001b[0m\n",
       "\u001b[1m Row \u001b[0m│\u001b[1m measure                           \u001b[0m\u001b[1m gt_b00_absme \u001b[0m\u001b[1m gt_t0010_absme \u001b[0m\u001b[1m gt_b10\u001b[0m ⋯\n",
       "\u001b[1m     \u001b[0m│\u001b[90m String?                           \u001b[0m\u001b[90m Float32?     \u001b[0m\u001b[90m Float32?       \u001b[0m\u001b[90m Float3\u001b[0m ⋯\n",
       "─────┼──────────────────────────────────────────────────────────────────────────\n",
       "   1 │ MAI óptima de absme 2018              0.53724          0.726673    0.57 ⋯\n",
       "   2 │ Inflación de exclusión dinámica …     0.0124561        0.703433    0.07\n",
       "   3 │ Exclusión fija de gastos básicos…     0.0520592        0.194493    0.09\n",
       "   4 │ Media Truncada Equiponderada (35…     0.19482          0.914       0.27\n",
       "   5 │ Media Truncada Ponderada (34.19,…     0.379987         0.742717    0.17 ⋯\n",
       "   6 │ Percentil equiponderado 71.63         0.228566         1.14234     0.01\n",
       "   7 │ Percentil ponderado 69.56             0.0582796        1.1553      0.48\n",
       "   8 │ Subyacente óptima ABSME 2022          0.0275331        0.905293    4.93\n",
       "\u001b[36m                                                               2 columns omitted\u001b[0m"
      ]
     },
     "metadata": {},
     "output_type": "display_data"
    }
   ],
   "source": [
    "historic_df = [\n",
    "    select(df_results, :measure, r\"absme\");\n",
    "    select(comb_metrics_df, :measure, r\"absme\")\n",
    "]"
   ]
  },
  {
   "cell_type": "markdown",
   "metadata": {},
   "source": [
    "## Métricas en período de optimización (Dic-2001 - Dic-2018)"
   ]
  },
  {
   "cell_type": "code",
   "execution_count": 32,
   "metadata": {},
   "outputs": [
    {
     "name": "stderr",
     "output_type": "stream",
     "text": [
      "┌ Info: Scanning folder c:\\Users\\RRCP\\Documents\\HEMI\\HEMI\\data\\results\\absme-combination\\Esc-G18 for result files.\n",
      "└ @ DrWatson C:\\Users\\RRCP\\.julia\\packages\\DrWatson\\VwP8P\\src\\result_collection.jl:88\n"
     ]
    },
    {
     "name": "stderr",
     "output_type": "stream",
     "text": [
      "┌ Info: Added 7 entries.\n",
      "└ @ DrWatson C:\\Users\\RRCP\\.julia\\packages\\DrWatson\\VwP8P\\src\\result_collection.jl:118\n"
     ]
    },
    {
     "data": {
      "text/html": [
       "<div class=\"data-frame\"><p>7 rows × 66 columns (omitted printing of 63 columns)</p><table class=\"data-frame\"><thead><tr><th></th><th>gt_b00_mse_bias</th><th>traindate</th><th>inflfn</th></tr><tr><th></th><th title=\"Union{Missing, Float32}\">Float32?</th><th title=\"Union{Missing, Date}\">Date?</th><th title=\"Union{Missing, InflationFunction}\">Inflati…?</th></tr></thead><tbody><tr><th>1</th><td>0.230244</td><td>2018-12-01</td><td>CombinationFunction{3, Vector{Float32}}(EnsembleFunction{3}((InflationCoreMai{Float32, Float64, MaiFP{Vector{Float64}}}(-200.0f0:0.01f0:200.0f0, MaiFP{Vector{Float64}}(5, [0.0, 0.27659, 0.515634, 0.705296, 0.844231, 1.0])), InflationCoreMai{Float32, Float64, MaiG{Vector{Float64}}}(-200.0f0:0.01f0:200.0f0, MaiG{Vector{Float64}}(5, [0.0, 0.314251, 0.448574, 0.71937, 0.830707, 1.0])), InflationCoreMai{Float32, Float64, MaiF{Vector{Float64}}}(-200.0f0:0.01f0:200.0f0, MaiF{Vector{Float64}}(10, [0.0, 0.200736, 0.227323, 0.342667, 0.420023, 0.522214, 0.613693, 0.687521, 0.746755, 0.857262, 1.0])))), Float32[0.58963, 0.379532, 0.0309246], &quot;MAI óptima de absme 2018&quot;)</td></tr><tr><th>2</th><td>0.0297035</td><td>2018-12-01</td><td>InflationDynamicExclusion(1.03194, 3.42365)</td></tr><tr><th>3</th><td>0.119365</td><td>2018-12-01</td><td>InflationFixedExclusionCPI{2}(([35, 30, 190, 36, 37, 40, 31, 104, 162], [29, 116, 31, 46, 39, 40]))</td></tr><tr><th>4</th><td>0.0457432</td><td>2018-12-01</td><td>InflationTrimmedMeanEq(35.2881, 93.4009)</td></tr><tr><th>5</th><td>0.168776</td><td>2018-12-01</td><td>InflationTrimmedMeanWeighted(34.1943, 93.0)</td></tr><tr><th>6</th><td>0.0616134</td><td>2018-12-01</td><td>InflationPercentileEq(0.716344)</td></tr><tr><th>7</th><td>0.0341601</td><td>2018-12-01</td><td>InflationPercentileWeighted(0.695585)</td></tr></tbody></table></div>"
      ],
      "text/latex": [
       "\\begin{tabular}{r|cccc}\n",
       "\t& gt\\_b00\\_mse\\_bias & traindate & inflfn & \\\\\n",
       "\t\\hline\n",
       "\t& Float32? & Date? & Inflati…? & \\\\\n",
       "\t\\hline\n",
       "\t1 & 0.230244 & 2018-12-01 & CombinationFunction\\{3, Vector\\{Float32\\}\\}(EnsembleFunction\\{3\\}((InflationCoreMai\\{Float32, Float64, MaiFP\\{Vector\\{Float64\\}\\}\\}(-200.0f0:0.01f0:200.0f0, MaiFP\\{Vector\\{Float64\\}\\}(5, [0.0, 0.27659, 0.515634, 0.705296, 0.844231, 1.0])), InflationCoreMai\\{Float32, Float64, MaiG\\{Vector\\{Float64\\}\\}\\}(-200.0f0:0.01f0:200.0f0, MaiG\\{Vector\\{Float64\\}\\}(5, [0.0, 0.314251, 0.448574, 0.71937, 0.830707, 1.0])), InflationCoreMai\\{Float32, Float64, MaiF\\{Vector\\{Float64\\}\\}\\}(-200.0f0:0.01f0:200.0f0, MaiF\\{Vector\\{Float64\\}\\}(10, [0.0, 0.200736, 0.227323, 0.342667, 0.420023, 0.522214, 0.613693, 0.687521, 0.746755, 0.857262, 1.0])))), Float32[0.58963, 0.379532, 0.0309246], \"MAI óptima de absme 2018\") & $\\dots$ \\\\\n",
       "\t2 & 0.0297035 & 2018-12-01 & InflationDynamicExclusion(1.03194, 3.42365) & $\\dots$ \\\\\n",
       "\t3 & 0.119365 & 2018-12-01 & InflationFixedExclusionCPI\\{2\\}(([35, 30, 190, 36, 37, 40, 31, 104, 162], [29, 116, 31, 46, 39, 40])) & $\\dots$ \\\\\n",
       "\t4 & 0.0457432 & 2018-12-01 & InflationTrimmedMeanEq(35.2881, 93.4009) & $\\dots$ \\\\\n",
       "\t5 & 0.168776 & 2018-12-01 & InflationTrimmedMeanWeighted(34.1943, 93.0) & $\\dots$ \\\\\n",
       "\t6 & 0.0616134 & 2018-12-01 & InflationPercentileEq(0.716344) & $\\dots$ \\\\\n",
       "\t7 & 0.0341601 & 2018-12-01 & InflationPercentileWeighted(0.695585) & $\\dots$ \\\\\n",
       "\\end{tabular}\n"
      ],
      "text/plain": [
       "\u001b[1m7×66 DataFrame\u001b[0m\n",
       "\u001b[1m Row \u001b[0m│\u001b[1m gt_b00_mse_bias \u001b[0m\u001b[1m traindate  \u001b[0m\u001b[1m inflfn                            \u001b[0m\n",
       "\u001b[1m     \u001b[0m│\u001b[90m Float32?        \u001b[0m\u001b[90m Date?      \u001b[0m\u001b[90m Inflatio…?                        \u001b[0m\n",
       "─────┼──────────────────────────────────────────────────────────────────────────\n",
       "   1 │       0.230244   2018-12-01  CombinationFunction{3, Vector{Fl…\n",
       "   2 │       0.0297035  2018-12-01  InflationDynamicExclusion(1.0319…\n",
       "   3 │       0.119365   2018-12-01  InflationFixedExclusionCPI{2}(([…\n",
       "   4 │       0.0457432  2018-12-01  InflationTrimmedMeanEq(35.2881, …\n",
       "   5 │       0.168776   2018-12-01  InflationTrimmedMeanWeighted(34.…\n",
       "   6 │       0.0616134  2018-12-01  InflationPercentileEq(0.716344)\n",
       "   7 │       0.0341601  2018-12-01  InflationPercentileWeighted(0.69…\n",
       "\u001b[36m                                                              63 columns omitted\u001b[0m"
      ]
     },
     "metadata": {},
     "output_type": "display_data"
    }
   ],
   "source": [
    "## Directorios de resultados \n",
    "config_savepath = datadir(\"results\", \"absme-combination\", \"Esc-G18\")\n",
    "tray_dir = datadir(config_savepath, \"tray_infl\")\n",
    "\n",
    "# CountryStructure con datos hasta período de evaluación \n",
    "gtdata_eval = gtdata[Date(2018, 12)]\n",
    "\n",
    "# DataFrame con resultados de evaluación hasta dic-18\n",
    "df_results = collect_results(config_savepath)\n",
    "df_results"
   ]
  },
  {
   "cell_type": "code",
   "execution_count": 33,
   "metadata": {},
   "outputs": [
    {
     "data": {
      "text/html": [
       "<div class=\"data-frame\"><p>7 rows × 2 columns</p><table class=\"data-frame\"><thead><tr><th></th><th>measure</th><th>absme</th></tr><tr><th></th><th title=\"Union{Missing, String}\">String?</th><th title=\"Union{Missing, Float32}\">Float32?</th></tr></thead><tbody><tr><th>1</th><td>MAI óptima de absme 2018</td><td>3.56707e-7</td></tr><tr><th>2</th><td>Inflación de exclusión dinámica (1.03, 3.42)</td><td>0.000845995</td></tr><tr><th>3</th><td>Exclusión fija de gastos básicos IPC (9, 6)</td><td>0.00255378</td></tr><tr><th>4</th><td>Media Truncada Equiponderada (35.29, 93.4)</td><td>0.000175531</td></tr><tr><th>5</th><td>Media Truncada Ponderada (34.19, 93.0)</td><td>0.127516</td></tr><tr><th>6</th><td>Percentil equiponderado 71.63</td><td>0.150155</td></tr><tr><th>7</th><td>Percentil ponderado 69.56</td><td>0.184207</td></tr></tbody></table></div>"
      ],
      "text/latex": [
       "\\begin{tabular}{r|cc}\n",
       "\t& measure & absme\\\\\n",
       "\t\\hline\n",
       "\t& String? & Float32?\\\\\n",
       "\t\\hline\n",
       "\t1 & MAI óptima de absme 2018 & 3.56707e-7 \\\\\n",
       "\t2 & Inflación de exclusión dinámica (1.03, 3.42) & 0.000845995 \\\\\n",
       "\t3 & Exclusión fija de gastos básicos IPC (9, 6) & 0.00255378 \\\\\n",
       "\t4 & Media Truncada Equiponderada (35.29, 93.4) & 0.000175531 \\\\\n",
       "\t5 & Media Truncada Ponderada (34.19, 93.0) & 0.127516 \\\\\n",
       "\t6 & Percentil equiponderado 71.63 & 0.150155 \\\\\n",
       "\t7 & Percentil ponderado 69.56 & 0.184207 \\\\\n",
       "\\end{tabular}\n"
      ],
      "text/plain": [
       "\u001b[1m7×2 DataFrame\u001b[0m\n",
       "\u001b[1m Row \u001b[0m│\u001b[1m measure                           \u001b[0m\u001b[1m absme       \u001b[0m\n",
       "\u001b[1m     \u001b[0m│\u001b[90m String?                           \u001b[0m\u001b[90m Float32?    \u001b[0m\n",
       "─────┼────────────────────────────────────────────────\n",
       "   1 │ MAI óptima de absme 2018           3.56707e-7\n",
       "   2 │ Inflación de exclusión dinámica …  0.000845995\n",
       "   3 │ Exclusión fija de gastos básicos…  0.00255378\n",
       "   4 │ Media Truncada Equiponderada (35…  0.000175531\n",
       "   5 │ Media Truncada Ponderada (34.19,…  0.127516\n",
       "   6 │ Percentil equiponderado 71.63      0.150155\n",
       "   7 │ Percentil ponderado 69.56          0.184207"
      ]
     },
     "metadata": {},
     "output_type": "display_data"
    }
   ],
   "source": [
    "# Se utiliza solamente :corr porque se desea únicament el período completo de\n",
    "# estos datos (hasta dic-18) para obtener las métricas de optimización\n",
    "select(df_results, :measure, :absme)"
   ]
  },
  {
   "cell_type": "markdown",
   "metadata": {},
   "source": [
    "### Métricas de la combinación óptima CORR en período de optimización"
   ]
  },
  {
   "cell_type": "code",
   "execution_count": 34,
   "metadata": {},
   "outputs": [],
   "source": [
    "# DataFrame de combinación \n",
    "combine_df = @chain df_results begin \n",
    "    select(:measure, :absme, :me, :inflfn, \n",
    "        :path => ByRow(p -> joinpath(tray_dir, basename(p))) => :tray_path)\n",
    "    sort(:absme)\n",
    "end\n",
    "combine_df = leftjoin(combine_df, components_df, on = :measure)\n",
    "combine_df\n",
    "\n",
    "## Obtener las trayectorias de los archivos guardados en el directorio tray_infl \n",
    "# Genera un arreglo de 3 dimensiones de trayectorias (T, n, K)\n",
    "tray_infl = mapreduce(hcat, combine_df.tray_path) do path\n",
    "    load(path, \"tray_infl\")\n",
    "end\n",
    "\n",
    "functions = combine_df.inflfn\n",
    "components_mask = [!(fn isa InflationFixedExclusionCPI) for fn in functions];"
   ]
  },
  {
   "cell_type": "code",
   "execution_count": 35,
   "metadata": {},
   "outputs": [],
   "source": [
    "# Obtener el parámetro\n",
    "resamplefn = df_results[1, :resamplefn]\n",
    "trendfn = df_results[1, :trendfn]\n",
    "paramfn = df_results[1, :paramfn]\n",
    "param = InflationParameter(paramfn, resamplefn, trendfn)\n",
    "tray_infl_pob = param(gtdata_eval);"
   ]
  },
  {
   "cell_type": "code",
   "execution_count": 38,
   "metadata": {},
   "outputs": [
    {
     "data": {
      "text/html": [
       "<div class=\"data-frame\"><p>1 rows × 2 columns</p><table class=\"data-frame\"><thead><tr><th></th><th>measure</th><th>opt18_absme</th></tr><tr><th></th><th title=\"String\">String</th><th title=\"Float32\">Float32</th></tr></thead><tbody><tr><th>1</th><td>Subyacente óptima ABSME 2022</td><td>0.0231238</td></tr></tbody></table></div>"
      ],
      "text/latex": [
       "\\begin{tabular}{r|cc}\n",
       "\t& measure & opt18\\_absme\\\\\n",
       "\t\\hline\n",
       "\t& String & Float32\\\\\n",
       "\t\\hline\n",
       "\t1 & Subyacente óptima ABSME 2022 & 0.0231238 \\\\\n",
       "\\end{tabular}\n"
      ],
      "text/plain": [
       "\u001b[1m1×2 DataFrame\u001b[0m\n",
       "\u001b[1m Row \u001b[0m│\u001b[1m measure                      \u001b[0m\u001b[1m opt18_absme \u001b[0m\n",
       "\u001b[1m     \u001b[0m│\u001b[90m String                       \u001b[0m\u001b[90m Float32     \u001b[0m\n",
       "─────┼───────────────────────────────────────────\n",
       "   1 │ Subyacente óptima ABSME 2022    0.0231238"
      ]
     },
     "metadata": {},
     "output_type": "display_data"
    }
   ],
   "source": [
    "# Pesos de la combinación óptima\n",
    "absme_weights = combine_df.weights\n",
    "\n",
    "EVAL_PERIODS = [EvalPeriod(Date(2001, 12), Date(2018, 12), \"opt18\")]\n",
    "\n",
    "comb_metrics = mapreduce(merge, EVAL_PERIODS) do period\n",
    "    # Ventana de evaluación\n",
    "    eval_window = eval_periods(gtdata_eval, period)\n",
    "    # Trayectorias combinadas\n",
    "    tray_infl_opt = sum(tray_infl[eval_window, :, :] .* absme_weights', dims=2)\n",
    "    metrics = eval_metrics(tray_infl_opt, tray_infl_pob[eval_window], prefix = period_tag(period))\n",
    "end\n",
    "\n",
    "# Obtener un DataFrame de métricas de la combinación lineal ABSME\n",
    "comb_metrics_df = DataFrame(comb_metrics)\n",
    "comb_metrics_df[!, :measure] .= measure_name(optabsme2022)\n",
    "select(comb_metrics_df, :measure, r\"absme\")"
   ]
  },
  {
   "cell_type": "code",
   "execution_count": 39,
   "metadata": {},
   "outputs": [
    {
     "data": {
      "text/html": [
       "<div class=\"data-frame\"><p>8 rows × 2 columns</p><table class=\"data-frame\"><thead><tr><th></th><th>measure</th><th>opt18_absme</th></tr><tr><th></th><th title=\"Union{Missing, String}\">String?</th><th title=\"Union{Missing, Float32}\">Float32?</th></tr></thead><tbody><tr><th>1</th><td>MAI óptima de absme 2018</td><td>3.56707e-7</td></tr><tr><th>2</th><td>Inflación de exclusión dinámica (1.03, 3.42)</td><td>0.000845995</td></tr><tr><th>3</th><td>Exclusión fija de gastos básicos IPC (9, 6)</td><td>0.00255378</td></tr><tr><th>4</th><td>Media Truncada Equiponderada (35.29, 93.4)</td><td>0.000175531</td></tr><tr><th>5</th><td>Media Truncada Ponderada (34.19, 93.0)</td><td>0.127516</td></tr><tr><th>6</th><td>Percentil equiponderado 71.63</td><td>0.150155</td></tr><tr><th>7</th><td>Percentil ponderado 69.56</td><td>0.184207</td></tr><tr><th>8</th><td>Subyacente óptima ABSME 2022</td><td>0.0231238</td></tr></tbody></table></div>"
      ],
      "text/latex": [
       "\\begin{tabular}{r|cc}\n",
       "\t& measure & opt18\\_absme\\\\\n",
       "\t\\hline\n",
       "\t& String? & Float32?\\\\\n",
       "\t\\hline\n",
       "\t1 & MAI óptima de absme 2018 & 3.56707e-7 \\\\\n",
       "\t2 & Inflación de exclusión dinámica (1.03, 3.42) & 0.000845995 \\\\\n",
       "\t3 & Exclusión fija de gastos básicos IPC (9, 6) & 0.00255378 \\\\\n",
       "\t4 & Media Truncada Equiponderada (35.29, 93.4) & 0.000175531 \\\\\n",
       "\t5 & Media Truncada Ponderada (34.19, 93.0) & 0.127516 \\\\\n",
       "\t6 & Percentil equiponderado 71.63 & 0.150155 \\\\\n",
       "\t7 & Percentil ponderado 69.56 & 0.184207 \\\\\n",
       "\t8 & Subyacente óptima ABSME 2022 & 0.0231238 \\\\\n",
       "\\end{tabular}\n"
      ],
      "text/plain": [
       "\u001b[1m8×2 DataFrame\u001b[0m\n",
       "\u001b[1m Row \u001b[0m│\u001b[1m measure                           \u001b[0m\u001b[1m opt18_absme \u001b[0m\n",
       "\u001b[1m     \u001b[0m│\u001b[90m String?                           \u001b[0m\u001b[90m Float32?    \u001b[0m\n",
       "─────┼────────────────────────────────────────────────\n",
       "   1 │ MAI óptima de absme 2018           3.56707e-7\n",
       "   2 │ Inflación de exclusión dinámica …  0.000845995\n",
       "   3 │ Exclusión fija de gastos básicos…  0.00255378\n",
       "   4 │ Media Truncada Equiponderada (35…  0.000175531\n",
       "   5 │ Media Truncada Ponderada (34.19,…  0.127516\n",
       "   6 │ Percentil equiponderado 71.63      0.150155\n",
       "   7 │ Percentil ponderado 69.56          0.184207\n",
       "   8 │ Subyacente óptima ABSME 2022       0.0231238"
      ]
     },
     "metadata": {},
     "output_type": "display_data"
    }
   ],
   "source": [
    "# Combinar todas las métricas en período de optimización \n",
    "optim_period_df = [\n",
    "    select(df_results, :measure, :absme => :opt18_absme); \n",
    "    select(comb_metrics_df, :measure, r\"absme\")\n",
    "]"
   ]
  },
  {
   "cell_type": "markdown",
   "metadata": {},
   "source": [
    "## Combinar las métricas en un DataFrame de salida"
   ]
  },
  {
   "cell_type": "code",
   "execution_count": 43,
   "metadata": {},
   "outputs": [
    {
     "data": {
      "text/html": [
       "<div class=\"data-frame\"><p>8 rows × 4 columns</p><table class=\"data-frame\"><thead><tr><th></th><th>measure</th><th>gt_b10_absme</th><th>absme</th><th>opt18_absme</th></tr><tr><th></th><th title=\"Union{Missing, String}\">String?</th><th title=\"Union{Missing, Float32}\">Float32?</th><th title=\"Union{Missing, Float32}\">Float32?</th><th title=\"Union{Missing, Float32}\">Float32?</th></tr></thead><tbody><tr><th>1</th><td>MAI óptima de absme 2018</td><td>0.578433</td><td>0.0545127</td><td>3.56707e-7</td></tr><tr><th>2</th><td>Inflación de exclusión dinámica (1.03, 3.42)</td><td>0.073931</td><td>0.0630504</td><td>0.000845995</td></tr><tr><th>3</th><td>Exclusión fija de gastos básicos IPC (9, 6)</td><td>0.0983887</td><td>0.0622681</td><td>0.00255378</td></tr><tr><th>4</th><td>Media Truncada Equiponderada (35.29, 93.4)</td><td>0.276333</td><td>0.00510523</td><td>0.000175531</td></tr><tr><th>5</th><td>Media Truncada Ponderada (34.19, 93.0)</td><td>0.176912</td><td>0.0609842</td><td>0.127516</td></tr><tr><th>6</th><td>Percentil equiponderado 71.63</td><td>0.0191079</td><td>0.172761</td><td>0.150155</td></tr><tr><th>7</th><td>Percentil ponderado 69.56</td><td>0.484528</td><td>0.258382</td><td>0.184207</td></tr><tr><th>8</th><td>Subyacente óptima ABSME 2022</td><td>4.93534e-6</td><td>0.0565886</td><td>0.0231238</td></tr></tbody></table></div>"
      ],
      "text/latex": [
       "\\begin{tabular}{r|cccc}\n",
       "\t& measure & gt\\_b10\\_absme & absme & opt18\\_absme\\\\\n",
       "\t\\hline\n",
       "\t& String? & Float32? & Float32? & Float32?\\\\\n",
       "\t\\hline\n",
       "\t1 & MAI óptima de absme 2018 & 0.578433 & 0.0545127 & 3.56707e-7 \\\\\n",
       "\t2 & Inflación de exclusión dinámica (1.03, 3.42) & 0.073931 & 0.0630504 & 0.000845995 \\\\\n",
       "\t3 & Exclusión fija de gastos básicos IPC (9, 6) & 0.0983887 & 0.0622681 & 0.00255378 \\\\\n",
       "\t4 & Media Truncada Equiponderada (35.29, 93.4) & 0.276333 & 0.00510523 & 0.000175531 \\\\\n",
       "\t5 & Media Truncada Ponderada (34.19, 93.0) & 0.176912 & 0.0609842 & 0.127516 \\\\\n",
       "\t6 & Percentil equiponderado 71.63 & 0.0191079 & 0.172761 & 0.150155 \\\\\n",
       "\t7 & Percentil ponderado 69.56 & 0.484528 & 0.258382 & 0.184207 \\\\\n",
       "\t8 & Subyacente óptima ABSME 2022 & 4.93534e-6 & 0.0565886 & 0.0231238 \\\\\n",
       "\\end{tabular}\n"
      ],
      "text/plain": [
       "\u001b[1m8×4 DataFrame\u001b[0m\n",
       "\u001b[1m Row \u001b[0m│\u001b[1m measure                           \u001b[0m\u001b[1m gt_b10_absme \u001b[0m\u001b[1m absme      \u001b[0m\u001b[1m opt18_absm\u001b[0m ⋯\n",
       "\u001b[1m     \u001b[0m│\u001b[90m String?                           \u001b[0m\u001b[90m Float32?     \u001b[0m\u001b[90m Float32?   \u001b[0m\u001b[90m Float32?  \u001b[0m ⋯\n",
       "─────┼──────────────────────────────────────────────────────────────────────────\n",
       "   1 │ MAI óptima de absme 2018             0.578433    0.0545127   3.56707e-7 ⋯\n",
       "   2 │ Inflación de exclusión dinámica …    0.073931    0.0630504   0.00084599\n",
       "   3 │ Exclusión fija de gastos básicos…    0.0983887   0.0622681   0.00255378\n",
       "   4 │ Media Truncada Equiponderada (35…    0.276333    0.00510523  0.00017553\n",
       "   5 │ Media Truncada Ponderada (34.19,…    0.176912    0.0609842   0.127516   ⋯\n",
       "   6 │ Percentil equiponderado 71.63        0.0191079   0.172761    0.150155\n",
       "   7 │ Percentil ponderado 69.56            0.484528    0.258382    0.184207\n",
       "   8 │ Subyacente óptima ABSME 2022         4.93534e-6  0.0565886   0.0231238\n",
       "\u001b[36m                                                                1 column omitted\u001b[0m"
      ]
     },
     "metadata": {},
     "output_type": "display_data"
    }
   ],
   "source": [
    "final_df = leftjoin(historic_df, optim_period_df, on=:measure)\n",
    "select(final_df, :measure, :gt_b10_absme, :absme, :opt18_absme)"
   ]
  },
  {
   "cell_type": "code",
   "execution_count": 44,
   "metadata": {},
   "outputs": [
    {
     "name": "stderr",
     "output_type": "stream",
     "text": [
      "┌ Info: Saving file with ISO-8859-1\n",
      "│   file = c:\\Users\\RRCP\\Documents\\HEMI\\HEMI\\data\\updates\\metrics\\optabsme2022_metrics.csv\n",
      "└ @ Main c:\\Users\\RRCP\\Documents\\HEMI\\HEMI\\notebooks\\historic-combination-metrics\\absme-combination-metrics.ipynb:4\n"
     ]
    },
    {
     "data": {
      "text/plain": [
       "StringEncoder{UTF-8, ISO-8859-1}(IOStream(<file c:\\Users\\RRCP\\Documents\\HEMI\\HEMI\\data\\updates\\metrics\\optabsme2022_metrics.csv>))"
      ]
     },
     "metadata": {},
     "output_type": "display_data"
    }
   ],
   "source": [
    "# Guardar los resultados en un archivo CSV\n",
    "function save_csv(file::AbstractString, df::DataFrame)\n",
    "    encoding = enc\"ISO-8859-1\"\n",
    "    @info \"Saving file with $encoding\" file\n",
    "    open(file, encoding, \"w\") do io \n",
    "        CSV.write(io, df)\n",
    "    end\n",
    "end\n",
    "\n",
    "metrics_savepath = mkpath(datadir(\"updates\", \"metrics\"))\n",
    "save_csv(\n",
    "    joinpath(metrics_savepath, \"optabsme2022_metrics.csv\"),\n",
    "    final_df\n",
    ")"
   ]
  },
  {
   "cell_type": "code",
   "execution_count": null,
   "metadata": {},
   "outputs": [],
   "source": []
  }
 ],
 "metadata": {
  "kernelspec": {
   "display_name": "Julia 1.6.5",
   "language": "julia",
   "name": "julia-1.6"
  },
  "language_info": {
   "file_extension": ".jl",
   "mimetype": "application/julia",
   "name": "julia",
   "version": "1.6.5"
  },
  "orig_nbformat": 4
 },
 "nbformat": 4,
 "nbformat_minor": 2
}
