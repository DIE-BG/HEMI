{
 "cells": [
  {
   "cell_type": "code",
   "execution_count": 38,
   "metadata": {},
   "outputs": [],
   "source": [
    "using DrWatson\n",
    "@quickactivate \"HEMI\" \n",
    "using HEMI \n",
    "using DataFrames, Chain\n",
    "using CSV, StringEncodings\n",
    "using Plots"
   ]
  },
  {
   "cell_type": "markdown",
   "metadata": {},
   "source": [
    "## Métricas de evaluación histórica"
   ]
  },
  {
   "cell_type": "code",
   "execution_count": 2,
   "metadata": {},
   "outputs": [
    {
     "data": {
      "text/plain": [
       "UniformCountryStructure{2, Float32, Float32} con 2 bases\n",
       "|─> VarCPIBase{Float32, Float32}: 120 períodos × 218 gastos básicos Jan-2001-Dec-2010\n",
       "|─> VarCPIBase{Float32, Float32}: 120 períodos × 279 gastos básicos Jan-2011-Dec-2020\n"
      ]
     },
     "metadata": {},
     "output_type": "display_data"
    }
   ],
   "source": [
    "## Directorios de resultados \n",
    "config_savepath = datadir(\"results\", \"corr-combination\", \"Esc-F\")\n",
    "tray_dir = datadir(config_savepath, \"tray_infl\")\n",
    "\n",
    "# CountryStructure con datos hasta período de evaluación \n",
    "gtdata_eval = gtdata[Date(2020, 12)]"
   ]
  },
  {
   "cell_type": "code",
   "execution_count": 5,
   "metadata": {},
   "outputs": [
    {
     "name": "stderr",
     "output_type": "stream",
     "text": [
      "┌ Info: Scanning folder c:\\Users\\RRCP\\Documents\\HEMI\\HEMI\\data\\results\\corr-combination\\Esc-F for result files.\n",
      "└ @ DrWatson C:\\Users\\RRCP\\.julia\\packages\\DrWatson\\VwP8P\\src\\result_collection.jl:88\n",
      "┌ Info: Added 7 entries.\n",
      "└ @ DrWatson C:\\Users\\RRCP\\.julia\\packages\\DrWatson\\VwP8P\\src\\result_collection.jl:118\n"
     ]
    },
    {
     "data": {
      "text/html": [
       "<div class=\"data-frame\"><p>7 rows × 66 columns (omitted printing of 63 columns)</p><table class=\"data-frame\"><thead><tr><th></th><th>gt_b00_mse_bias</th><th>traindate</th><th>inflfn</th></tr><tr><th></th><th title=\"Union{Missing, Float32}\">Float32?</th><th title=\"Union{Missing, Date}\">Date?</th><th title=\"Union{Missing, InflationFunction}\">Inflati…?</th></tr></thead><tbody><tr><th>1</th><td>0.0384297</td><td>2020-12-01</td><td>CombinationFunction{3, Vector{Float32}}(EnsembleFunction{3}((InflationCoreMai{Float32, Float64, MaiG{Vector{Float64}}}(-200.0f0:0.01f0:200.0f0, MaiG{Vector{Float64}}(3, [0.0, 0.323195, 0.77172, 1.0])), InflationCoreMai{Float32, Float64, MaiFP{Vector{Float64}}}(-200.0f0:0.01f0:200.0f0, MaiFP{Vector{Float64}}(5, [0.0, 0.335389, 0.65647, 0.781121, 0.860586, 1.0])), InflationCoreMai{Float32, Float64, MaiF{Vector{Float64}}}(-200.0f0:0.01f0:200.0f0, MaiF{Vector{Float64}}(5, [0.0, 0.318405, 0.656481, 0.777264, 0.871024, 1.0])))), Float32[0.00581682, 0.434901, 0.55931], &quot;MAI óptima de correlación 2018&quot;)</td></tr><tr><th>2</th><td>3.15955</td><td>2020-12-01</td><td>InflationDynamicExclusion(0.468323, 4.97451)</td></tr><tr><th>3</th><td>0.107584</td><td>2020-12-01</td><td>InflationFixedExclusionCPI{2}(([35, 30, 190, 36, 37, 40, 31, 104, 162, 32, 33, 159], [29, 116, 31, 46, 39, 40, 186, 30, 35, 185, 197, 34, 48, 184, 41, 47, 37, 22, 25, 229, 38, 32, 274, 3, 45, 44, 33, 237, 19, 10, 24, 275, 115, 15, 59, 42, 61, 43, 113, 49, 27, 71, 23, 268, 9, 36, 236, 78, 20, 213, 273, 26]))</td></tr><tr><th>4</th><td>5.03112</td><td>2020-12-01</td><td>InflationTrimmedMeanEq(55.9051, 92.1777)</td></tr><tr><th>5</th><td>44.0879</td><td>2020-12-01</td><td>InflationTrimmedMeanWeighted(46.4432, 98.5461)</td></tr><tr><th>6</th><td>4.26757</td><td>2020-12-01</td><td>InflationPercentileEq(0.772522)</td></tr><tr><th>7</th><td>33.4896</td><td>2020-12-01</td><td>InflationPercentileWeighted(0.809557)</td></tr></tbody></table></div>"
      ],
      "text/latex": [
       "\\begin{tabular}{r|cccc}\n",
       "\t& gt\\_b00\\_mse\\_bias & traindate & inflfn & \\\\\n",
       "\t\\hline\n",
       "\t& Float32? & Date? & Inflati…? & \\\\\n",
       "\t\\hline\n",
       "\t1 & 0.0384297 & 2020-12-01 & CombinationFunction\\{3, Vector\\{Float32\\}\\}(EnsembleFunction\\{3\\}((InflationCoreMai\\{Float32, Float64, MaiG\\{Vector\\{Float64\\}\\}\\}(-200.0f0:0.01f0:200.0f0, MaiG\\{Vector\\{Float64\\}\\}(3, [0.0, 0.323195, 0.77172, 1.0])), InflationCoreMai\\{Float32, Float64, MaiFP\\{Vector\\{Float64\\}\\}\\}(-200.0f0:0.01f0:200.0f0, MaiFP\\{Vector\\{Float64\\}\\}(5, [0.0, 0.335389, 0.65647, 0.781121, 0.860586, 1.0])), InflationCoreMai\\{Float32, Float64, MaiF\\{Vector\\{Float64\\}\\}\\}(-200.0f0:0.01f0:200.0f0, MaiF\\{Vector\\{Float64\\}\\}(5, [0.0, 0.318405, 0.656481, 0.777264, 0.871024, 1.0])))), Float32[0.00581682, 0.434901, 0.55931], \"MAI óptima de correlación 2018\") & $\\dots$ \\\\\n",
       "\t2 & 3.15955 & 2020-12-01 & InflationDynamicExclusion(0.468323, 4.97451) & $\\dots$ \\\\\n",
       "\t3 & 0.107584 & 2020-12-01 & InflationFixedExclusionCPI\\{2\\}(([35, 30, 190, 36, 37, 40, 31, 104, 162, 32, 33, 159], [29, 116, 31, 46, 39, 40, 186, 30, 35, 185  …  23, 268, 9, 36, 236, 78, 20, 213, 273, 26])) & $\\dots$ \\\\\n",
       "\t4 & 5.03112 & 2020-12-01 & InflationTrimmedMeanEq(55.9051, 92.1777) & $\\dots$ \\\\\n",
       "\t5 & 44.0879 & 2020-12-01 & InflationTrimmedMeanWeighted(46.4432, 98.5461) & $\\dots$ \\\\\n",
       "\t6 & 4.26757 & 2020-12-01 & InflationPercentileEq(0.772522) & $\\dots$ \\\\\n",
       "\t7 & 33.4896 & 2020-12-01 & InflationPercentileWeighted(0.809557) & $\\dots$ \\\\\n",
       "\\end{tabular}\n"
      ],
      "text/plain": [
       "\u001b[1m7×66 DataFrame\u001b[0m\n",
       "\u001b[1m Row \u001b[0m│\u001b[1m gt_b00_mse_bias \u001b[0m\u001b[1m traindate  \u001b[0m\u001b[1m inflfn                            \u001b[0m\n",
       "\u001b[1m     \u001b[0m│\u001b[90m Float32?        \u001b[0m\u001b[90m Date?      \u001b[0m\u001b[90m Inflatio…?                        \u001b[0m\n",
       "─────┼──────────────────────────────────────────────────────────────────────────\n",
       "   1 │       0.0384297  2020-12-01  CombinationFunction{3, Vector{Fl…\n",
       "   2 │       3.15955    2020-12-01  InflationDynamicExclusion(0.4683…\n",
       "   3 │       0.107584   2020-12-01  InflationFixedExclusionCPI{2}(([…\n",
       "   4 │       5.03112    2020-12-01  InflationTrimmedMeanEq(55.9051, …\n",
       "   5 │      44.0879     2020-12-01  InflationTrimmedMeanWeighted(46.…\n",
       "   6 │       4.26757    2020-12-01  InflationPercentileEq(0.772522)\n",
       "   7 │      33.4896     2020-12-01  InflationPercentileWeighted(0.80…\n",
       "\u001b[36m                                                              63 columns omitted\u001b[0m"
      ]
     },
     "metadata": {},
     "output_type": "display_data"
    }
   ],
   "source": [
    "df_results = collect_results(config_savepath)\n",
    "df_results"
   ]
  },
  {
   "cell_type": "markdown",
   "metadata": {},
   "source": [
    "### Métricas de los 4 períodos"
   ]
  },
  {
   "cell_type": "code",
   "execution_count": 6,
   "metadata": {},
   "outputs": [
    {
     "data": {
      "text/html": [
       "<div class=\"data-frame\"><p>7 rows × 5 columns (omitted printing of 1 columns)</p><table class=\"data-frame\"><thead><tr><th></th><th>measure</th><th>gt_b00_corr</th><th>gt_t0010_corr</th><th>gt_b10_corr</th></tr><tr><th></th><th title=\"Union{Missing, String}\">String?</th><th title=\"Union{Missing, Float32}\">Float32?</th><th title=\"Union{Missing, Float32}\">Float32?</th><th title=\"Union{Missing, Float32}\">Float32?</th></tr></thead><tbody><tr><th>1</th><td>MAI óptima de correlación 2018</td><td>0.971953</td><td>0.980825</td><td>0.876439</td></tr><tr><th>2</th><td>Inflación de exclusión dinámica (0.47, 4.97)</td><td>0.940207</td><td>0.972252</td><td>0.722675</td></tr><tr><th>3</th><td>Exclusión fija de gastos básicos IPC (12, 52)</td><td>0.946636</td><td>0.969423</td><td>0.613</td></tr><tr><th>4</th><td>Media Truncada Equiponderada (55.91, 92.18)</td><td>0.9722</td><td>0.978092</td><td>0.872161</td></tr><tr><th>5</th><td>Media Truncada Ponderada (46.44, 98.55)</td><td>0.942932</td><td>0.972701</td><td>0.734026</td></tr><tr><th>6</th><td>Percentil equiponderado 77.25</td><td>0.968672</td><td>0.978261</td><td>0.871594</td></tr><tr><th>7</th><td>Percentil ponderado 80.96</td><td>0.932154</td><td>0.974553</td><td>0.756394</td></tr></tbody></table></div>"
      ],
      "text/latex": [
       "\\begin{tabular}{r|ccccc}\n",
       "\t& measure & gt\\_b00\\_corr & gt\\_t0010\\_corr & gt\\_b10\\_corr & \\\\\n",
       "\t\\hline\n",
       "\t& String? & Float32? & Float32? & Float32? & \\\\\n",
       "\t\\hline\n",
       "\t1 & MAI óptima de correlación 2018 & 0.971953 & 0.980825 & 0.876439 & $\\dots$ \\\\\n",
       "\t2 & Inflación de exclusión dinámica (0.47, 4.97) & 0.940207 & 0.972252 & 0.722675 & $\\dots$ \\\\\n",
       "\t3 & Exclusión fija de gastos básicos IPC (12, 52) & 0.946636 & 0.969423 & 0.613 & $\\dots$ \\\\\n",
       "\t4 & Media Truncada Equiponderada (55.91, 92.18) & 0.9722 & 0.978092 & 0.872161 & $\\dots$ \\\\\n",
       "\t5 & Media Truncada Ponderada (46.44, 98.55) & 0.942932 & 0.972701 & 0.734026 & $\\dots$ \\\\\n",
       "\t6 & Percentil equiponderado 77.25 & 0.968672 & 0.978261 & 0.871594 & $\\dots$ \\\\\n",
       "\t7 & Percentil ponderado 80.96 & 0.932154 & 0.974553 & 0.756394 & $\\dots$ \\\\\n",
       "\\end{tabular}\n"
      ],
      "text/plain": [
       "\u001b[1m7×5 DataFrame\u001b[0m\n",
       "\u001b[1m Row \u001b[0m│\u001b[1m measure                           \u001b[0m\u001b[1m gt_b00_corr \u001b[0m\u001b[1m gt_t0010_corr \u001b[0m\u001b[1m gt_b10_c\u001b[0m ⋯\n",
       "\u001b[1m     \u001b[0m│\u001b[90m String?                           \u001b[0m\u001b[90m Float32?    \u001b[0m\u001b[90m Float32?      \u001b[0m\u001b[90m Float32?\u001b[0m ⋯\n",
       "─────┼──────────────────────────────────────────────────────────────────────────\n",
       "   1 │ MAI óptima de correlación 2018        0.971953       0.980825     0.876 ⋯\n",
       "   2 │ Inflación de exclusión dinámica …     0.940207       0.972252     0.722\n",
       "   3 │ Exclusión fija de gastos básicos…     0.946636       0.969423     0.613\n",
       "   4 │ Media Truncada Equiponderada (55…     0.9722         0.978092     0.872\n",
       "   5 │ Media Truncada Ponderada (46.44,…     0.942932       0.972701     0.734 ⋯\n",
       "   6 │ Percentil equiponderado 77.25         0.968672       0.978261     0.871\n",
       "   7 │ Percentil ponderado 80.96             0.932154       0.974553     0.756\n",
       "\u001b[36m                                                               2 columns omitted\u001b[0m"
      ]
     },
     "metadata": {},
     "output_type": "display_data"
    }
   ],
   "source": [
    "select(df_results, :measure, r\"corr\")"
   ]
  },
  {
   "cell_type": "markdown",
   "metadata": {},
   "source": [
    "### Métricas de la combinación óptima CORR"
   ]
  },
  {
   "cell_type": "code",
   "execution_count": 7,
   "metadata": {},
   "outputs": [
    {
     "data": {
      "text/html": [
       "<div class=\"data-frame\"><p>7 rows × 2 columns</p><table class=\"data-frame\"><thead><tr><th></th><th>measure</th><th>weights</th></tr><tr><th></th><th title=\"String\">String</th><th title=\"Float32\">Float32</th></tr></thead><tbody><tr><th>1</th><td>Percentil ponderado 80.96</td><td>3.93042e-5</td></tr><tr><th>2</th><td>Inflación de exclusión dinámica (0.47, 4.97)</td><td>0.00194286</td></tr><tr><th>3</th><td>Media Truncada Ponderada (46.44, 98.55)</td><td>0.0</td></tr><tr><th>4</th><td>Percentil equiponderado 77.25</td><td>0.19322</td></tr><tr><th>5</th><td>MAI óptima de correlación 2018</td><td>0.336925</td></tr><tr><th>6</th><td>Media Truncada Equiponderada (55.91, 92.18)</td><td>0.467873</td></tr><tr><th>7</th><td>Exclusión fija de gastos básicos IPC (12, 52)</td><td>0.0</td></tr></tbody></table></div>"
      ],
      "text/latex": [
       "\\begin{tabular}{r|cc}\n",
       "\t& measure & weights\\\\\n",
       "\t\\hline\n",
       "\t& String & Float32\\\\\n",
       "\t\\hline\n",
       "\t1 & Percentil ponderado 80.96 & 3.93042e-5 \\\\\n",
       "\t2 & Inflación de exclusión dinámica (0.47, 4.97) & 0.00194286 \\\\\n",
       "\t3 & Media Truncada Ponderada (46.44, 98.55) & 0.0 \\\\\n",
       "\t4 & Percentil equiponderado 77.25 & 0.19322 \\\\\n",
       "\t5 & MAI óptima de correlación 2018 & 0.336925 \\\\\n",
       "\t6 & Media Truncada Equiponderada (55.91, 92.18) & 0.467873 \\\\\n",
       "\t7 & Exclusión fija de gastos básicos IPC (12, 52) & 0.0 \\\\\n",
       "\\end{tabular}\n"
      ],
      "text/plain": [
       "\u001b[1m7×2 DataFrame\u001b[0m\n",
       "\u001b[1m Row \u001b[0m│\u001b[1m measure                           \u001b[0m\u001b[1m weights    \u001b[0m\n",
       "\u001b[1m     \u001b[0m│\u001b[90m String                            \u001b[0m\u001b[90m Float32    \u001b[0m\n",
       "─────┼───────────────────────────────────────────────\n",
       "   1 │ Percentil ponderado 80.96          3.93042e-5\n",
       "   2 │ Inflación de exclusión dinámica …  0.00194286\n",
       "   3 │ Media Truncada Ponderada (46.44,…  0.0\n",
       "   4 │ Percentil equiponderado 77.25      0.19322\n",
       "   5 │ MAI óptima de correlación 2018     0.336925\n",
       "   6 │ Media Truncada Equiponderada (55…  0.467873\n",
       "   7 │ Exclusión fija de gastos básicos…  0.0"
      ]
     },
     "metadata": {},
     "output_type": "display_data"
    }
   ],
   "source": [
    "optcorr2022 = wload(datadir(config_savepath, \"optcorr2022\", \"optcorr2022.jld2\"), \"optcorr2022\")\n",
    "components_df = components(optcorr2022)"
   ]
  },
  {
   "cell_type": "code",
   "execution_count": 8,
   "metadata": {},
   "outputs": [],
   "source": [
    "# DataFrame de combinación \n",
    "combine_df = @chain df_results begin \n",
    "    select(:measure, :corr, :me, :inflfn, \n",
    "        :path => ByRow(p -> joinpath(tray_dir, basename(p))) => :tray_path)\n",
    "    sort(:corr)\n",
    "end\n",
    "combine_df = leftjoin(combine_df, components_df, on = :measure)\n",
    "combine_df\n",
    "\n",
    "## Obtener las trayectorias de los archivos guardados en el directorio tray_infl \n",
    "# Genera un arreglo de 3 dimensiones de trayectorias (T, n, K)\n",
    "tray_infl = mapreduce(hcat, combine_df.tray_path) do path\n",
    "    load(path, \"tray_infl\")\n",
    "end\n",
    "\n",
    "functions = combine_df.inflfn\n",
    "components_mask = [!(fn isa InflationFixedExclusionCPI) for fn in functions];"
   ]
  },
  {
   "cell_type": "code",
   "execution_count": 9,
   "metadata": {},
   "outputs": [],
   "source": [
    "# Obtener el parámetro\n",
    "resamplefn = df_results[1, :resamplefn]\n",
    "trendfn = df_results[1, :trendfn]\n",
    "paramfn = df_results[1, :paramfn]\n",
    "param = InflationParameter(paramfn, resamplefn, trendfn)\n",
    "tray_infl_pob = param(gtdata_eval);"
   ]
  },
  {
   "cell_type": "code",
   "execution_count": 10,
   "metadata": {},
   "outputs": [],
   "source": [
    "# Pesos de la combinación óptima\n",
    "corr_weights = combine_df.weights\n",
    "\n",
    "EVAL_PERIODS = [GT_EVAL_B00, GT_EVAL_T0010, GT_EVAL_B10, CompletePeriod()]\n",
    "\n",
    "comb_metrics = mapreduce(merge, EVAL_PERIODS) do period\n",
    "    # Ventana de evaluación\n",
    "    eval_window = eval_periods(gtdata_eval, period)\n",
    "    # Trayectorias combinadas\n",
    "    tray_infl_opt = sum(tray_infl[eval_window, :, :] .* corr_weights', dims=2)\n",
    "    metrics = eval_metrics(tray_infl_opt, tray_infl_pob[eval_window], prefix = period_tag(period))\n",
    "end;\n"
   ]
  },
  {
   "cell_type": "code",
   "execution_count": 11,
   "metadata": {},
   "outputs": [
    {
     "data": {
      "text/html": [
       "<div class=\"data-frame\"><p>1 rows × 5 columns</p><table class=\"data-frame\"><thead><tr><th></th><th>measure</th><th>corr</th><th>gt_b00_corr</th><th>gt_b10_corr</th><th>gt_t0010_corr</th></tr><tr><th></th><th title=\"String\">String</th><th title=\"Float32\">Float32</th><th title=\"Float32\">Float32</th><th title=\"Float32\">Float32</th><th title=\"Float32\">Float32</th></tr></thead><tbody><tr><th>1</th><td>Subyacente óptima CORR 2022</td><td>0.987285</td><td>0.972561</td><td>0.876094</td><td>0.979512</td></tr></tbody></table></div>"
      ],
      "text/latex": [
       "\\begin{tabular}{r|ccccc}\n",
       "\t& measure & corr & gt\\_b00\\_corr & gt\\_b10\\_corr & gt\\_t0010\\_corr\\\\\n",
       "\t\\hline\n",
       "\t& String & Float32 & Float32 & Float32 & Float32\\\\\n",
       "\t\\hline\n",
       "\t1 & Subyacente óptima CORR 2022 & 0.987285 & 0.972561 & 0.876094 & 0.979512 \\\\\n",
       "\\end{tabular}\n"
      ],
      "text/plain": [
       "\u001b[1m1×5 DataFrame\u001b[0m\n",
       "\u001b[1m Row \u001b[0m│\u001b[1m measure                     \u001b[0m\u001b[1m corr     \u001b[0m\u001b[1m gt_b00_corr \u001b[0m\u001b[1m gt_b10_corr \u001b[0m\u001b[1m gt_t00\u001b[0m ⋯\n",
       "\u001b[1m     \u001b[0m│\u001b[90m String                      \u001b[0m\u001b[90m Float32  \u001b[0m\u001b[90m Float32     \u001b[0m\u001b[90m Float32     \u001b[0m\u001b[90m Float3\u001b[0m ⋯\n",
       "─────┼──────────────────────────────────────────────────────────────────────────\n",
       "   1 │ Subyacente óptima CORR 2022  0.987285     0.972561     0.876094       0 ⋯\n",
       "\u001b[36m                                                                1 column omitted\u001b[0m"
      ]
     },
     "metadata": {},
     "output_type": "display_data"
    }
   ],
   "source": [
    "# Obtener un DataFrame de métricas de la combinación lineal CORR\n",
    "comb_metrics_df = DataFrame(comb_metrics)\n",
    "comb_metrics_df[!, :measure] .= measure_name(optcorr2022)\n",
    "select(comb_metrics_df, :measure, r\"corr\")"
   ]
  },
  {
   "cell_type": "code",
   "execution_count": 15,
   "metadata": {},
   "outputs": [
    {
     "data": {
      "text/html": [
       "<div class=\"data-frame\"><p>8 rows × 5 columns (omitted printing of 1 columns)</p><table class=\"data-frame\"><thead><tr><th></th><th>measure</th><th>gt_b00_corr</th><th>gt_t0010_corr</th><th>gt_b10_corr</th></tr><tr><th></th><th title=\"Union{Missing, String}\">String?</th><th title=\"Union{Missing, Float32}\">Float32?</th><th title=\"Union{Missing, Float32}\">Float32?</th><th title=\"Union{Missing, Float32}\">Float32?</th></tr></thead><tbody><tr><th>1</th><td>MAI óptima de correlación 2018</td><td>0.971953</td><td>0.980825</td><td>0.876439</td></tr><tr><th>2</th><td>Inflación de exclusión dinámica (0.47, 4.97)</td><td>0.940207</td><td>0.972252</td><td>0.722675</td></tr><tr><th>3</th><td>Exclusión fija de gastos básicos IPC (12, 52)</td><td>0.946636</td><td>0.969423</td><td>0.613</td></tr><tr><th>4</th><td>Media Truncada Equiponderada (55.91, 92.18)</td><td>0.9722</td><td>0.978092</td><td>0.872161</td></tr><tr><th>5</th><td>Media Truncada Ponderada (46.44, 98.55)</td><td>0.942932</td><td>0.972701</td><td>0.734026</td></tr><tr><th>6</th><td>Percentil equiponderado 77.25</td><td>0.968672</td><td>0.978261</td><td>0.871594</td></tr><tr><th>7</th><td>Percentil ponderado 80.96</td><td>0.932154</td><td>0.974553</td><td>0.756394</td></tr><tr><th>8</th><td>Subyacente óptima CORR 2022</td><td>0.972561</td><td>0.979512</td><td>0.876094</td></tr></tbody></table></div>"
      ],
      "text/latex": [
       "\\begin{tabular}{r|ccccc}\n",
       "\t& measure & gt\\_b00\\_corr & gt\\_t0010\\_corr & gt\\_b10\\_corr & \\\\\n",
       "\t\\hline\n",
       "\t& String? & Float32? & Float32? & Float32? & \\\\\n",
       "\t\\hline\n",
       "\t1 & MAI óptima de correlación 2018 & 0.971953 & 0.980825 & 0.876439 & $\\dots$ \\\\\n",
       "\t2 & Inflación de exclusión dinámica (0.47, 4.97) & 0.940207 & 0.972252 & 0.722675 & $\\dots$ \\\\\n",
       "\t3 & Exclusión fija de gastos básicos IPC (12, 52) & 0.946636 & 0.969423 & 0.613 & $\\dots$ \\\\\n",
       "\t4 & Media Truncada Equiponderada (55.91, 92.18) & 0.9722 & 0.978092 & 0.872161 & $\\dots$ \\\\\n",
       "\t5 & Media Truncada Ponderada (46.44, 98.55) & 0.942932 & 0.972701 & 0.734026 & $\\dots$ \\\\\n",
       "\t6 & Percentil equiponderado 77.25 & 0.968672 & 0.978261 & 0.871594 & $\\dots$ \\\\\n",
       "\t7 & Percentil ponderado 80.96 & 0.932154 & 0.974553 & 0.756394 & $\\dots$ \\\\\n",
       "\t8 & Subyacente óptima CORR 2022 & 0.972561 & 0.979512 & 0.876094 & $\\dots$ \\\\\n",
       "\\end{tabular}\n"
      ],
      "text/plain": [
       "\u001b[1m8×5 DataFrame\u001b[0m\n",
       "\u001b[1m Row \u001b[0m│\u001b[1m measure                           \u001b[0m\u001b[1m gt_b00_corr \u001b[0m\u001b[1m gt_t0010_corr \u001b[0m\u001b[1m gt_b10_c\u001b[0m ⋯\n",
       "\u001b[1m     \u001b[0m│\u001b[90m String?                           \u001b[0m\u001b[90m Float32?    \u001b[0m\u001b[90m Float32?      \u001b[0m\u001b[90m Float32?\u001b[0m ⋯\n",
       "─────┼──────────────────────────────────────────────────────────────────────────\n",
       "   1 │ MAI óptima de correlación 2018        0.971953       0.980825     0.876 ⋯\n",
       "   2 │ Inflación de exclusión dinámica …     0.940207       0.972252     0.722\n",
       "   3 │ Exclusión fija de gastos básicos…     0.946636       0.969423     0.613\n",
       "   4 │ Media Truncada Equiponderada (55…     0.9722         0.978092     0.872\n",
       "   5 │ Media Truncada Ponderada (46.44,…     0.942932       0.972701     0.734 ⋯\n",
       "   6 │ Percentil equiponderado 77.25         0.968672       0.978261     0.871\n",
       "   7 │ Percentil ponderado 80.96             0.932154       0.974553     0.756\n",
       "   8 │ Subyacente óptima CORR 2022           0.972561       0.979512     0.876\n",
       "\u001b[36m                                                               2 columns omitted\u001b[0m"
      ]
     },
     "metadata": {},
     "output_type": "display_data"
    }
   ],
   "source": [
    "historic_df = [\n",
    "    select(df_results, :measure, r\"corr\");\n",
    "    select(comb_metrics_df, :measure, r\"corr\")\n",
    "]"
   ]
  },
  {
   "cell_type": "markdown",
   "metadata": {},
   "source": [
    "## Métricas en período de optimización (Dic-2001 - Dic-2018)"
   ]
  },
  {
   "cell_type": "code",
   "execution_count": 17,
   "metadata": {},
   "outputs": [
    {
     "name": "stderr",
     "output_type": "stream",
     "text": [
      "┌ Info: Scanning folder c:\\Users\\RRCP\\Documents\\HEMI\\HEMI\\data\\results\\corr-combination\\Esc-F18 for result files.\n",
      "└ @ DrWatson C:\\Users\\RRCP\\.julia\\packages\\DrWatson\\VwP8P\\src\\result_collection.jl:88\n"
     ]
    },
    {
     "name": "stderr",
     "output_type": "stream",
     "text": [
      "┌ Info: Added 7 entries.\n",
      "└ @ DrWatson C:\\Users\\RRCP\\.julia\\packages\\DrWatson\\VwP8P\\src\\result_collection.jl:118\n"
     ]
    },
    {
     "data": {
      "text/html": [
       "<div class=\"data-frame\"><p>7 rows × 66 columns (omitted printing of 63 columns)</p><table class=\"data-frame\"><thead><tr><th></th><th>gt_b00_mse_bias</th><th>traindate</th><th>inflfn</th></tr><tr><th></th><th title=\"Union{Missing, Float32}\">Float32?</th><th title=\"Union{Missing, Date}\">Date?</th><th title=\"Union{Missing, InflationFunction}\">Inflati…?</th></tr></thead><tbody><tr><th>1</th><td>0.0399365</td><td>2018-12-01</td><td>CombinationFunction{3, Vector{Float32}}(EnsembleFunction{3}((InflationCoreMai{Float32, Float64, MaiG{Vector{Float64}}}(-200.0f0:0.01f0:200.0f0, MaiG{Vector{Float64}}(3, [0.0, 0.323195, 0.77172, 1.0])), InflationCoreMai{Float32, Float64, MaiFP{Vector{Float64}}}(-200.0f0:0.01f0:200.0f0, MaiFP{Vector{Float64}}(5, [0.0, 0.335389, 0.65647, 0.781121, 0.860586, 1.0])), InflationCoreMai{Float32, Float64, MaiF{Vector{Float64}}}(-200.0f0:0.01f0:200.0f0, MaiF{Vector{Float64}}(5, [0.0, 0.318405, 0.656481, 0.777264, 0.871024, 1.0])))), Float32[0.00581682, 0.434901, 0.55931], &quot;MAI óptima de correlación 2018&quot;)</td></tr><tr><th>2</th><td>3.15955</td><td>2018-12-01</td><td>InflationDynamicExclusion(0.468323, 4.97451)</td></tr><tr><th>3</th><td>0.107584</td><td>2018-12-01</td><td>InflationFixedExclusionCPI{2}(([35, 30, 190, 36, 37, 40, 31, 104, 162, 32, 33, 159], [29, 116, 31, 46, 39, 40, 186, 30, 35, 185, 197, 34, 48, 184, 41, 47, 37, 22, 25, 229, 38, 32, 274, 3, 45, 44, 33, 237, 19, 10, 24, 275, 115, 15, 59, 42, 61, 43, 113, 49, 27, 71, 23, 268, 9, 36, 236, 78, 20, 213, 273, 26]))</td></tr><tr><th>4</th><td>5.03112</td><td>2018-12-01</td><td>InflationTrimmedMeanEq(55.9051, 92.1777)</td></tr><tr><th>5</th><td>44.0879</td><td>2018-12-01</td><td>InflationTrimmedMeanWeighted(46.4432, 98.5461)</td></tr><tr><th>6</th><td>4.26757</td><td>2018-12-01</td><td>InflationPercentileEq(0.772522)</td></tr><tr><th>7</th><td>33.4896</td><td>2018-12-01</td><td>InflationPercentileWeighted(0.809557)</td></tr></tbody></table></div>"
      ],
      "text/latex": [
       "\\begin{tabular}{r|cccc}\n",
       "\t& gt\\_b00\\_mse\\_bias & traindate & inflfn & \\\\\n",
       "\t\\hline\n",
       "\t& Float32? & Date? & Inflati…? & \\\\\n",
       "\t\\hline\n",
       "\t1 & 0.0399365 & 2018-12-01 & CombinationFunction\\{3, Vector\\{Float32\\}\\}(EnsembleFunction\\{3\\}((InflationCoreMai\\{Float32, Float64, MaiG\\{Vector\\{Float64\\}\\}\\}(-200.0f0:0.01f0:200.0f0, MaiG\\{Vector\\{Float64\\}\\}(3, [0.0, 0.323195, 0.77172, 1.0])), InflationCoreMai\\{Float32, Float64, MaiFP\\{Vector\\{Float64\\}\\}\\}(-200.0f0:0.01f0:200.0f0, MaiFP\\{Vector\\{Float64\\}\\}(5, [0.0, 0.335389, 0.65647, 0.781121, 0.860586, 1.0])), InflationCoreMai\\{Float32, Float64, MaiF\\{Vector\\{Float64\\}\\}\\}(-200.0f0:0.01f0:200.0f0, MaiF\\{Vector\\{Float64\\}\\}(5, [0.0, 0.318405, 0.656481, 0.777264, 0.871024, 1.0])))), Float32[0.00581682, 0.434901, 0.55931], \"MAI óptima de correlación 2018\") & $\\dots$ \\\\\n",
       "\t2 & 3.15955 & 2018-12-01 & InflationDynamicExclusion(0.468323, 4.97451) & $\\dots$ \\\\\n",
       "\t3 & 0.107584 & 2018-12-01 & InflationFixedExclusionCPI\\{2\\}(([35, 30, 190, 36, 37, 40, 31, 104, 162, 32, 33, 159], [29, 116, 31, 46, 39, 40, 186, 30, 35, 185  …  23, 268, 9, 36, 236, 78, 20, 213, 273, 26])) & $\\dots$ \\\\\n",
       "\t4 & 5.03112 & 2018-12-01 & InflationTrimmedMeanEq(55.9051, 92.1777) & $\\dots$ \\\\\n",
       "\t5 & 44.0879 & 2018-12-01 & InflationTrimmedMeanWeighted(46.4432, 98.5461) & $\\dots$ \\\\\n",
       "\t6 & 4.26757 & 2018-12-01 & InflationPercentileEq(0.772522) & $\\dots$ \\\\\n",
       "\t7 & 33.4896 & 2018-12-01 & InflationPercentileWeighted(0.809557) & $\\dots$ \\\\\n",
       "\\end{tabular}\n"
      ],
      "text/plain": [
       "\u001b[1m7×66 DataFrame\u001b[0m\n",
       "\u001b[1m Row \u001b[0m│\u001b[1m gt_b00_mse_bias \u001b[0m\u001b[1m traindate  \u001b[0m\u001b[1m inflfn                            \u001b[0m\n",
       "\u001b[1m     \u001b[0m│\u001b[90m Float32?        \u001b[0m\u001b[90m Date?      \u001b[0m\u001b[90m Inflatio…?                        \u001b[0m\n",
       "─────┼──────────────────────────────────────────────────────────────────────────\n",
       "   1 │       0.0399365  2018-12-01  CombinationFunction{3, Vector{Fl…\n",
       "   2 │       3.15955    2018-12-01  InflationDynamicExclusion(0.4683…\n",
       "   3 │       0.107584   2018-12-01  InflationFixedExclusionCPI{2}(([…\n",
       "   4 │       5.03112    2018-12-01  InflationTrimmedMeanEq(55.9051, …\n",
       "   5 │      44.0879     2018-12-01  InflationTrimmedMeanWeighted(46.…\n",
       "   6 │       4.26757    2018-12-01  InflationPercentileEq(0.772522)\n",
       "   7 │      33.4896     2018-12-01  InflationPercentileWeighted(0.80…\n",
       "\u001b[36m                                                              63 columns omitted\u001b[0m"
      ]
     },
     "metadata": {},
     "output_type": "display_data"
    }
   ],
   "source": [
    "## Directorios de resultados \n",
    "config_savepath = datadir(\"results\", \"corr-combination\", \"Esc-F18\")\n",
    "tray_dir = datadir(config_savepath, \"tray_infl\")\n",
    "\n",
    "# CountryStructure con datos hasta período de evaluación \n",
    "gtdata_eval = gtdata[Date(2018, 12)]\n",
    "\n",
    "# DataFrame con resultados de evaluación hasta dic-18\n",
    "df_results = collect_results(config_savepath)\n",
    "df_results"
   ]
  },
  {
   "cell_type": "code",
   "execution_count": 28,
   "metadata": {},
   "outputs": [
    {
     "data": {
      "text/html": [
       "<div class=\"data-frame\"><p>7 rows × 2 columns</p><table class=\"data-frame\"><thead><tr><th></th><th>measure</th><th>corr</th></tr><tr><th></th><th title=\"Union{Missing, String}\">String?</th><th title=\"Union{Missing, Float32}\">Float32?</th></tr></thead><tbody><tr><th>1</th><td>MAI óptima de correlación 2018</td><td>0.985625</td></tr><tr><th>2</th><td>Inflación de exclusión dinámica (0.47, 4.97)</td><td>0.976798</td></tr><tr><th>3</th><td>Exclusión fija de gastos básicos IPC (12, 52)</td><td>0.977486</td></tr><tr><th>4</th><td>Media Truncada Equiponderada (55.91, 92.18)</td><td>0.985724</td></tr><tr><th>5</th><td>Media Truncada Ponderada (46.44, 98.55)</td><td>0.977656</td></tr><tr><th>6</th><td>Percentil equiponderado 77.25</td><td>0.984079</td></tr><tr><th>7</th><td>Percentil ponderado 80.96</td><td>0.973637</td></tr></tbody></table></div>"
      ],
      "text/latex": [
       "\\begin{tabular}{r|cc}\n",
       "\t& measure & corr\\\\\n",
       "\t\\hline\n",
       "\t& String? & Float32?\\\\\n",
       "\t\\hline\n",
       "\t1 & MAI óptima de correlación 2018 & 0.985625 \\\\\n",
       "\t2 & Inflación de exclusión dinámica (0.47, 4.97) & 0.976798 \\\\\n",
       "\t3 & Exclusión fija de gastos básicos IPC (12, 52) & 0.977486 \\\\\n",
       "\t4 & Media Truncada Equiponderada (55.91, 92.18) & 0.985724 \\\\\n",
       "\t5 & Media Truncada Ponderada (46.44, 98.55) & 0.977656 \\\\\n",
       "\t6 & Percentil equiponderado 77.25 & 0.984079 \\\\\n",
       "\t7 & Percentil ponderado 80.96 & 0.973637 \\\\\n",
       "\\end{tabular}\n"
      ],
      "text/plain": [
       "\u001b[1m7×2 DataFrame\u001b[0m\n",
       "\u001b[1m Row \u001b[0m│\u001b[1m measure                           \u001b[0m\u001b[1m corr     \u001b[0m\n",
       "\u001b[1m     \u001b[0m│\u001b[90m String?                           \u001b[0m\u001b[90m Float32? \u001b[0m\n",
       "─────┼─────────────────────────────────────────────\n",
       "   1 │ MAI óptima de correlación 2018     0.985625\n",
       "   2 │ Inflación de exclusión dinámica …  0.976798\n",
       "   3 │ Exclusión fija de gastos básicos…  0.977486\n",
       "   4 │ Media Truncada Equiponderada (55…  0.985724\n",
       "   5 │ Media Truncada Ponderada (46.44,…  0.977656\n",
       "   6 │ Percentil equiponderado 77.25      0.984079\n",
       "   7 │ Percentil ponderado 80.96          0.973637"
      ]
     },
     "metadata": {},
     "output_type": "display_data"
    }
   ],
   "source": [
    "# Se utiliza solamente :corr porque se desea únicament el período completo de\n",
    "# estos datos (hasta dic-18) para obtener las métricas de optimización\n",
    "select(df_results, :measure, :corr)"
   ]
  },
  {
   "cell_type": "markdown",
   "metadata": {},
   "source": [
    "### Métricas de la combinación óptima CORR en período de optimización"
   ]
  },
  {
   "cell_type": "code",
   "execution_count": 21,
   "metadata": {},
   "outputs": [],
   "source": [
    "# DataFrame de combinación \n",
    "combine_df = @chain df_results begin \n",
    "    select(:measure, :corr, :me, :inflfn, \n",
    "        :path => ByRow(p -> joinpath(tray_dir, basename(p))) => :tray_path)\n",
    "    sort(:corr)\n",
    "end\n",
    "combine_df = leftjoin(combine_df, components_df, on = :measure)\n",
    "combine_df\n",
    "\n",
    "## Obtener las trayectorias de los archivos guardados en el directorio tray_infl \n",
    "# Genera un arreglo de 3 dimensiones de trayectorias (T, n, K)\n",
    "tray_infl = mapreduce(hcat, combine_df.tray_path) do path\n",
    "    load(path, \"tray_infl\")\n",
    "end\n",
    "\n",
    "functions = combine_df.inflfn\n",
    "components_mask = [!(fn isa InflationFixedExclusionCPI) for fn in functions];"
   ]
  },
  {
   "cell_type": "code",
   "execution_count": 24,
   "metadata": {},
   "outputs": [],
   "source": [
    "# Obtener el parámetro\n",
    "resamplefn = df_results[1, :resamplefn]\n",
    "trendfn = df_results[1, :trendfn]\n",
    "paramfn = df_results[1, :paramfn]\n",
    "param = InflationParameter(paramfn, resamplefn, trendfn)\n",
    "tray_infl_pob = param(gtdata_eval);"
   ]
  },
  {
   "cell_type": "code",
   "execution_count": 27,
   "metadata": {},
   "outputs": [
    {
     "data": {
      "text/html": [
       "<div class=\"data-frame\"><p>1 rows × 2 columns</p><table class=\"data-frame\"><thead><tr><th></th><th>measure</th><th>opt18_corr</th></tr><tr><th></th><th title=\"String\">String</th><th title=\"Float32\">Float32</th></tr></thead><tbody><tr><th>1</th><td>Subyacente óptima CORR 2022</td><td>0.986085</td></tr></tbody></table></div>"
      ],
      "text/latex": [
       "\\begin{tabular}{r|cc}\n",
       "\t& measure & opt18\\_corr\\\\\n",
       "\t\\hline\n",
       "\t& String & Float32\\\\\n",
       "\t\\hline\n",
       "\t1 & Subyacente óptima CORR 2022 & 0.986085 \\\\\n",
       "\\end{tabular}\n"
      ],
      "text/plain": [
       "\u001b[1m1×2 DataFrame\u001b[0m\n",
       "\u001b[1m Row \u001b[0m│\u001b[1m measure                     \u001b[0m\u001b[1m opt18_corr \u001b[0m\n",
       "\u001b[1m     \u001b[0m│\u001b[90m String                      \u001b[0m\u001b[90m Float32    \u001b[0m\n",
       "─────┼─────────────────────────────────────────\n",
       "   1 │ Subyacente óptima CORR 2022    0.986085"
      ]
     },
     "metadata": {},
     "output_type": "display_data"
    }
   ],
   "source": [
    "# Pesos de la combinación óptima\n",
    "corr_weights = combine_df.weights\n",
    "\n",
    "EVAL_PERIODS = [EvalPeriod(Date(2001, 12), Date(2018, 12), \"opt18\")]\n",
    "\n",
    "comb_metrics = mapreduce(merge, EVAL_PERIODS) do period\n",
    "    # Ventana de evaluación\n",
    "    eval_window = eval_periods(gtdata_eval, period)\n",
    "    # Trayectorias combinadas\n",
    "    tray_infl_opt = sum(tray_infl[eval_window, :, :] .* corr_weights', dims=2)\n",
    "    metrics = eval_metrics(tray_infl_opt, tray_infl_pob[eval_window], prefix = period_tag(period))\n",
    "end\n",
    "\n",
    "# Obtener un DataFrame de métricas de la combinación lineal CORR\n",
    "comb_metrics_df = DataFrame(comb_metrics)\n",
    "comb_metrics_df[!, :measure] .= measure_name(optcorr2022)\n",
    "select(comb_metrics_df, :measure, r\"corr\")"
   ]
  },
  {
   "cell_type": "code",
   "execution_count": 31,
   "metadata": {},
   "outputs": [
    {
     "data": {
      "text/html": [
       "<div class=\"data-frame\"><p>8 rows × 2 columns</p><table class=\"data-frame\"><thead><tr><th></th><th>measure</th><th>opt18_corr</th></tr><tr><th></th><th title=\"Union{Missing, String}\">String?</th><th title=\"Union{Missing, Float32}\">Float32?</th></tr></thead><tbody><tr><th>1</th><td>MAI óptima de correlación 2018</td><td>0.985625</td></tr><tr><th>2</th><td>Inflación de exclusión dinámica (0.47, 4.97)</td><td>0.976798</td></tr><tr><th>3</th><td>Exclusión fija de gastos básicos IPC (12, 52)</td><td>0.977486</td></tr><tr><th>4</th><td>Media Truncada Equiponderada (55.91, 92.18)</td><td>0.985724</td></tr><tr><th>5</th><td>Media Truncada Ponderada (46.44, 98.55)</td><td>0.977656</td></tr><tr><th>6</th><td>Percentil equiponderado 77.25</td><td>0.984079</td></tr><tr><th>7</th><td>Percentil ponderado 80.96</td><td>0.973637</td></tr><tr><th>8</th><td>Subyacente óptima CORR 2022</td><td>0.986085</td></tr></tbody></table></div>"
      ],
      "text/latex": [
       "\\begin{tabular}{r|cc}\n",
       "\t& measure & opt18\\_corr\\\\\n",
       "\t\\hline\n",
       "\t& String? & Float32?\\\\\n",
       "\t\\hline\n",
       "\t1 & MAI óptima de correlación 2018 & 0.985625 \\\\\n",
       "\t2 & Inflación de exclusión dinámica (0.47, 4.97) & 0.976798 \\\\\n",
       "\t3 & Exclusión fija de gastos básicos IPC (12, 52) & 0.977486 \\\\\n",
       "\t4 & Media Truncada Equiponderada (55.91, 92.18) & 0.985724 \\\\\n",
       "\t5 & Media Truncada Ponderada (46.44, 98.55) & 0.977656 \\\\\n",
       "\t6 & Percentil equiponderado 77.25 & 0.984079 \\\\\n",
       "\t7 & Percentil ponderado 80.96 & 0.973637 \\\\\n",
       "\t8 & Subyacente óptima CORR 2022 & 0.986085 \\\\\n",
       "\\end{tabular}\n"
      ],
      "text/plain": [
       "\u001b[1m8×2 DataFrame\u001b[0m\n",
       "\u001b[1m Row \u001b[0m│\u001b[1m measure                           \u001b[0m\u001b[1m opt18_corr \u001b[0m\n",
       "\u001b[1m     \u001b[0m│\u001b[90m String?                           \u001b[0m\u001b[90m Float32?   \u001b[0m\n",
       "─────┼───────────────────────────────────────────────\n",
       "   1 │ MAI óptima de correlación 2018       0.985625\n",
       "   2 │ Inflación de exclusión dinámica …    0.976798\n",
       "   3 │ Exclusión fija de gastos básicos…    0.977486\n",
       "   4 │ Media Truncada Equiponderada (55…    0.985724\n",
       "   5 │ Media Truncada Ponderada (46.44,…    0.977656\n",
       "   6 │ Percentil equiponderado 77.25        0.984079\n",
       "   7 │ Percentil ponderado 80.96            0.973637\n",
       "   8 │ Subyacente óptima CORR 2022          0.986085"
      ]
     },
     "metadata": {},
     "output_type": "display_data"
    }
   ],
   "source": [
    "# Combinar todas las métricas en período de optimización \n",
    "optim_period_df = [\n",
    "    select(df_results, :measure, :corr => :opt18_corr); \n",
    "    select(comb_metrics_df, :measure, r\"corr\")\n",
    "]"
   ]
  },
  {
   "cell_type": "markdown",
   "metadata": {},
   "source": [
    "## Combinar las métricas en un DataFrame de salida"
   ]
  },
  {
   "cell_type": "code",
   "execution_count": 43,
   "metadata": {},
   "outputs": [
    {
     "data": {
      "text/html": [
       "<div class=\"data-frame\"><p>8 rows × 6 columns (omitted printing of 2 columns)</p><table class=\"data-frame\"><thead><tr><th></th><th>measure</th><th>gt_b00_corr</th><th>gt_t0010_corr</th><th>gt_b10_corr</th></tr><tr><th></th><th title=\"Union{Missing, String}\">String?</th><th title=\"Union{Missing, Float32}\">Float32?</th><th title=\"Union{Missing, Float32}\">Float32?</th><th title=\"Union{Missing, Float32}\">Float32?</th></tr></thead><tbody><tr><th>1</th><td>MAI óptima de correlación 2018</td><td>0.971953</td><td>0.980825</td><td>0.876439</td></tr><tr><th>2</th><td>Inflación de exclusión dinámica (0.47, 4.97)</td><td>0.940207</td><td>0.972252</td><td>0.722675</td></tr><tr><th>3</th><td>Exclusión fija de gastos básicos IPC (12, 52)</td><td>0.946636</td><td>0.969423</td><td>0.613</td></tr><tr><th>4</th><td>Media Truncada Equiponderada (55.91, 92.18)</td><td>0.9722</td><td>0.978092</td><td>0.872161</td></tr><tr><th>5</th><td>Media Truncada Ponderada (46.44, 98.55)</td><td>0.942932</td><td>0.972701</td><td>0.734026</td></tr><tr><th>6</th><td>Percentil equiponderado 77.25</td><td>0.968672</td><td>0.978261</td><td>0.871594</td></tr><tr><th>7</th><td>Percentil ponderado 80.96</td><td>0.932154</td><td>0.974553</td><td>0.756394</td></tr><tr><th>8</th><td>Subyacente óptima CORR 2022</td><td>0.972561</td><td>0.979512</td><td>0.876094</td></tr></tbody></table></div>"
      ],
      "text/latex": [
       "\\begin{tabular}{r|ccccc}\n",
       "\t& measure & gt\\_b00\\_corr & gt\\_t0010\\_corr & gt\\_b10\\_corr & \\\\\n",
       "\t\\hline\n",
       "\t& String? & Float32? & Float32? & Float32? & \\\\\n",
       "\t\\hline\n",
       "\t1 & MAI óptima de correlación 2018 & 0.971953 & 0.980825 & 0.876439 & $\\dots$ \\\\\n",
       "\t2 & Inflación de exclusión dinámica (0.47, 4.97) & 0.940207 & 0.972252 & 0.722675 & $\\dots$ \\\\\n",
       "\t3 & Exclusión fija de gastos básicos IPC (12, 52) & 0.946636 & 0.969423 & 0.613 & $\\dots$ \\\\\n",
       "\t4 & Media Truncada Equiponderada (55.91, 92.18) & 0.9722 & 0.978092 & 0.872161 & $\\dots$ \\\\\n",
       "\t5 & Media Truncada Ponderada (46.44, 98.55) & 0.942932 & 0.972701 & 0.734026 & $\\dots$ \\\\\n",
       "\t6 & Percentil equiponderado 77.25 & 0.968672 & 0.978261 & 0.871594 & $\\dots$ \\\\\n",
       "\t7 & Percentil ponderado 80.96 & 0.932154 & 0.974553 & 0.756394 & $\\dots$ \\\\\n",
       "\t8 & Subyacente óptima CORR 2022 & 0.972561 & 0.979512 & 0.876094 & $\\dots$ \\\\\n",
       "\\end{tabular}\n"
      ],
      "text/plain": [
       "\u001b[1m8×6 DataFrame\u001b[0m\n",
       "\u001b[1m Row \u001b[0m│\u001b[1m measure                           \u001b[0m\u001b[1m gt_b00_corr \u001b[0m\u001b[1m gt_t0010_corr \u001b[0m\u001b[1m gt_b10_c\u001b[0m ⋯\n",
       "\u001b[1m     \u001b[0m│\u001b[90m String?                           \u001b[0m\u001b[90m Float32?    \u001b[0m\u001b[90m Float32?      \u001b[0m\u001b[90m Float32?\u001b[0m ⋯\n",
       "─────┼──────────────────────────────────────────────────────────────────────────\n",
       "   1 │ MAI óptima de correlación 2018        0.971953       0.980825     0.876 ⋯\n",
       "   2 │ Inflación de exclusión dinámica …     0.940207       0.972252     0.722\n",
       "   3 │ Exclusión fija de gastos básicos…     0.946636       0.969423     0.613\n",
       "   4 │ Media Truncada Equiponderada (55…     0.9722         0.978092     0.872\n",
       "   5 │ Media Truncada Ponderada (46.44,…     0.942932       0.972701     0.734 ⋯\n",
       "   6 │ Percentil equiponderado 77.25         0.968672       0.978261     0.871\n",
       "   7 │ Percentil ponderado 80.96             0.932154       0.974553     0.756\n",
       "   8 │ Subyacente óptima CORR 2022           0.972561       0.979512     0.876\n",
       "\u001b[36m                                                               3 columns omitted\u001b[0m"
      ]
     },
     "metadata": {},
     "output_type": "display_data"
    }
   ],
   "source": [
    "final_df = leftjoin(historic_df, optim_period_df, on=:measure)"
   ]
  },
  {
   "cell_type": "code",
   "execution_count": 39,
   "metadata": {},
   "outputs": [
    {
     "name": "stderr",
     "output_type": "stream",
     "text": [
      "┌ Info: Saving file with ISO-8859-1\n",
      "│   file = c:\\Users\\RRCP\\Documents\\HEMI\\HEMI\\data\\updates\\metrics\\optcorr2022_metrics.csv\n",
      "└ @ Main c:\\Users\\RRCP\\Documents\\HEMI\\HEMI\\notebooks\\historic-combination-metrics\\corr-combination-metrics.ipynb:4\n"
     ]
    },
    {
     "data": {
      "text/plain": [
       "StringEncoder{UTF-8, ISO-8859-1}(IOStream(<file c:\\Users\\RRCP\\Documents\\HEMI\\HEMI\\data\\updates\\metrics\\optcorr2022_metrics.csv>))"
      ]
     },
     "metadata": {},
     "output_type": "display_data"
    }
   ],
   "source": [
    "# Guardar los resultados en un archivo CSV\n",
    "function save_csv(file::AbstractString, df::DataFrame)\n",
    "    encoding = enc\"ISO-8859-1\"\n",
    "    @info \"Saving file with $encoding\" file\n",
    "    open(file, encoding, \"w\") do io \n",
    "        CSV.write(io, df)\n",
    "    end\n",
    "end\n",
    "\n",
    "metrics_savepath = mkpath(datadir(\"updates\", \"metrics\"))\n",
    "save_csv(\n",
    "    joinpath(metrics_savepath, \"optcorr2022_metrics.csv\"),\n",
    "    final_df\n",
    ")"
   ]
  },
  {
   "cell_type": "code",
   "execution_count": null,
   "metadata": {},
   "outputs": [],
   "source": []
  }
 ],
 "metadata": {
  "kernelspec": {
   "display_name": "Julia 1.6.5",
   "language": "julia",
   "name": "julia-1.6"
  },
  "language_info": {
   "file_extension": ".jl",
   "mimetype": "application/julia",
   "name": "julia",
   "version": "1.6.5"
  },
  "orig_nbformat": 4
 },
 "nbformat": 4,
 "nbformat_minor": 2
}
