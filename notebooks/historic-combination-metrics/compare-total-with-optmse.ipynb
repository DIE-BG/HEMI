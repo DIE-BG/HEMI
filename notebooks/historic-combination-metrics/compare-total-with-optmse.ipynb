{
 "cells": [
  {
   "cell_type": "code",
   "execution_count": 3,
   "metadata": {},
   "outputs": [],
   "source": [
    "using DrWatson\n",
    "@quickactivate :HEMI \n",
    "using DataFrames"
   ]
  },
  {
   "cell_type": "code",
   "execution_count": 4,
   "metadata": {},
   "outputs": [
    {
     "data": {
      "text/plain": [
       "(::InflationTotalCPI) (generic function with 6 methods)"
      ]
     },
     "metadata": {},
     "output_type": "display_data"
    }
   ],
   "source": [
    "inflfn = InflationTotalCPI() "
   ]
  },
  {
   "cell_type": "code",
   "execution_count": 5,
   "metadata": {},
   "outputs": [
    {
     "data": {
      "text/html": [
       "<div class=\"data-frame\"><p>7 rows × 2 columns</p><table class=\"data-frame\"><thead><tr><th></th><th>measure</th><th>weights</th></tr><tr><th></th><th title=\"String\">String</th><th title=\"Float32\">Float32</th></tr></thead><tbody><tr><th>1</th><td>Percentil equiponderado 72.4</td><td>4.07182e-6</td></tr><tr><th>2</th><td>Percentil ponderado 70.0</td><td>1.64225e-6</td></tr><tr><th>3</th><td>Media Truncada Equiponderada (58.76, 83.15)</td><td>0.727412</td></tr><tr><th>4</th><td>Media Truncada Ponderada (21.0, 95.89)</td><td>4.53039e-6</td></tr><tr><th>5</th><td>Inflación de exclusión dinámica (0.32, 1.68)</td><td>0.0160966</td></tr><tr><th>6</th><td>MAI óptima MSE 2018</td><td>0.256481</td></tr><tr><th>7</th><td>Exclusión fija de gastos básicos IPC (14, 14)</td><td>0.0</td></tr></tbody></table></div>"
      ],
      "text/latex": [
       "\\begin{tabular}{r|cc}\n",
       "\t& measure & weights\\\\\n",
       "\t\\hline\n",
       "\t& String & Float32\\\\\n",
       "\t\\hline\n",
       "\t1 & Percentil equiponderado 72.4 & 4.07182e-6 \\\\\n",
       "\t2 & Percentil ponderado 70.0 & 1.64225e-6 \\\\\n",
       "\t3 & Media Truncada Equiponderada (58.76, 83.15) & 0.727412 \\\\\n",
       "\t4 & Media Truncada Ponderada (21.0, 95.89) & 4.53039e-6 \\\\\n",
       "\t5 & Inflación de exclusión dinámica (0.32, 1.68) & 0.0160966 \\\\\n",
       "\t6 & MAI óptima MSE 2018 & 0.256481 \\\\\n",
       "\t7 & Exclusión fija de gastos básicos IPC (14, 14) & 0.0 \\\\\n",
       "\\end{tabular}\n"
      ],
      "text/plain": [
       "\u001b[1m7×2 DataFrame\u001b[0m\n",
       "\u001b[1m Row \u001b[0m│\u001b[1m measure                           \u001b[0m\u001b[1m weights    \u001b[0m\n",
       "\u001b[1m     \u001b[0m│\u001b[90m String                            \u001b[0m\u001b[90m Float32    \u001b[0m\n",
       "─────┼───────────────────────────────────────────────\n",
       "   1 │ Percentil equiponderado 72.4       4.07182e-6\n",
       "   2 │ Percentil ponderado 70.0           1.64225e-6\n",
       "   3 │ Media Truncada Equiponderada (58…  0.727412\n",
       "   4 │ Media Truncada Ponderada (21.0, …  4.53039e-6\n",
       "   5 │ Inflación de exclusión dinámica …  0.0160966\n",
       "   6 │ MAI óptima MSE 2018                0.256481\n",
       "   7 │ Exclusión fija de gastos básicos…  0.0"
      ]
     },
     "metadata": {},
     "output_type": "display_data"
    }
   ],
   "source": [
    "config_savepath = datadir(\"results\", \"mse-combination\", \"Esc-E-Scramble-OptMAI\")\n",
    "optmse2022 = wload(datadir(config_savepath, \"optmse2022\", \"optmse2022.jld2\"), \"optmse2022\")\n",
    "components_df = components(optmse2022)"
   ]
  },
  {
   "cell_type": "code",
   "execution_count": 9,
   "metadata": {},
   "outputs": [
    {
     "data": {
      "text/html": [
       "<div class=\"data-frame\"><p>10 rows × 3 columns</p><table class=\"data-frame\"><thead><tr><th></th><th>date</th><th>totalcpi</th><th>optmse</th></tr><tr><th></th><th title=\"Date\">Date</th><th title=\"Float32\">Float32</th><th title=\"Float32\">Float32</th></tr></thead><tbody><tr><th>1</th><td>2021-03-01</td><td>5.84623</td><td>2.60981</td></tr><tr><th>2</th><td>2021-04-01</td><td>5.20449</td><td>2.69356</td></tr><tr><th>3</th><td>2021-05-01</td><td>5.17679</td><td>2.75212</td></tr><tr><th>4</th><td>2021-06-01</td><td>3.91004</td><td>2.75227</td></tr><tr><th>5</th><td>2021-07-01</td><td>3.8115</td><td>2.82665</td></tr><tr><th>6</th><td>2021-08-01</td><td>3.6111</td><td>2.98879</td></tr><tr><th>7</th><td>2021-09-01</td><td>3.67429</td><td>3.07315</td></tr><tr><th>8</th><td>2021-10-01</td><td>2.95445</td><td>3.2741</td></tr><tr><th>9</th><td>2021-11-01</td><td>2.88209</td><td>3.58559</td></tr><tr><th>10</th><td>2021-12-01</td><td>3.06683</td><td>3.90026</td></tr></tbody></table></div>"
      ],
      "text/latex": [
       "\\begin{tabular}{r|ccc}\n",
       "\t& date & totalcpi & optmse\\\\\n",
       "\t\\hline\n",
       "\t& Date & Float32 & Float32\\\\\n",
       "\t\\hline\n",
       "\t1 & 2021-03-01 & 5.84623 & 2.60981 \\\\\n",
       "\t2 & 2021-04-01 & 5.20449 & 2.69356 \\\\\n",
       "\t3 & 2021-05-01 & 5.17679 & 2.75212 \\\\\n",
       "\t4 & 2021-06-01 & 3.91004 & 2.75227 \\\\\n",
       "\t5 & 2021-07-01 & 3.8115 & 2.82665 \\\\\n",
       "\t6 & 2021-08-01 & 3.6111 & 2.98879 \\\\\n",
       "\t7 & 2021-09-01 & 3.67429 & 3.07315 \\\\\n",
       "\t8 & 2021-10-01 & 2.95445 & 3.2741 \\\\\n",
       "\t9 & 2021-11-01 & 2.88209 & 3.58559 \\\\\n",
       "\t10 & 2021-12-01 & 3.06683 & 3.90026 \\\\\n",
       "\\end{tabular}\n"
      ],
      "text/plain": [
       "\u001b[1m10×3 DataFrame\u001b[0m\n",
       "\u001b[1m Row \u001b[0m│\u001b[1m date       \u001b[0m\u001b[1m totalcpi \u001b[0m\u001b[1m optmse  \u001b[0m\n",
       "\u001b[1m     \u001b[0m│\u001b[90m Date       \u001b[0m\u001b[90m Float32  \u001b[0m\u001b[90m Float32 \u001b[0m\n",
       "─────┼───────────────────────────────\n",
       "   1 │ 2021-03-01   5.84623  2.60981\n",
       "   2 │ 2021-04-01   5.20449  2.69356\n",
       "   3 │ 2021-05-01   5.17679  2.75212\n",
       "   4 │ 2021-06-01   3.91004  2.75227\n",
       "   5 │ 2021-07-01   3.8115   2.82665\n",
       "   6 │ 2021-08-01   3.6111   2.98879\n",
       "   7 │ 2021-09-01   3.67429  3.07315\n",
       "   8 │ 2021-10-01   2.95445  3.2741\n",
       "   9 │ 2021-11-01   2.88209  3.58559\n",
       "  10 │ 2021-12-01   3.06683  3.90026"
      ]
     },
     "metadata": {},
     "output_type": "display_data"
    }
   ],
   "source": [
    "df = DataFrame(\n",
    "    date = infl_dates(gtdata),\n",
    "    totalcpi = inflfn(gtdata), \n",
    "    optmse = optmse2022(gtdata)\n",
    ")\n",
    "\n",
    "last(df, 10)"
   ]
  },
  {
   "cell_type": "code",
   "execution_count": 7,
   "metadata": {},
   "outputs": [],
   "source": []
  }
 ],
 "metadata": {
  "kernelspec": {
   "display_name": "Julia 1.6.5",
   "language": "julia",
   "name": "julia-1.6"
  },
  "language_info": {
   "file_extension": ".jl",
   "mimetype": "application/julia",
   "name": "julia",
   "version": "1.6.5"
  },
  "orig_nbformat": 4
 },
 "nbformat": 4,
 "nbformat_minor": 2
}
