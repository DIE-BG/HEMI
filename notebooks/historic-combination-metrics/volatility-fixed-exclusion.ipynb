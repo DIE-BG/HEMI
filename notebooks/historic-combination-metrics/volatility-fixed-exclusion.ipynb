{
 "cells": [
  {
   "cell_type": "code",
   "execution_count": 81,
   "metadata": {},
   "outputs": [],
   "source": [
    "using DrWatson\n",
    "@quickactivate \"HEMI\" \n",
    "using HEMI \n",
    "using DataFrames, Chain, CSV, StringEncodings\n",
    "using Plots"
   ]
  },
  {
   "cell_type": "code",
   "execution_count": 82,
   "metadata": {},
   "outputs": [
    {
     "data": {
      "text/plain": [
       "save_csv (generic function with 1 method)"
      ]
     },
     "metadata": {},
     "output_type": "display_data"
    }
   ],
   "source": [
    "function save_csv(file::AbstractString, df::DataFrame)\n",
    "    encoding = enc\"ISO-8859-1\"\n",
    "    @info \"Saving file with $encoding\" file\n",
    "    open(file, encoding, \"w\") do io \n",
    "        CSV.write(io, df)\n",
    "    end\n",
    "end"
   ]
  },
  {
   "cell_type": "code",
   "execution_count": 83,
   "metadata": {},
   "outputs": [
    {
     "data": {
      "text/plain": [
       "\"c:\\\\Users\\\\RRCP\\\\Documents\\\\HEMI\\\\HEMI\\\\data\\\\updates\\\\volatility\""
      ]
     },
     "metadata": {},
     "output_type": "display_data"
    }
   ],
   "source": [
    "savepath = mkpath(datadir(\"updates\", \"volatility\"))"
   ]
  },
  {
   "cell_type": "code",
   "execution_count": 84,
   "metadata": {},
   "outputs": [
    {
     "data": {
      "text/plain": [
       "UniformCountryStructure{2, Float32, Float32} con 2 bases\n",
       "|─> VarCPIBase{Float32, Float32}: 120 períodos × 218 gastos básicos Jan-2001-Dec-2010\n",
       "|─> VarCPIBase{Float32, Float32}: 120 períodos × 279 gastos básicos Jan-2011-Dec-2020\n"
      ]
     },
     "metadata": {},
     "output_type": "display_data"
    }
   ],
   "source": [
    "gtdata_eval = gtdata[Date(2020,12)]"
   ]
  },
  {
   "cell_type": "code",
   "execution_count": 85,
   "metadata": {},
   "outputs": [],
   "source": [
    "gt00gb = CSV.read(datadir(\"guatemala\", \"Guatemala_GB_2000.csv\"), \n",
    "    DataFrame, types=[String, String, Float64])\n",
    "gt10gb = CSV.read(datadir(\"guatemala\", \"Guatemala_GB_2010.csv\"), \n",
    "    DataFrame, types=[String, String, Float64]);"
   ]
  },
  {
   "cell_type": "markdown",
   "metadata": {},
   "source": [
    "## Volatilidad de optimización"
   ]
  },
  {
   "cell_type": "code",
   "execution_count": 86,
   "metadata": {},
   "outputs": [
    {
     "data": {
      "text/plain": [
       "1×279 Matrix{Float32}:\n",
       " 2.59312  3.88857  9.25578  1.37753  …  2.12469  1.21573  2.49149  1.57847"
      ]
     },
     "metadata": {},
     "output_type": "display_data"
    }
   ],
   "source": [
    "vol_00 = std(gtdata_eval[1].v |> capitalize |> varinteran, dims=1)\n",
    "vol_10 = std(gtdata_eval[2].v |> capitalize |> varinteran, dims=1)"
   ]
  },
  {
   "cell_type": "markdown",
   "metadata": {},
   "source": [
    "## Medidas de exclusión fija óptima MSE"
   ]
  },
  {
   "cell_type": "code",
   "execution_count": 87,
   "metadata": {},
   "outputs": [
    {
     "data": {
      "text/html": [
       "<div class=\"data-frame\"><p>7 rows × 2 columns</p><table class=\"data-frame\"><thead><tr><th></th><th>measure</th><th>weights</th></tr><tr><th></th><th title=\"String\">String</th><th title=\"Float32\">Float32</th></tr></thead><tbody><tr><th>1</th><td>Percentil equiponderado 72.4</td><td>4.07182e-6</td></tr><tr><th>2</th><td>Percentil ponderado 70.0</td><td>1.64225e-6</td></tr><tr><th>3</th><td>Media Truncada Equiponderada (58.76, 83.15)</td><td>0.727412</td></tr><tr><th>4</th><td>Media Truncada Ponderada (21.0, 95.89)</td><td>4.53039e-6</td></tr><tr><th>5</th><td>Inflación de exclusión dinámica (0.32, 1.68)</td><td>0.0160966</td></tr><tr><th>6</th><td>MAI óptima MSE 2018</td><td>0.256481</td></tr><tr><th>7</th><td>Exclusión fija de gastos básicos IPC (14, 14)</td><td>0.0</td></tr></tbody></table></div>"
      ],
      "text/latex": [
       "\\begin{tabular}{r|cc}\n",
       "\t& measure & weights\\\\\n",
       "\t\\hline\n",
       "\t& String & Float32\\\\\n",
       "\t\\hline\n",
       "\t1 & Percentil equiponderado 72.4 & 4.07182e-6 \\\\\n",
       "\t2 & Percentil ponderado 70.0 & 1.64225e-6 \\\\\n",
       "\t3 & Media Truncada Equiponderada (58.76, 83.15) & 0.727412 \\\\\n",
       "\t4 & Media Truncada Ponderada (21.0, 95.89) & 4.53039e-6 \\\\\n",
       "\t5 & Inflación de exclusión dinámica (0.32, 1.68) & 0.0160966 \\\\\n",
       "\t6 & MAI óptima MSE 2018 & 0.256481 \\\\\n",
       "\t7 & Exclusión fija de gastos básicos IPC (14, 14) & 0.0 \\\\\n",
       "\\end{tabular}\n"
      ],
      "text/plain": [
       "\u001b[1m7×2 DataFrame\u001b[0m\n",
       "\u001b[1m Row \u001b[0m│\u001b[1m measure                           \u001b[0m\u001b[1m weights    \u001b[0m\n",
       "\u001b[1m     \u001b[0m│\u001b[90m String                            \u001b[0m\u001b[90m Float32    \u001b[0m\n",
       "─────┼───────────────────────────────────────────────\n",
       "   1 │ Percentil equiponderado 72.4       4.07182e-6\n",
       "   2 │ Percentil ponderado 70.0           1.64225e-6\n",
       "   3 │ Media Truncada Equiponderada (58…  0.727412\n",
       "   4 │ Media Truncada Ponderada (21.0, …  4.53039e-6\n",
       "   5 │ Inflación de exclusión dinámica …  0.0160966\n",
       "   6 │ MAI óptima MSE 2018                0.256481\n",
       "   7 │ Exclusión fija de gastos básicos…  0.0"
      ]
     },
     "metadata": {},
     "output_type": "display_data"
    }
   ],
   "source": [
    "optmse2022 = wload(datadir(\"results\", \"mse-combination\", \"Esc-E-Scramble-OptMAI\", \"optmse2022\", \"optmse2022.jld2\"), \"optmse2022\")\n",
    "components(optmse2022)"
   ]
  },
  {
   "cell_type": "code",
   "execution_count": 88,
   "metadata": {},
   "outputs": [
    {
     "data": {
      "text/plain": [
       "([35, 30, 190, 36, 37, 40, 31, 104, 162, 32, 33, 159, 193, 161], [29, 116, 31, 46, 39, 40, 186, 30, 35, 185, 197, 34, 48, 184])"
      ]
     },
     "metadata": {},
     "output_type": "display_data"
    }
   ],
   "source": [
    "optmse_fns = optmse2022.ensemble.functions\n",
    "fixed_mask = [fn isa InflationFixedExclusionCPI for fn in optmse_fns]\n",
    "fix_fn = optmse_fns[fixed_mask][1]\n",
    "\n",
    "exc_00, exc_10 = fix_fn.v_exc"
   ]
  },
  {
   "cell_type": "code",
   "execution_count": 89,
   "metadata": {},
   "outputs": [
    {
     "data": {
      "text/html": [
       "<div class=\"data-frame\"><p>14 rows × 4 columns (omitted printing of 2 columns)</p><table class=\"data-frame\"><thead><tr><th></th><th>index</th><th>GastoBasico</th></tr><tr><th></th><th title=\"Int64\">Int64</th><th title=\"String\">String</th></tr></thead><tbody><tr><th>1</th><td>35</td><td>Cebolla</td></tr><tr><th>2</th><td>30</td><td>Tomate</td></tr><tr><th>3</th><td>190</td><td>Otras cuotas fijas y extraordinarias en la educaión preprimaria y primaria</td></tr><tr><th>4</th><td>36</td><td>Papa o patata</td></tr><tr><th>5</th><td>37</td><td>Zanahoria</td></tr><tr><th>6</th><td>40</td><td>Culantro o cilantro</td></tr><tr><th>7</th><td>31</td><td>Güisquil</td></tr><tr><th>8</th><td>104</td><td>Gastos derivados del gas manufacturado y natural y gases licuados del petróleo</td></tr><tr><th>9</th><td>162</td><td>Transporte aéreo</td></tr><tr><th>10</th><td>32</td><td>Otras verduras y hortalizas</td></tr><tr><th>11</th><td>33</td><td>Frijol</td></tr><tr><th>12</th><td>159</td><td>Gasolina</td></tr><tr><th>13</th><td>193</td><td>Otras cuotas fijas y extraordinarios en la educación secundaria</td></tr><tr><th>14</th><td>161</td><td>Transporte urbano</td></tr></tbody></table></div>"
      ],
      "text/latex": [
       "\\begin{tabular}{r|ccc}\n",
       "\t& index & GastoBasico & \\\\\n",
       "\t\\hline\n",
       "\t& Int64 & String & \\\\\n",
       "\t\\hline\n",
       "\t1 & 35 & Cebolla & $\\dots$ \\\\\n",
       "\t2 & 30 & Tomate & $\\dots$ \\\\\n",
       "\t3 & 190 & Otras cuotas fijas y extraordinarias en la educaión preprimaria y primaria & $\\dots$ \\\\\n",
       "\t4 & 36 & Papa o patata & $\\dots$ \\\\\n",
       "\t5 & 37 & Zanahoria & $\\dots$ \\\\\n",
       "\t6 & 40 & Culantro o cilantro & $\\dots$ \\\\\n",
       "\t7 & 31 & Güisquil & $\\dots$ \\\\\n",
       "\t8 & 104 & Gastos derivados del gas manufacturado y natural y gases licuados del petróleo & $\\dots$ \\\\\n",
       "\t9 & 162 & Transporte aéreo & $\\dots$ \\\\\n",
       "\t10 & 32 & Otras verduras y hortalizas & $\\dots$ \\\\\n",
       "\t11 & 33 & Frijol & $\\dots$ \\\\\n",
       "\t12 & 159 & Gasolina & $\\dots$ \\\\\n",
       "\t13 & 193 & Otras cuotas fijas y extraordinarios en la educación secundaria & $\\dots$ \\\\\n",
       "\t14 & 161 & Transporte urbano & $\\dots$ \\\\\n",
       "\\end{tabular}\n"
      ],
      "text/plain": [
       "\u001b[1m14×4 DataFrame\u001b[0m\n",
       "\u001b[1m Row \u001b[0m│\u001b[1m index \u001b[0m\u001b[1m GastoBasico                       \u001b[0m\n",
       "\u001b[1m     \u001b[0m│\u001b[90m Int64 \u001b[0m\u001b[90m String                            \u001b[0m\n",
       "─────┼────────────────────────────────────────────────\n",
       "   1 │    35  Cebolla\n",
       "   2 │    30  Tomate\n",
       "   3 │   190  Otras cuotas fijas y extraordina…\n",
       "   4 │    36  Papa o patata\n",
       "   5 │    37  Zanahoria\n",
       "   6 │    40  Culantro o cilantro\n",
       "   7 │    31  Güisquil\n",
       "   8 │   104  Gastos derivados del gas manufac…\n",
       "   9 │   162  Transporte aéreo\n",
       "  10 │    32  Otras verduras y hortalizas\n",
       "  11 │    33  Frijol\n",
       "  12 │   159  Gasolina\n",
       "  13 │   193  Otras cuotas fijas y extraordina…\n",
       "  14 │   161  Transporte urbano\n",
       "\u001b[36m                                     2 columns omitted\u001b[0m"
      ]
     },
     "metadata": {},
     "output_type": "display_data"
    }
   ],
   "source": [
    "mse_vol_00 = copy(gt00gb)\n",
    "mse_vol_00[!, :volatility] = vec(vol_00)\n",
    "mse_vol_00[!, :index] = 1:218\n",
    "gbvol_00 = mse_vol_00[exc_00, [:index, :GastoBasico, :volatility, :Ponderacion]]"
   ]
  },
  {
   "cell_type": "code",
   "execution_count": 90,
   "metadata": {},
   "outputs": [
    {
     "data": {
      "text/html": [
       "<div class=\"data-frame\"><p>14 rows × 4 columns</p><table class=\"data-frame\"><thead><tr><th></th><th>index</th><th>GastoBasico</th><th>volatility</th><th>Ponderacion</th></tr><tr><th></th><th title=\"Int64\">Int64</th><th title=\"String\">String</th><th title=\"Float32\">Float32</th><th title=\"Float64\">Float64</th></tr></thead><tbody><tr><th>1</th><td>29</td><td>Tomate</td><td>32.7544</td><td>0.92386</td></tr><tr><th>2</th><td>116</td><td>Gas propano</td><td>27.3757</td><td>1.19963</td></tr><tr><th>3</th><td>31</td><td>Chile pimiento</td><td>27.937</td><td>0.05247</td></tr><tr><th>4</th><td>46</td><td>Culantro</td><td>30.3996</td><td>0.03903</td></tr><tr><th>5</th><td>39</td><td>Cebolla</td><td>29.4752</td><td>0.33668</td></tr><tr><th>6</th><td>40</td><td>Papa</td><td>20.1433</td><td>0.50577</td></tr><tr><th>7</th><td>186</td><td>Diesel</td><td>17.4824</td><td>0.13937</td></tr><tr><th>8</th><td>30</td><td>Güisquil</td><td>17.5603</td><td>0.1709</td></tr><tr><th>9</th><td>35</td><td>Lechuga</td><td>17.1702</td><td>0.03506</td></tr><tr><th>10</th><td>185</td><td>Gasolina regular</td><td>13.9042</td><td>0.6952</td></tr><tr><th>11</th><td>197</td><td>Servicio de transporte aéreo</td><td>16.5078</td><td>0.12482</td></tr><tr><th>12</th><td>34</td><td>Repollo</td><td>13.4328</td><td>0.06225</td></tr><tr><th>13</th><td>48</td><td>Otras legumbres y hortalizas</td><td>13.754</td><td>0.11258</td></tr><tr><th>14</th><td>184</td><td>Gasolina superior</td><td>13.2949</td><td>2.06641</td></tr></tbody></table></div>"
      ],
      "text/latex": [
       "\\begin{tabular}{r|cccc}\n",
       "\t& index & GastoBasico & volatility & Ponderacion\\\\\n",
       "\t\\hline\n",
       "\t& Int64 & String & Float32 & Float64\\\\\n",
       "\t\\hline\n",
       "\t1 & 29 & Tomate & 32.7544 & 0.92386 \\\\\n",
       "\t2 & 116 & Gas propano & 27.3757 & 1.19963 \\\\\n",
       "\t3 & 31 & Chile pimiento & 27.937 & 0.05247 \\\\\n",
       "\t4 & 46 & Culantro & 30.3996 & 0.03903 \\\\\n",
       "\t5 & 39 & Cebolla & 29.4752 & 0.33668 \\\\\n",
       "\t6 & 40 & Papa & 20.1433 & 0.50577 \\\\\n",
       "\t7 & 186 & Diesel & 17.4824 & 0.13937 \\\\\n",
       "\t8 & 30 & Güisquil & 17.5603 & 0.1709 \\\\\n",
       "\t9 & 35 & Lechuga & 17.1702 & 0.03506 \\\\\n",
       "\t10 & 185 & Gasolina regular & 13.9042 & 0.6952 \\\\\n",
       "\t11 & 197 & Servicio de transporte aéreo & 16.5078 & 0.12482 \\\\\n",
       "\t12 & 34 & Repollo & 13.4328 & 0.06225 \\\\\n",
       "\t13 & 48 & Otras legumbres y hortalizas & 13.754 & 0.11258 \\\\\n",
       "\t14 & 184 & Gasolina superior & 13.2949 & 2.06641 \\\\\n",
       "\\end{tabular}\n"
      ],
      "text/plain": [
       "\u001b[1m14×4 DataFrame\u001b[0m\n",
       "\u001b[1m Row \u001b[0m│\u001b[1m index \u001b[0m\u001b[1m GastoBasico                  \u001b[0m\u001b[1m volatility \u001b[0m\u001b[1m Ponderacion \u001b[0m\n",
       "\u001b[1m     \u001b[0m│\u001b[90m Int64 \u001b[0m\u001b[90m String                       \u001b[0m\u001b[90m Float32    \u001b[0m\u001b[90m Float64     \u001b[0m\n",
       "─────┼──────────────────────────────────────────────────────────────\n",
       "   1 │    29  Tomate                           32.7544      0.92386\n",
       "   2 │   116  Gas propano                      27.3757      1.19963\n",
       "   3 │    31  Chile pimiento                   27.937       0.05247\n",
       "   4 │    46  Culantro                         30.3996      0.03903\n",
       "   5 │    39  Cebolla                          29.4752      0.33668\n",
       "   6 │    40  Papa                             20.1433      0.50577\n",
       "   7 │   186  Diesel                           17.4824      0.13937\n",
       "   8 │    30  Güisquil                         17.5603      0.1709\n",
       "   9 │    35  Lechuga                          17.1702      0.03506\n",
       "  10 │   185  Gasolina regular                 13.9042      0.6952\n",
       "  11 │   197  Servicio de transporte aéreo     16.5078      0.12482\n",
       "  12 │    34  Repollo                          13.4328      0.06225\n",
       "  13 │    48  Otras legumbres y hortalizas     13.754       0.11258\n",
       "  14 │   184  Gasolina superior                13.2949      2.06641"
      ]
     },
     "metadata": {},
     "output_type": "display_data"
    }
   ],
   "source": [
    "mse_vol_10 = copy(gt10gb)\n",
    "mse_vol_10[!, :volatility] = vec(vol_10)\n",
    "mse_vol_10[!, :index] = 1:279\n",
    "gbvol_10 = mse_vol_10[exc_10, [:index, :GastoBasico, :volatility, :Ponderacion]]"
   ]
  },
  {
   "cell_type": "code",
   "execution_count": 91,
   "metadata": {},
   "outputs": [
    {
     "name": "stderr",
     "output_type": "stream",
     "text": [
      "┌ Info: Saving file with ISO-8859-1\n",
      "│   file = c:\\Users\\RRCP\\Documents\\HEMI\\HEMI\\data\\updates\\volatility\\mse_00.csv\n",
      "└ @ Main c:\\Users\\RRCP\\Documents\\HEMI\\HEMI\\notebooks\\historic-combination-metrics\\volatility-fixed-exclusion.ipynb:3\n",
      "┌ Info: Saving file with ISO-8859-1\n",
      "│   file = c:\\Users\\RRCP\\Documents\\HEMI\\HEMI\\data\\updates\\volatility\\mse_10.csv\n",
      "└ @ Main c:\\Users\\RRCP\\Documents\\HEMI\\HEMI\\notebooks\\historic-combination-metrics\\volatility-fixed-exclusion.ipynb:3\n"
     ]
    },
    {
     "data": {
      "text/plain": [
       "StringEncoder{UTF-8, ISO-8859-1}(IOStream(<file c:\\Users\\RRCP\\Documents\\HEMI\\HEMI\\data\\updates\\volatility\\mse_10.csv>))"
      ]
     },
     "metadata": {},
     "output_type": "display_data"
    }
   ],
   "source": [
    "save_csv(joinpath(savepath, \"mse_00.csv\"), gbvol_00)\n",
    "save_csv(joinpath(savepath, \"mse_10.csv\"), gbvol_10)"
   ]
  },
  {
   "cell_type": "markdown",
   "metadata": {},
   "source": [
    "## Medidas de exclusión fija óptima ME"
   ]
  },
  {
   "cell_type": "code",
   "execution_count": 92,
   "metadata": {},
   "outputs": [
    {
     "data": {
      "text/html": [
       "<div class=\"data-frame\"><p>7 rows × 2 columns</p><table class=\"data-frame\"><thead><tr><th></th><th>measure</th><th>weights</th></tr><tr><th></th><th title=\"String\">String</th><th title=\"Float32\">Float32</th></tr></thead><tbody><tr><th>1</th><td>Media Truncada Equiponderada (35.29, 93.4)</td><td>0.407029</td></tr><tr><th>2</th><td>MAI óptima de absme 2018</td><td>0.0598154</td></tr><tr><th>3</th><td>Media Truncada Ponderada (34.19, 93.0)</td><td>0.133195</td></tr><tr><th>4</th><td>Inflación de exclusión dinámica (1.03, 3.42)</td><td>0.152838</td></tr><tr><th>5</th><td>Percentil equiponderado 71.63</td><td>0.164859</td></tr><tr><th>6</th><td>Percentil ponderado 69.56</td><td>0.0822618</td></tr><tr><th>7</th><td>Exclusión fija de gastos básicos IPC (9, 6)</td><td>0.0</td></tr></tbody></table></div>"
      ],
      "text/latex": [
       "\\begin{tabular}{r|cc}\n",
       "\t& measure & weights\\\\\n",
       "\t\\hline\n",
       "\t& String & Float32\\\\\n",
       "\t\\hline\n",
       "\t1 & Media Truncada Equiponderada (35.29, 93.4) & 0.407029 \\\\\n",
       "\t2 & MAI óptima de absme 2018 & 0.0598154 \\\\\n",
       "\t3 & Media Truncada Ponderada (34.19, 93.0) & 0.133195 \\\\\n",
       "\t4 & Inflación de exclusión dinámica (1.03, 3.42) & 0.152838 \\\\\n",
       "\t5 & Percentil equiponderado 71.63 & 0.164859 \\\\\n",
       "\t6 & Percentil ponderado 69.56 & 0.0822618 \\\\\n",
       "\t7 & Exclusión fija de gastos básicos IPC (9, 6) & 0.0 \\\\\n",
       "\\end{tabular}\n"
      ],
      "text/plain": [
       "\u001b[1m7×2 DataFrame\u001b[0m\n",
       "\u001b[1m Row \u001b[0m│\u001b[1m measure                           \u001b[0m\u001b[1m weights   \u001b[0m\n",
       "\u001b[1m     \u001b[0m│\u001b[90m String                            \u001b[0m\u001b[90m Float32   \u001b[0m\n",
       "─────┼──────────────────────────────────────────────\n",
       "   1 │ Media Truncada Equiponderada (35…  0.407029\n",
       "   2 │ MAI óptima de absme 2018           0.0598154\n",
       "   3 │ Media Truncada Ponderada (34.19,…  0.133195\n",
       "   4 │ Inflación de exclusión dinámica …  0.152838\n",
       "   5 │ Percentil equiponderado 71.63      0.164859\n",
       "   6 │ Percentil ponderado 69.56          0.0822618\n",
       "   7 │ Exclusión fija de gastos básicos…  0.0"
      ]
     },
     "metadata": {},
     "output_type": "display_data"
    }
   ],
   "source": [
    "optabsme2022 = wload(datadir(\"results\", \"absme-combination\", \"Esc-G\", \"optabsme2022\", \"optabsme2022.jld2\"), \"optabsme2022\")\n",
    "components(optabsme2022)"
   ]
  },
  {
   "cell_type": "code",
   "execution_count": 93,
   "metadata": {},
   "outputs": [
    {
     "data": {
      "text/plain": [
       "([35, 30, 190, 36, 37, 40, 31, 104, 162], [29, 116, 31, 46, 39, 40])"
      ]
     },
     "metadata": {},
     "output_type": "display_data"
    }
   ],
   "source": [
    "optabsme_fns = optabsme2022.ensemble.functions\n",
    "fixed_mask = [fn isa InflationFixedExclusionCPI for fn in optabsme_fns]\n",
    "fix_fn = optabsme_fns[fixed_mask][1]\n",
    "\n",
    "exc_00, exc_10 = fix_fn.v_exc"
   ]
  },
  {
   "cell_type": "code",
   "execution_count": 94,
   "metadata": {},
   "outputs": [
    {
     "data": {
      "text/html": [
       "<div class=\"data-frame\"><p>9 rows × 4 columns (omitted printing of 2 columns)</p><table class=\"data-frame\"><thead><tr><th></th><th>index</th><th>GastoBasico</th></tr><tr><th></th><th title=\"Int64\">Int64</th><th title=\"String\">String</th></tr></thead><tbody><tr><th>1</th><td>35</td><td>Cebolla</td></tr><tr><th>2</th><td>30</td><td>Tomate</td></tr><tr><th>3</th><td>190</td><td>Otras cuotas fijas y extraordinarias en la educaión preprimaria y primaria</td></tr><tr><th>4</th><td>36</td><td>Papa o patata</td></tr><tr><th>5</th><td>37</td><td>Zanahoria</td></tr><tr><th>6</th><td>40</td><td>Culantro o cilantro</td></tr><tr><th>7</th><td>31</td><td>Güisquil</td></tr><tr><th>8</th><td>104</td><td>Gastos derivados del gas manufacturado y natural y gases licuados del petróleo</td></tr><tr><th>9</th><td>162</td><td>Transporte aéreo</td></tr></tbody></table></div>"
      ],
      "text/latex": [
       "\\begin{tabular}{r|ccc}\n",
       "\t& index & GastoBasico & \\\\\n",
       "\t\\hline\n",
       "\t& Int64 & String & \\\\\n",
       "\t\\hline\n",
       "\t1 & 35 & Cebolla & $\\dots$ \\\\\n",
       "\t2 & 30 & Tomate & $\\dots$ \\\\\n",
       "\t3 & 190 & Otras cuotas fijas y extraordinarias en la educaión preprimaria y primaria & $\\dots$ \\\\\n",
       "\t4 & 36 & Papa o patata & $\\dots$ \\\\\n",
       "\t5 & 37 & Zanahoria & $\\dots$ \\\\\n",
       "\t6 & 40 & Culantro o cilantro & $\\dots$ \\\\\n",
       "\t7 & 31 & Güisquil & $\\dots$ \\\\\n",
       "\t8 & 104 & Gastos derivados del gas manufacturado y natural y gases licuados del petróleo & $\\dots$ \\\\\n",
       "\t9 & 162 & Transporte aéreo & $\\dots$ \\\\\n",
       "\\end{tabular}\n"
      ],
      "text/plain": [
       "\u001b[1m9×4 DataFrame\u001b[0m\n",
       "\u001b[1m Row \u001b[0m│\u001b[1m index \u001b[0m\u001b[1m GastoBasico                       \u001b[0m\n",
       "\u001b[1m     \u001b[0m│\u001b[90m Int64 \u001b[0m\u001b[90m String                            \u001b[0m\n",
       "─────┼────────────────────────────────────────────────\n",
       "   1 │    35  Cebolla\n",
       "   2 │    30  Tomate\n",
       "   3 │   190  Otras cuotas fijas y extraordina…\n",
       "   4 │    36  Papa o patata\n",
       "   5 │    37  Zanahoria\n",
       "   6 │    40  Culantro o cilantro\n",
       "   7 │    31  Güisquil\n",
       "   8 │   104  Gastos derivados del gas manufac…\n",
       "   9 │   162  Transporte aéreo\n",
       "\u001b[36m                                     2 columns omitted\u001b[0m"
      ]
     },
     "metadata": {},
     "output_type": "display_data"
    }
   ],
   "source": [
    "mse_vol_00 = copy(gt00gb)\n",
    "mse_vol_00[!, :volatility] = vec(vol_00)\n",
    "mse_vol_00[!, :index] = 1:218\n",
    "gbvol_00 = mse_vol_00[exc_00, [:index, :GastoBasico, :volatility, :Ponderacion]]"
   ]
  },
  {
   "cell_type": "code",
   "execution_count": 95,
   "metadata": {},
   "outputs": [
    {
     "data": {
      "text/html": [
       "<div class=\"data-frame\"><p>6 rows × 4 columns</p><table class=\"data-frame\"><thead><tr><th></th><th>index</th><th>GastoBasico</th><th>volatility</th><th>Ponderacion</th></tr><tr><th></th><th title=\"Int64\">Int64</th><th title=\"String\">String</th><th title=\"Float32\">Float32</th><th title=\"Float64\">Float64</th></tr></thead><tbody><tr><th>1</th><td>29</td><td>Tomate</td><td>32.7544</td><td>0.92386</td></tr><tr><th>2</th><td>116</td><td>Gas propano</td><td>27.3757</td><td>1.19963</td></tr><tr><th>3</th><td>31</td><td>Chile pimiento</td><td>27.937</td><td>0.05247</td></tr><tr><th>4</th><td>46</td><td>Culantro</td><td>30.3996</td><td>0.03903</td></tr><tr><th>5</th><td>39</td><td>Cebolla</td><td>29.4752</td><td>0.33668</td></tr><tr><th>6</th><td>40</td><td>Papa</td><td>20.1433</td><td>0.50577</td></tr></tbody></table></div>"
      ],
      "text/latex": [
       "\\begin{tabular}{r|cccc}\n",
       "\t& index & GastoBasico & volatility & Ponderacion\\\\\n",
       "\t\\hline\n",
       "\t& Int64 & String & Float32 & Float64\\\\\n",
       "\t\\hline\n",
       "\t1 & 29 & Tomate & 32.7544 & 0.92386 \\\\\n",
       "\t2 & 116 & Gas propano & 27.3757 & 1.19963 \\\\\n",
       "\t3 & 31 & Chile pimiento & 27.937 & 0.05247 \\\\\n",
       "\t4 & 46 & Culantro & 30.3996 & 0.03903 \\\\\n",
       "\t5 & 39 & Cebolla & 29.4752 & 0.33668 \\\\\n",
       "\t6 & 40 & Papa & 20.1433 & 0.50577 \\\\\n",
       "\\end{tabular}\n"
      ],
      "text/plain": [
       "\u001b[1m6×4 DataFrame\u001b[0m\n",
       "\u001b[1m Row \u001b[0m│\u001b[1m index \u001b[0m\u001b[1m GastoBasico    \u001b[0m\u001b[1m volatility \u001b[0m\u001b[1m Ponderacion \u001b[0m\n",
       "\u001b[1m     \u001b[0m│\u001b[90m Int64 \u001b[0m\u001b[90m String         \u001b[0m\u001b[90m Float32    \u001b[0m\u001b[90m Float64     \u001b[0m\n",
       "─────┼────────────────────────────────────────────────\n",
       "   1 │    29  Tomate             32.7544      0.92386\n",
       "   2 │   116  Gas propano        27.3757      1.19963\n",
       "   3 │    31  Chile pimiento     27.937       0.05247\n",
       "   4 │    46  Culantro           30.3996      0.03903\n",
       "   5 │    39  Cebolla            29.4752      0.33668\n",
       "   6 │    40  Papa               20.1433      0.50577"
      ]
     },
     "metadata": {},
     "output_type": "display_data"
    }
   ],
   "source": [
    "mse_vol_10 = copy(gt10gb)\n",
    "mse_vol_10[!, :volatility] = vec(vol_10)\n",
    "mse_vol_10[!, :index] = 1:279\n",
    "gbvol_10 = mse_vol_10[exc_10, [:index, :GastoBasico, :volatility, :Ponderacion]]"
   ]
  },
  {
   "cell_type": "code",
   "execution_count": 96,
   "metadata": {},
   "outputs": [
    {
     "name": "stderr",
     "output_type": "stream",
     "text": [
      "┌ Info: Saving file with ISO-8859-1\n",
      "│   file = c:\\Users\\RRCP\\Documents\\HEMI\\HEMI\\data\\updates\\volatility\\absme_00.csv\n",
      "└ @ Main c:\\Users\\RRCP\\Documents\\HEMI\\HEMI\\notebooks\\historic-combination-metrics\\volatility-fixed-exclusion.ipynb:3\n",
      "┌ Info: Saving file with ISO-8859-1\n",
      "│   file = c:\\Users\\RRCP\\Documents\\HEMI\\HEMI\\data\\updates\\volatility\\absme_10.csv\n",
      "└ @ Main c:\\Users\\RRCP\\Documents\\HEMI\\HEMI\\notebooks\\historic-combination-metrics\\volatility-fixed-exclusion.ipynb:3\n"
     ]
    },
    {
     "data": {
      "text/plain": [
       "StringEncoder{UTF-8, ISO-8859-1}(IOStream(<file c:\\Users\\RRCP\\Documents\\HEMI\\HEMI\\data\\updates\\volatility\\absme_10.csv>))"
      ]
     },
     "metadata": {},
     "output_type": "display_data"
    }
   ],
   "source": [
    "save_csv(joinpath(savepath, \"absme_00.csv\"), gbvol_00)\n",
    "save_csv(joinpath(savepath, \"absme_10.csv\"), gbvol_10)"
   ]
  },
  {
   "cell_type": "markdown",
   "metadata": {},
   "source": [
    "## Medidas de exclusión fija óptima CORR"
   ]
  },
  {
   "cell_type": "code",
   "execution_count": 97,
   "metadata": {},
   "outputs": [
    {
     "data": {
      "text/html": [
       "<div class=\"data-frame\"><p>7 rows × 2 columns</p><table class=\"data-frame\"><thead><tr><th></th><th>measure</th><th>weights</th></tr><tr><th></th><th title=\"String\">String</th><th title=\"Float32\">Float32</th></tr></thead><tbody><tr><th>1</th><td>Percentil ponderado 80.96</td><td>3.93042e-5</td></tr><tr><th>2</th><td>Inflación de exclusión dinámica (0.47, 4.97)</td><td>0.00194286</td></tr><tr><th>3</th><td>Media Truncada Ponderada (46.44, 98.55)</td><td>0.0</td></tr><tr><th>4</th><td>Percentil equiponderado 77.25</td><td>0.19322</td></tr><tr><th>5</th><td>MAI óptima de correlación 2018</td><td>0.336925</td></tr><tr><th>6</th><td>Media Truncada Equiponderada (55.91, 92.18)</td><td>0.467873</td></tr><tr><th>7</th><td>Exclusión fija de gastos básicos IPC (12, 52)</td><td>0.0</td></tr></tbody></table></div>"
      ],
      "text/latex": [
       "\\begin{tabular}{r|cc}\n",
       "\t& measure & weights\\\\\n",
       "\t\\hline\n",
       "\t& String & Float32\\\\\n",
       "\t\\hline\n",
       "\t1 & Percentil ponderado 80.96 & 3.93042e-5 \\\\\n",
       "\t2 & Inflación de exclusión dinámica (0.47, 4.97) & 0.00194286 \\\\\n",
       "\t3 & Media Truncada Ponderada (46.44, 98.55) & 0.0 \\\\\n",
       "\t4 & Percentil equiponderado 77.25 & 0.19322 \\\\\n",
       "\t5 & MAI óptima de correlación 2018 & 0.336925 \\\\\n",
       "\t6 & Media Truncada Equiponderada (55.91, 92.18) & 0.467873 \\\\\n",
       "\t7 & Exclusión fija de gastos básicos IPC (12, 52) & 0.0 \\\\\n",
       "\\end{tabular}\n"
      ],
      "text/plain": [
       "\u001b[1m7×2 DataFrame\u001b[0m\n",
       "\u001b[1m Row \u001b[0m│\u001b[1m measure                           \u001b[0m\u001b[1m weights    \u001b[0m\n",
       "\u001b[1m     \u001b[0m│\u001b[90m String                            \u001b[0m\u001b[90m Float32    \u001b[0m\n",
       "─────┼───────────────────────────────────────────────\n",
       "   1 │ Percentil ponderado 80.96          3.93042e-5\n",
       "   2 │ Inflación de exclusión dinámica …  0.00194286\n",
       "   3 │ Media Truncada Ponderada (46.44,…  0.0\n",
       "   4 │ Percentil equiponderado 77.25      0.19322\n",
       "   5 │ MAI óptima de correlación 2018     0.336925\n",
       "   6 │ Media Truncada Equiponderada (55…  0.467873\n",
       "   7 │ Exclusión fija de gastos básicos…  0.0"
      ]
     },
     "metadata": {},
     "output_type": "display_data"
    }
   ],
   "source": [
    "optcorr2022 = wload(datadir(\"results\", \"corr-combination\", \"Esc-F\", \"optcorr2022\", \"optcorr2022.jld2\"), \"optcorr2022\")\n",
    "components(optcorr2022)"
   ]
  },
  {
   "cell_type": "code",
   "execution_count": 98,
   "metadata": {},
   "outputs": [
    {
     "data": {
      "text/plain": [
       "([35, 30, 190, 36, 37, 40, 31, 104, 162, 32, 33, 159], [29, 116, 31, 46, 39, 40, 186, 30, 35, 185  …  23, 268, 9, 36, 236, 78, 20, 213, 273, 26])"
      ]
     },
     "metadata": {},
     "output_type": "display_data"
    }
   ],
   "source": [
    "optcorr_fns = optcorr2022.ensemble.functions\n",
    "fixed_mask = [fn isa InflationFixedExclusionCPI for fn in optcorr_fns]\n",
    "fix_fn = optcorr_fns[fixed_mask][1]\n",
    "\n",
    "exc_00, exc_10 = fix_fn.v_exc"
   ]
  },
  {
   "cell_type": "code",
   "execution_count": 99,
   "metadata": {},
   "outputs": [
    {
     "data": {
      "text/html": [
       "<div class=\"data-frame\"><p>12 rows × 4 columns (omitted printing of 2 columns)</p><table class=\"data-frame\"><thead><tr><th></th><th>index</th><th>GastoBasico</th></tr><tr><th></th><th title=\"Int64\">Int64</th><th title=\"String\">String</th></tr></thead><tbody><tr><th>1</th><td>35</td><td>Cebolla</td></tr><tr><th>2</th><td>30</td><td>Tomate</td></tr><tr><th>3</th><td>190</td><td>Otras cuotas fijas y extraordinarias en la educaión preprimaria y primaria</td></tr><tr><th>4</th><td>36</td><td>Papa o patata</td></tr><tr><th>5</th><td>37</td><td>Zanahoria</td></tr><tr><th>6</th><td>40</td><td>Culantro o cilantro</td></tr><tr><th>7</th><td>31</td><td>Güisquil</td></tr><tr><th>8</th><td>104</td><td>Gastos derivados del gas manufacturado y natural y gases licuados del petróleo</td></tr><tr><th>9</th><td>162</td><td>Transporte aéreo</td></tr><tr><th>10</th><td>32</td><td>Otras verduras y hortalizas</td></tr><tr><th>11</th><td>33</td><td>Frijol</td></tr><tr><th>12</th><td>159</td><td>Gasolina</td></tr></tbody></table></div>"
      ],
      "text/latex": [
       "\\begin{tabular}{r|ccc}\n",
       "\t& index & GastoBasico & \\\\\n",
       "\t\\hline\n",
       "\t& Int64 & String & \\\\\n",
       "\t\\hline\n",
       "\t1 & 35 & Cebolla & $\\dots$ \\\\\n",
       "\t2 & 30 & Tomate & $\\dots$ \\\\\n",
       "\t3 & 190 & Otras cuotas fijas y extraordinarias en la educaión preprimaria y primaria & $\\dots$ \\\\\n",
       "\t4 & 36 & Papa o patata & $\\dots$ \\\\\n",
       "\t5 & 37 & Zanahoria & $\\dots$ \\\\\n",
       "\t6 & 40 & Culantro o cilantro & $\\dots$ \\\\\n",
       "\t7 & 31 & Güisquil & $\\dots$ \\\\\n",
       "\t8 & 104 & Gastos derivados del gas manufacturado y natural y gases licuados del petróleo & $\\dots$ \\\\\n",
       "\t9 & 162 & Transporte aéreo & $\\dots$ \\\\\n",
       "\t10 & 32 & Otras verduras y hortalizas & $\\dots$ \\\\\n",
       "\t11 & 33 & Frijol & $\\dots$ \\\\\n",
       "\t12 & 159 & Gasolina & $\\dots$ \\\\\n",
       "\\end{tabular}\n"
      ],
      "text/plain": [
       "\u001b[1m12×4 DataFrame\u001b[0m\n",
       "\u001b[1m Row \u001b[0m│\u001b[1m index \u001b[0m\u001b[1m GastoBasico                       \u001b[0m\n",
       "\u001b[1m     \u001b[0m│\u001b[90m Int64 \u001b[0m\u001b[90m String                            \u001b[0m\n",
       "─────┼────────────────────────────────────────────────\n",
       "   1 │    35  Cebolla\n",
       "   2 │    30  Tomate\n",
       "   3 │   190  Otras cuotas fijas y extraordina…\n",
       "   4 │    36  Papa o patata\n",
       "   5 │    37  Zanahoria\n",
       "   6 │    40  Culantro o cilantro\n",
       "   7 │    31  Güisquil\n",
       "   8 │   104  Gastos derivados del gas manufac…\n",
       "   9 │   162  Transporte aéreo\n",
       "  10 │    32  Otras verduras y hortalizas\n",
       "  11 │    33  Frijol\n",
       "  12 │   159  Gasolina\n",
       "\u001b[36m                                     2 columns omitted\u001b[0m"
      ]
     },
     "metadata": {},
     "output_type": "display_data"
    }
   ],
   "source": [
    "mse_vol_00 = copy(gt00gb)\n",
    "mse_vol_00[!, :volatility] = vec(vol_00)\n",
    "mse_vol_00[!, :index] = 1:218\n",
    "gbvol_00 = mse_vol_00[exc_00, [:index, :GastoBasico, :volatility, :Ponderacion]]"
   ]
  },
  {
   "cell_type": "code",
   "execution_count": 100,
   "metadata": {},
   "outputs": [
    {
     "data": {
      "text/html": [
       "<div class=\"data-frame\"><p>52 rows × 4 columns</p><table class=\"data-frame\"><thead><tr><th></th><th>index</th><th>GastoBasico</th><th>volatility</th><th>Ponderacion</th></tr><tr><th></th><th title=\"Int64\">Int64</th><th title=\"String\">String</th><th title=\"Float32\">Float32</th><th title=\"Float64\">Float64</th></tr></thead><tbody><tr><th>1</th><td>29</td><td>Tomate</td><td>32.7544</td><td>0.92386</td></tr><tr><th>2</th><td>116</td><td>Gas propano</td><td>27.3757</td><td>1.19963</td></tr><tr><th>3</th><td>31</td><td>Chile pimiento</td><td>27.937</td><td>0.05247</td></tr><tr><th>4</th><td>46</td><td>Culantro</td><td>30.3996</td><td>0.03903</td></tr><tr><th>5</th><td>39</td><td>Cebolla</td><td>29.4752</td><td>0.33668</td></tr><tr><th>6</th><td>40</td><td>Papa</td><td>20.1433</td><td>0.50577</td></tr><tr><th>7</th><td>186</td><td>Diesel</td><td>17.4824</td><td>0.13937</td></tr><tr><th>8</th><td>30</td><td>Güisquil</td><td>17.5603</td><td>0.1709</td></tr><tr><th>9</th><td>35</td><td>Lechuga</td><td>17.1702</td><td>0.03506</td></tr><tr><th>10</th><td>185</td><td>Gasolina regular</td><td>13.9042</td><td>0.6952</td></tr><tr><th>11</th><td>197</td><td>Servicio de transporte aéreo</td><td>16.5078</td><td>0.12482</td></tr><tr><th>12</th><td>34</td><td>Repollo</td><td>13.4328</td><td>0.06225</td></tr><tr><th>13</th><td>48</td><td>Otras legumbres y hortalizas</td><td>13.754</td><td>0.11258</td></tr><tr><th>14</th><td>184</td><td>Gasolina superior</td><td>13.2949</td><td>2.06641</td></tr><tr><th>15</th><td>41</td><td>Zanahoria</td><td>15.4421</td><td>0.11521</td></tr><tr><th>16</th><td>47</td><td>Hierbabuena</td><td>16.9175</td><td>0.00774</td></tr><tr><th>17</th><td>37</td><td>Ejotes</td><td>13.4139</td><td>0.06273</td></tr><tr><th>18</th><td>22</td><td>Aguacate</td><td>15.0987</td><td>0.16707</td></tr><tr><th>19</th><td>25</td><td>Naranja</td><td>12.3335</td><td>0.06213</td></tr><tr><th>20</th><td>229</td><td>Presentaciones artísticas</td><td>11.4537</td><td>0.0685</td></tr><tr><th>21</th><td>38</td><td>Elote</td><td>11.9691</td><td>0.0469</td></tr><tr><th>22</th><td>32</td><td>Pepino</td><td>11.4826</td><td>0.04363</td></tr><tr><th>23</th><td>274</td><td>Creditos de consumo (tarjeta de crédito)</td><td>8.70896</td><td>0.07885</td></tr><tr><th>24</th><td>3</td><td>Maíz</td><td>9.25578</td><td>1.33671</td></tr><tr><th>&vellip;</th><td>&vellip;</td><td>&vellip;</td><td>&vellip;</td><td>&vellip;</td></tr></tbody></table></div>"
      ],
      "text/latex": [
       "\\begin{tabular}{r|cccc}\n",
       "\t& index & GastoBasico & volatility & Ponderacion\\\\\n",
       "\t\\hline\n",
       "\t& Int64 & String & Float32 & Float64\\\\\n",
       "\t\\hline\n",
       "\t1 & 29 & Tomate & 32.7544 & 0.92386 \\\\\n",
       "\t2 & 116 & Gas propano & 27.3757 & 1.19963 \\\\\n",
       "\t3 & 31 & Chile pimiento & 27.937 & 0.05247 \\\\\n",
       "\t4 & 46 & Culantro & 30.3996 & 0.03903 \\\\\n",
       "\t5 & 39 & Cebolla & 29.4752 & 0.33668 \\\\\n",
       "\t6 & 40 & Papa & 20.1433 & 0.50577 \\\\\n",
       "\t7 & 186 & Diesel & 17.4824 & 0.13937 \\\\\n",
       "\t8 & 30 & Güisquil & 17.5603 & 0.1709 \\\\\n",
       "\t9 & 35 & Lechuga & 17.1702 & 0.03506 \\\\\n",
       "\t10 & 185 & Gasolina regular & 13.9042 & 0.6952 \\\\\n",
       "\t11 & 197 & Servicio de transporte aéreo & 16.5078 & 0.12482 \\\\\n",
       "\t12 & 34 & Repollo & 13.4328 & 0.06225 \\\\\n",
       "\t13 & 48 & Otras legumbres y hortalizas & 13.754 & 0.11258 \\\\\n",
       "\t14 & 184 & Gasolina superior & 13.2949 & 2.06641 \\\\\n",
       "\t15 & 41 & Zanahoria & 15.4421 & 0.11521 \\\\\n",
       "\t16 & 47 & Hierbabuena & 16.9175 & 0.00774 \\\\\n",
       "\t17 & 37 & Ejotes & 13.4139 & 0.06273 \\\\\n",
       "\t18 & 22 & Aguacate & 15.0987 & 0.16707 \\\\\n",
       "\t19 & 25 & Naranja & 12.3335 & 0.06213 \\\\\n",
       "\t20 & 229 & Presentaciones artísticas & 11.4537 & 0.0685 \\\\\n",
       "\t21 & 38 & Elote & 11.9691 & 0.0469 \\\\\n",
       "\t22 & 32 & Pepino & 11.4826 & 0.04363 \\\\\n",
       "\t23 & 274 & Creditos de consumo (tarjeta de crédito) & 8.70896 & 0.07885 \\\\\n",
       "\t24 & 3 & Maíz & 9.25578 & 1.33671 \\\\\n",
       "\t$\\dots$ & $\\dots$ & $\\dots$ & $\\dots$ & $\\dots$ \\\\\n",
       "\\end{tabular}\n"
      ],
      "text/plain": [
       "\u001b[1m52×4 DataFrame\u001b[0m\n",
       "\u001b[1m Row \u001b[0m│\u001b[1m index \u001b[0m\u001b[1m GastoBasico                       \u001b[0m\u001b[1m volatility \u001b[0m\u001b[1m Ponderacion \u001b[0m\n",
       "\u001b[1m     \u001b[0m│\u001b[90m Int64 \u001b[0m\u001b[90m String                            \u001b[0m\u001b[90m Float32    \u001b[0m\u001b[90m Float64     \u001b[0m\n",
       "─────┼───────────────────────────────────────────────────────────────────\n",
       "   1 │    29  Tomate                               32.7544       0.92386\n",
       "   2 │   116  Gas propano                          27.3757       1.19963\n",
       "   3 │    31  Chile pimiento                       27.937        0.05247\n",
       "   4 │    46  Culantro                             30.3996       0.03903\n",
       "   5 │    39  Cebolla                              29.4752       0.33668\n",
       "   6 │    40  Papa                                 20.1433       0.50577\n",
       "   7 │   186  Diesel                               17.4824       0.13937\n",
       "   8 │    30  Güisquil                             17.5603       0.1709\n",
       "  ⋮  │   ⋮                    ⋮                      ⋮            ⋮\n",
       "  46 │    36  Frijol                                6.84834      1.43142\n",
       "  47 │   236  Servicios de viajes todo incluid…     5.39302      0.40299\n",
       "  48 │    78  Cerveza                               3.98878      0.15639\n",
       "  49 │    20  Margarina                             4.63957      0.06572\n",
       "  50 │   213  Unidad de respaldo magnético          4.74737      0.05021\n",
       "  51 │   273  Seguro                                4.09368      0.26618\n",
       "  52 │    26  Plátano                               6.30058      0.1739\n",
       "\u001b[36m                                                          37 rows omitted\u001b[0m"
      ]
     },
     "metadata": {},
     "output_type": "display_data"
    }
   ],
   "source": [
    "mse_vol_10 = copy(gt10gb)\n",
    "mse_vol_10[!, :volatility] = vec(vol_10)\n",
    "mse_vol_10[!, :index] = 1:279\n",
    "gbvol_10 = mse_vol_10[exc_10, [:index, :GastoBasico, :volatility, :Ponderacion]]"
   ]
  },
  {
   "cell_type": "code",
   "execution_count": 101,
   "metadata": {},
   "outputs": [
    {
     "name": "stderr",
     "output_type": "stream",
     "text": [
      "┌ Info: Saving file with ISO-8859-1\n",
      "│   file = c:\\Users\\RRCP\\Documents\\HEMI\\HEMI\\data\\updates\\volatility\\corr_00.csv\n",
      "└ @ Main c:\\Users\\RRCP\\Documents\\HEMI\\HEMI\\notebooks\\historic-combination-metrics\\volatility-fixed-exclusion.ipynb:3\n",
      "┌ Info: Saving file with ISO-8859-1\n",
      "│   file = c:\\Users\\RRCP\\Documents\\HEMI\\HEMI\\data\\updates\\volatility\\corr_10.csv\n",
      "└ @ Main c:\\Users\\RRCP\\Documents\\HEMI\\HEMI\\notebooks\\historic-combination-metrics\\volatility-fixed-exclusion.ipynb:3\n"
     ]
    },
    {
     "data": {
      "text/plain": [
       "StringEncoder{UTF-8, ISO-8859-1}(IOStream(<file c:\\Users\\RRCP\\Documents\\HEMI\\HEMI\\data\\updates\\volatility\\corr_10.csv>))"
      ]
     },
     "metadata": {},
     "output_type": "display_data"
    }
   ],
   "source": [
    "save_csv(joinpath(savepath, \"corr_00.csv\"), gbvol_00)\n",
    "save_csv(joinpath(savepath, \"corr_10.csv\"), gbvol_10)"
   ]
  }
 ],
 "metadata": {
  "kernelspec": {
   "display_name": "Julia 1.6.4",
   "language": "julia",
   "name": "julia-1.6"
  },
  "language_info": {
   "file_extension": ".jl",
   "mimetype": "application/julia",
   "name": "julia",
   "version": "1.6.4"
  },
  "orig_nbformat": 4
 },
 "nbformat": 4,
 "nbformat_minor": 2
}
